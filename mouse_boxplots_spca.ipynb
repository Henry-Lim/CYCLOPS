{
 "cells": [
  {
   "cell_type": "markdown",
   "metadata": {},
   "source": [
    "# CYCLOPS on Mouse Liver Data (Boxplot: Sparse PCA)"
   ]
  },
  {
   "cell_type": "markdown",
   "metadata": {},
   "source": [
    "## 1. Importing packages"
   ]
  },
  {
   "cell_type": "code",
   "execution_count": 1,
   "metadata": {
    "collapsed": true
   },
   "outputs": [],
   "source": [
    "from cyclops_v2 import *\n",
    "from spca import *\n",
    "\n",
    "import numpy as np\n",
    "import pandas as pd\n",
    "import matplotlib.pyplot as plt\n",
    "%matplotlib inline"
   ]
  },
  {
   "cell_type": "markdown",
   "metadata": {},
   "source": [
    "## 2. Loading data"
   ]
  },
  {
   "cell_type": "markdown",
   "metadata": {},
   "source": [
    "Read the Mouse Liver data into a pandas dataframe:"
   ]
  },
  {
   "cell_type": "code",
   "execution_count": 2,
   "metadata": {
    "collapsed": true
   },
   "outputs": [],
   "source": [
    "df = pd.read_csv(\"mouseLiver.csv\").T\n",
    "df = df.iloc[1:,:]"
   ]
  },
  {
   "cell_type": "code",
   "execution_count": 3,
   "metadata": {},
   "outputs": [
    {
     "name": "stdout",
     "output_type": "stream",
     "text": [
      "Running on 14312 genes and 48 cells.\n"
     ]
    }
   ],
   "source": [
    "ng = df.shape[1]\n",
    "nc = df.shape[0]\n",
    "print(\"Running on {} genes and {} cells.\".format(ng,nc))"
   ]
  },
  {
   "cell_type": "markdown",
   "metadata": {},
   "source": [
    "## 3. Data Preprocessing"
   ]
  },
  {
   "cell_type": "markdown",
   "metadata": {},
   "source": [
    "Filter and sort genes in descending order of variance:"
   ]
  },
  {
   "cell_type": "code",
   "execution_count": 4,
   "metadata": {},
   "outputs": [
    {
     "name": "stdout",
     "output_type": "stream",
     "text": [
      "<class 'pandas.core.frame.DataFrame'>\n",
      "Int64Index: 14312 entries, 4414 to 146\n",
      "Data columns (total 1 columns):\n",
      " #   Column  Non-Null Count  Dtype  \n",
      "---  ------  --------------  -----  \n",
      " 0   0       14312 non-null  float64\n",
      "dtypes: float64(1)\n",
      "memory usage: 223.6 KB\n"
     ]
    }
   ],
   "source": [
    "frac = 1.00\n",
    "\n",
    "df_std = pd.DataFrame(df.std().sort_values(ascending=False))\n",
    "df_std = df_std.iloc[:round(df_std.shape[0]*frac),:]\n",
    "df_std.info()"
   ]
  },
  {
   "cell_type": "code",
   "execution_count": 5,
   "metadata": {
    "collapsed": true
   },
   "outputs": [],
   "source": [
    "gene_list = df_std.index.to_numpy()\n",
    "gene_list;"
   ]
  },
  {
   "cell_type": "code",
   "execution_count": 6,
   "metadata": {},
   "outputs": [
    {
     "data": {
      "text/plain": [
       "(48, 14312)"
      ]
     },
     "execution_count": 6,
     "metadata": {},
     "output_type": "execute_result"
    }
   ],
   "source": [
    "data = df.to_numpy().T\n",
    "\n",
    "newdata = np.zeros([len(gene_list),nc])\n",
    "for i in range(len(gene_list)):\n",
    "    newdata[i] = data[gene_list[i]]\n",
    "newdata = pd.DataFrame(newdata.T)\n",
    "newdata.shape"
   ]
  },
  {
   "cell_type": "markdown",
   "metadata": {},
   "source": [
    "Before performing dimensionality reduction, the dataset has to be __centered__ to zero mean:"
   ]
  },
  {
   "cell_type": "code",
   "execution_count": 7,
   "metadata": {},
   "outputs": [
    {
     "data": {
      "text/html": [
       "<div>\n",
       "<style scoped>\n",
       "    .dataframe tbody tr th:only-of-type {\n",
       "        vertical-align: middle;\n",
       "    }\n",
       "\n",
       "    .dataframe tbody tr th {\n",
       "        vertical-align: top;\n",
       "    }\n",
       "\n",
       "    .dataframe thead th {\n",
       "        text-align: right;\n",
       "    }\n",
       "</style>\n",
       "<table border=\"1\" class=\"dataframe\">\n",
       "  <thead>\n",
       "    <tr style=\"text-align: right;\">\n",
       "      <th></th>\n",
       "      <th>0</th>\n",
       "      <th>1</th>\n",
       "      <th>2</th>\n",
       "      <th>3</th>\n",
       "      <th>4</th>\n",
       "      <th>5</th>\n",
       "      <th>6</th>\n",
       "      <th>7</th>\n",
       "      <th>8</th>\n",
       "      <th>9</th>\n",
       "      <th>...</th>\n",
       "      <th>14302</th>\n",
       "      <th>14303</th>\n",
       "      <th>14304</th>\n",
       "      <th>14305</th>\n",
       "      <th>14306</th>\n",
       "      <th>14307</th>\n",
       "      <th>14308</th>\n",
       "      <th>14309</th>\n",
       "      <th>14310</th>\n",
       "      <th>14311</th>\n",
       "    </tr>\n",
       "  </thead>\n",
       "  <tbody>\n",
       "    <tr>\n",
       "      <th>0</th>\n",
       "      <td>-1.074904</td>\n",
       "      <td>-1.346862</td>\n",
       "      <td>-0.435143</td>\n",
       "      <td>0.581335</td>\n",
       "      <td>0.291266</td>\n",
       "      <td>-0.404934</td>\n",
       "      <td>-0.572699</td>\n",
       "      <td>-0.080760</td>\n",
       "      <td>-0.366932</td>\n",
       "      <td>0.833576</td>\n",
       "      <td>...</td>\n",
       "      <td>0.041128</td>\n",
       "      <td>-0.031751</td>\n",
       "      <td>-0.024382</td>\n",
       "      <td>-0.031903</td>\n",
       "      <td>-0.009015</td>\n",
       "      <td>-0.012072</td>\n",
       "      <td>0.053372</td>\n",
       "      <td>-0.013453</td>\n",
       "      <td>0.000146</td>\n",
       "      <td>0.038209</td>\n",
       "    </tr>\n",
       "    <tr>\n",
       "      <th>1</th>\n",
       "      <td>-1.325239</td>\n",
       "      <td>-1.478688</td>\n",
       "      <td>-0.945180</td>\n",
       "      <td>-0.105732</td>\n",
       "      <td>0.199204</td>\n",
       "      <td>-0.312123</td>\n",
       "      <td>-0.350296</td>\n",
       "      <td>-0.312390</td>\n",
       "      <td>-0.287158</td>\n",
       "      <td>0.804969</td>\n",
       "      <td>...</td>\n",
       "      <td>-0.013596</td>\n",
       "      <td>-0.044556</td>\n",
       "      <td>0.037694</td>\n",
       "      <td>-0.049372</td>\n",
       "      <td>-0.034169</td>\n",
       "      <td>-0.042825</td>\n",
       "      <td>-0.026114</td>\n",
       "      <td>-0.019841</td>\n",
       "      <td>0.028850</td>\n",
       "      <td>0.027483</td>\n",
       "    </tr>\n",
       "    <tr>\n",
       "      <th>2</th>\n",
       "      <td>-1.467395</td>\n",
       "      <td>-1.152329</td>\n",
       "      <td>-0.665212</td>\n",
       "      <td>0.202131</td>\n",
       "      <td>0.111784</td>\n",
       "      <td>-0.396584</td>\n",
       "      <td>-0.252562</td>\n",
       "      <td>0.372546</td>\n",
       "      <td>-0.382673</td>\n",
       "      <td>0.879127</td>\n",
       "      <td>...</td>\n",
       "      <td>0.021382</td>\n",
       "      <td>-0.035407</td>\n",
       "      <td>0.084209</td>\n",
       "      <td>-0.020760</td>\n",
       "      <td>-0.001642</td>\n",
       "      <td>-0.027141</td>\n",
       "      <td>0.000635</td>\n",
       "      <td>-0.043749</td>\n",
       "      <td>0.028964</td>\n",
       "      <td>0.008027</td>\n",
       "    </tr>\n",
       "    <tr>\n",
       "      <th>3</th>\n",
       "      <td>-1.796292</td>\n",
       "      <td>-1.381943</td>\n",
       "      <td>-0.281816</td>\n",
       "      <td>-0.385229</td>\n",
       "      <td>-0.180603</td>\n",
       "      <td>-0.444568</td>\n",
       "      <td>-0.191849</td>\n",
       "      <td>-0.311879</td>\n",
       "      <td>-0.344652</td>\n",
       "      <td>0.879681</td>\n",
       "      <td>...</td>\n",
       "      <td>0.020232</td>\n",
       "      <td>0.030110</td>\n",
       "      <td>0.072721</td>\n",
       "      <td>0.013116</td>\n",
       "      <td>0.044191</td>\n",
       "      <td>-0.016357</td>\n",
       "      <td>-0.010383</td>\n",
       "      <td>-0.014354</td>\n",
       "      <td>0.008147</td>\n",
       "      <td>0.009505</td>\n",
       "    </tr>\n",
       "    <tr>\n",
       "      <th>4</th>\n",
       "      <td>-1.986607</td>\n",
       "      <td>-1.288099</td>\n",
       "      <td>-1.167620</td>\n",
       "      <td>-1.071924</td>\n",
       "      <td>-0.228164</td>\n",
       "      <td>-0.524226</td>\n",
       "      <td>-0.173404</td>\n",
       "      <td>-0.820587</td>\n",
       "      <td>-0.269711</td>\n",
       "      <td>0.805292</td>\n",
       "      <td>...</td>\n",
       "      <td>0.026128</td>\n",
       "      <td>-0.007750</td>\n",
       "      <td>-0.035430</td>\n",
       "      <td>-0.015456</td>\n",
       "      <td>0.060803</td>\n",
       "      <td>-0.066397</td>\n",
       "      <td>0.025762</td>\n",
       "      <td>-0.028815</td>\n",
       "      <td>0.043894</td>\n",
       "      <td>-0.001865</td>\n",
       "    </tr>\n",
       "  </tbody>\n",
       "</table>\n",
       "<p>5 rows × 14312 columns</p>\n",
       "</div>"
      ],
      "text/plain": [
       "      0         1         2         3         4         5         6      \\\n",
       "0 -1.074904 -1.346862 -0.435143  0.581335  0.291266 -0.404934 -0.572699   \n",
       "1 -1.325239 -1.478688 -0.945180 -0.105732  0.199204 -0.312123 -0.350296   \n",
       "2 -1.467395 -1.152329 -0.665212  0.202131  0.111784 -0.396584 -0.252562   \n",
       "3 -1.796292 -1.381943 -0.281816 -0.385229 -0.180603 -0.444568 -0.191849   \n",
       "4 -1.986607 -1.288099 -1.167620 -1.071924 -0.228164 -0.524226 -0.173404   \n",
       "\n",
       "      7         8         9      ...     14302     14303     14304     14305  \\\n",
       "0 -0.080760 -0.366932  0.833576  ...  0.041128 -0.031751 -0.024382 -0.031903   \n",
       "1 -0.312390 -0.287158  0.804969  ... -0.013596 -0.044556  0.037694 -0.049372   \n",
       "2  0.372546 -0.382673  0.879127  ...  0.021382 -0.035407  0.084209 -0.020760   \n",
       "3 -0.311879 -0.344652  0.879681  ...  0.020232  0.030110  0.072721  0.013116   \n",
       "4 -0.820587 -0.269711  0.805292  ...  0.026128 -0.007750 -0.035430 -0.015456   \n",
       "\n",
       "      14306     14307     14308     14309     14310     14311  \n",
       "0 -0.009015 -0.012072  0.053372 -0.013453  0.000146  0.038209  \n",
       "1 -0.034169 -0.042825 -0.026114 -0.019841  0.028850  0.027483  \n",
       "2 -0.001642 -0.027141  0.000635 -0.043749  0.028964  0.008027  \n",
       "3  0.044191 -0.016357 -0.010383 -0.014354  0.008147  0.009505  \n",
       "4  0.060803 -0.066397  0.025762 -0.028815  0.043894 -0.001865  \n",
       "\n",
       "[5 rows x 14312 columns]"
      ]
     },
     "execution_count": 7,
     "metadata": {},
     "output_type": "execute_result"
    }
   ],
   "source": [
    "df_cent = newdata.transform(lambda x: x-x.mean())\n",
    "df_cent.head()"
   ]
  },
  {
   "cell_type": "markdown",
   "metadata": {},
   "source": [
    "## Karthik's SPCA"
   ]
  },
  {
   "cell_type": "markdown",
   "metadata": {},
   "source": [
    "#### Convert the dataframe to a numpy array:"
   ]
  },
  {
   "cell_type": "code",
   "execution_count": 8,
   "metadata": {
    "collapsed": true
   },
   "outputs": [],
   "source": [
    "data_ = df_cent.to_numpy()"
   ]
  },
  {
   "cell_type": "markdown",
   "metadata": {},
   "source": [
    "#### _t_ controls alpha, _ rank_ controls n_components"
   ]
  },
  {
   "cell_type": "code",
   "execution_count": 9,
   "metadata": {
    "collapsed": true
   },
   "outputs": [],
   "source": [
    "n_components = 9\n",
    "alpha = 8\n",
    "test = rank_n_o(data_, t=alpha, tol=10e-4, rank=n_components)"
   ]
  },
  {
   "cell_type": "code",
   "execution_count": 10,
   "metadata": {
    "collapsed": true
   },
   "outputs": [],
   "source": [
    "for k, v in test.items():\n",
    "    if k=='XV':\n",
    "        spca_eigengenes = pd.DataFrame(v)\n",
    "    if k=='V':\n",
    "        loading_vectors = pd.DataFrame(v)"
   ]
  },
  {
   "cell_type": "markdown",
   "metadata": {},
   "source": [
    "#### Loading vectors:"
   ]
  },
  {
   "cell_type": "code",
   "execution_count": 11,
   "metadata": {},
   "outputs": [
    {
     "data": {
      "text/html": [
       "<div>\n",
       "<style scoped>\n",
       "    .dataframe tbody tr th:only-of-type {\n",
       "        vertical-align: middle;\n",
       "    }\n",
       "\n",
       "    .dataframe tbody tr th {\n",
       "        vertical-align: top;\n",
       "    }\n",
       "\n",
       "    .dataframe thead th {\n",
       "        text-align: right;\n",
       "    }\n",
       "</style>\n",
       "<table border=\"1\" class=\"dataframe\">\n",
       "  <thead>\n",
       "    <tr style=\"text-align: right;\">\n",
       "      <th></th>\n",
       "      <th>0</th>\n",
       "      <th>1</th>\n",
       "      <th>2</th>\n",
       "      <th>3</th>\n",
       "      <th>4</th>\n",
       "      <th>5</th>\n",
       "      <th>6</th>\n",
       "      <th>7</th>\n",
       "      <th>8</th>\n",
       "    </tr>\n",
       "  </thead>\n",
       "  <tbody>\n",
       "    <tr>\n",
       "      <th>0</th>\n",
       "      <td>-0.419060</td>\n",
       "      <td>0.257836</td>\n",
       "      <td>0.001976</td>\n",
       "      <td>0.000000</td>\n",
       "      <td>0.000000</td>\n",
       "      <td>0.000013</td>\n",
       "      <td>0.000000</td>\n",
       "      <td>-0.006596</td>\n",
       "      <td>0.000000</td>\n",
       "    </tr>\n",
       "    <tr>\n",
       "      <th>1</th>\n",
       "      <td>-0.149924</td>\n",
       "      <td>0.000000</td>\n",
       "      <td>-0.141308</td>\n",
       "      <td>0.000000</td>\n",
       "      <td>0.000000</td>\n",
       "      <td>0.000000</td>\n",
       "      <td>0.793636</td>\n",
       "      <td>0.349556</td>\n",
       "      <td>-0.100514</td>\n",
       "    </tr>\n",
       "    <tr>\n",
       "      <th>2</th>\n",
       "      <td>0.000000</td>\n",
       "      <td>0.000000</td>\n",
       "      <td>-0.345339</td>\n",
       "      <td>0.000000</td>\n",
       "      <td>0.000000</td>\n",
       "      <td>0.000000</td>\n",
       "      <td>-0.047312</td>\n",
       "      <td>0.000000</td>\n",
       "      <td>0.000000</td>\n",
       "    </tr>\n",
       "    <tr>\n",
       "      <th>3</th>\n",
       "      <td>-0.230702</td>\n",
       "      <td>-0.142014</td>\n",
       "      <td>0.032572</td>\n",
       "      <td>0.165636</td>\n",
       "      <td>0.000000</td>\n",
       "      <td>-0.021241</td>\n",
       "      <td>0.000000</td>\n",
       "      <td>0.000000</td>\n",
       "      <td>0.000000</td>\n",
       "    </tr>\n",
       "    <tr>\n",
       "      <th>4</th>\n",
       "      <td>-0.235055</td>\n",
       "      <td>0.000000</td>\n",
       "      <td>0.018027</td>\n",
       "      <td>0.320000</td>\n",
       "      <td>-0.023415</td>\n",
       "      <td>0.000000</td>\n",
       "      <td>0.000000</td>\n",
       "      <td>-0.027689</td>\n",
       "      <td>0.032919</td>\n",
       "    </tr>\n",
       "  </tbody>\n",
       "</table>\n",
       "</div>"
      ],
      "text/plain": [
       "          0         1         2         3         4         5         6  \\\n",
       "0 -0.419060  0.257836  0.001976  0.000000  0.000000  0.000013  0.000000   \n",
       "1 -0.149924  0.000000 -0.141308  0.000000  0.000000  0.000000  0.793636   \n",
       "2  0.000000  0.000000 -0.345339  0.000000  0.000000  0.000000 -0.047312   \n",
       "3 -0.230702 -0.142014  0.032572  0.165636  0.000000 -0.021241  0.000000   \n",
       "4 -0.235055  0.000000  0.018027  0.320000 -0.023415  0.000000  0.000000   \n",
       "\n",
       "          7         8  \n",
       "0 -0.006596  0.000000  \n",
       "1  0.349556 -0.100514  \n",
       "2  0.000000  0.000000  \n",
       "3  0.000000  0.000000  \n",
       "4 -0.027689  0.032919  "
      ]
     },
     "execution_count": 11,
     "metadata": {},
     "output_type": "execute_result"
    }
   ],
   "source": [
    "loading_vectors = loading_vectors[(loading_vectors.select_dtypes(include=['number']) != 0).any(1)]\n",
    "loading_vectors.head()"
   ]
  },
  {
   "cell_type": "markdown",
   "metadata": {},
   "source": [
    "#### Eigengenes:"
   ]
  },
  {
   "cell_type": "code",
   "execution_count": 12,
   "metadata": {},
   "outputs": [
    {
     "data": {
      "text/html": [
       "<div>\n",
       "<style scoped>\n",
       "    .dataframe tbody tr th:only-of-type {\n",
       "        vertical-align: middle;\n",
       "    }\n",
       "\n",
       "    .dataframe tbody tr th {\n",
       "        vertical-align: top;\n",
       "    }\n",
       "\n",
       "    .dataframe thead th {\n",
       "        text-align: right;\n",
       "    }\n",
       "</style>\n",
       "<table border=\"1\" class=\"dataframe\">\n",
       "  <thead>\n",
       "    <tr style=\"text-align: right;\">\n",
       "      <th></th>\n",
       "      <th>0</th>\n",
       "      <th>1</th>\n",
       "      <th>2</th>\n",
       "      <th>3</th>\n",
       "      <th>4</th>\n",
       "      <th>5</th>\n",
       "      <th>6</th>\n",
       "      <th>7</th>\n",
       "      <th>8</th>\n",
       "    </tr>\n",
       "  </thead>\n",
       "  <tbody>\n",
       "    <tr>\n",
       "      <th>0</th>\n",
       "      <td>3.117755</td>\n",
       "      <td>-3.097967</td>\n",
       "      <td>2.746518</td>\n",
       "      <td>3.410521</td>\n",
       "      <td>0.612851</td>\n",
       "      <td>1.642486</td>\n",
       "      <td>-0.369807</td>\n",
       "      <td>-3.460714</td>\n",
       "      <td>0.269942</td>\n",
       "    </tr>\n",
       "    <tr>\n",
       "      <th>1</th>\n",
       "      <td>4.226000</td>\n",
       "      <td>-2.288716</td>\n",
       "      <td>2.468850</td>\n",
       "      <td>2.769253</td>\n",
       "      <td>-1.008747</td>\n",
       "      <td>1.614207</td>\n",
       "      <td>0.596717</td>\n",
       "      <td>-2.322534</td>\n",
       "      <td>0.162933</td>\n",
       "    </tr>\n",
       "    <tr>\n",
       "      <th>2</th>\n",
       "      <td>4.067920</td>\n",
       "      <td>-1.510597</td>\n",
       "      <td>2.082703</td>\n",
       "      <td>2.496664</td>\n",
       "      <td>-2.948318</td>\n",
       "      <td>0.599094</td>\n",
       "      <td>1.165674</td>\n",
       "      <td>-2.520820</td>\n",
       "      <td>0.486590</td>\n",
       "    </tr>\n",
       "    <tr>\n",
       "      <th>3</th>\n",
       "      <td>5.282430</td>\n",
       "      <td>0.212084</td>\n",
       "      <td>1.317687</td>\n",
       "      <td>2.136766</td>\n",
       "      <td>-2.303743</td>\n",
       "      <td>2.288534</td>\n",
       "      <td>1.518398</td>\n",
       "      <td>-2.872609</td>\n",
       "      <td>0.150257</td>\n",
       "    </tr>\n",
       "    <tr>\n",
       "      <th>4</th>\n",
       "      <td>5.412072</td>\n",
       "      <td>0.038359</td>\n",
       "      <td>2.295994</td>\n",
       "      <td>2.876256</td>\n",
       "      <td>-4.403611</td>\n",
       "      <td>0.995843</td>\n",
       "      <td>-1.174565</td>\n",
       "      <td>1.712654</td>\n",
       "      <td>0.182412</td>\n",
       "    </tr>\n",
       "  </tbody>\n",
       "</table>\n",
       "</div>"
      ],
      "text/plain": [
       "          0         1         2         3         4         5         6  \\\n",
       "0  3.117755 -3.097967  2.746518  3.410521  0.612851  1.642486 -0.369807   \n",
       "1  4.226000 -2.288716  2.468850  2.769253 -1.008747  1.614207  0.596717   \n",
       "2  4.067920 -1.510597  2.082703  2.496664 -2.948318  0.599094  1.165674   \n",
       "3  5.282430  0.212084  1.317687  2.136766 -2.303743  2.288534  1.518398   \n",
       "4  5.412072  0.038359  2.295994  2.876256 -4.403611  0.995843 -1.174565   \n",
       "\n",
       "          7         8  \n",
       "0 -3.460714  0.269942  \n",
       "1 -2.322534  0.162933  \n",
       "2 -2.520820  0.486590  \n",
       "3 -2.872609  0.150257  \n",
       "4  1.712654  0.182412  "
      ]
     },
     "execution_count": 12,
     "metadata": {},
     "output_type": "execute_result"
    }
   ],
   "source": [
    "spca_eigengenes.head()"
   ]
  },
  {
   "cell_type": "markdown",
   "metadata": {},
   "source": [
    "__Clip__ the values in each eigengene to deal with outliers:"
   ]
  },
  {
   "cell_type": "code",
   "execution_count": 13,
   "metadata": {},
   "outputs": [
    {
     "data": {
      "text/html": [
       "<div>\n",
       "<style scoped>\n",
       "    .dataframe tbody tr th:only-of-type {\n",
       "        vertical-align: middle;\n",
       "    }\n",
       "\n",
       "    .dataframe tbody tr th {\n",
       "        vertical-align: top;\n",
       "    }\n",
       "\n",
       "    .dataframe thead th {\n",
       "        text-align: right;\n",
       "    }\n",
       "</style>\n",
       "<table border=\"1\" class=\"dataframe\">\n",
       "  <thead>\n",
       "    <tr style=\"text-align: right;\">\n",
       "      <th></th>\n",
       "      <th>0</th>\n",
       "      <th>1</th>\n",
       "      <th>2</th>\n",
       "      <th>3</th>\n",
       "      <th>4</th>\n",
       "      <th>5</th>\n",
       "      <th>6</th>\n",
       "      <th>7</th>\n",
       "      <th>8</th>\n",
       "    </tr>\n",
       "  </thead>\n",
       "  <tbody>\n",
       "    <tr>\n",
       "      <th>0</th>\n",
       "      <td>3.117755</td>\n",
       "      <td>-3.097967</td>\n",
       "      <td>2.563646</td>\n",
       "      <td>2.673847</td>\n",
       "      <td>0.612851</td>\n",
       "      <td>1.642486</td>\n",
       "      <td>-0.369807</td>\n",
       "      <td>-2.618939</td>\n",
       "      <td>0.269942</td>\n",
       "    </tr>\n",
       "    <tr>\n",
       "      <th>1</th>\n",
       "      <td>4.226000</td>\n",
       "      <td>-2.288716</td>\n",
       "      <td>2.468850</td>\n",
       "      <td>2.673847</td>\n",
       "      <td>-1.008747</td>\n",
       "      <td>1.614207</td>\n",
       "      <td>0.596717</td>\n",
       "      <td>-2.322534</td>\n",
       "      <td>0.162933</td>\n",
       "    </tr>\n",
       "    <tr>\n",
       "      <th>2</th>\n",
       "      <td>4.067920</td>\n",
       "      <td>-1.510597</td>\n",
       "      <td>2.082703</td>\n",
       "      <td>2.496664</td>\n",
       "      <td>-2.869942</td>\n",
       "      <td>0.599094</td>\n",
       "      <td>1.165674</td>\n",
       "      <td>-2.520820</td>\n",
       "      <td>0.486590</td>\n",
       "    </tr>\n",
       "    <tr>\n",
       "      <th>3</th>\n",
       "      <td>5.282430</td>\n",
       "      <td>0.212084</td>\n",
       "      <td>1.317687</td>\n",
       "      <td>2.136766</td>\n",
       "      <td>-2.303743</td>\n",
       "      <td>2.288534</td>\n",
       "      <td>1.518398</td>\n",
       "      <td>-2.618939</td>\n",
       "      <td>0.150257</td>\n",
       "    </tr>\n",
       "    <tr>\n",
       "      <th>4</th>\n",
       "      <td>5.412072</td>\n",
       "      <td>0.038359</td>\n",
       "      <td>2.295994</td>\n",
       "      <td>2.673847</td>\n",
       "      <td>-2.869942</td>\n",
       "      <td>0.995843</td>\n",
       "      <td>-1.174565</td>\n",
       "      <td>1.712654</td>\n",
       "      <td>0.182412</td>\n",
       "    </tr>\n",
       "  </tbody>\n",
       "</table>\n",
       "</div>"
      ],
      "text/plain": [
       "          0         1         2         3         4         5         6  \\\n",
       "0  3.117755 -3.097967  2.563646  2.673847  0.612851  1.642486 -0.369807   \n",
       "1  4.226000 -2.288716  2.468850  2.673847 -1.008747  1.614207  0.596717   \n",
       "2  4.067920 -1.510597  2.082703  2.496664 -2.869942  0.599094  1.165674   \n",
       "3  5.282430  0.212084  1.317687  2.136766 -2.303743  2.288534  1.518398   \n",
       "4  5.412072  0.038359  2.295994  2.673847 -2.869942  0.995843 -1.174565   \n",
       "\n",
       "          7         8  \n",
       "0 -2.618939  0.269942  \n",
       "1 -2.322534  0.162933  \n",
       "2 -2.520820  0.486590  \n",
       "3 -2.618939  0.150257  \n",
       "4  1.712654  0.182412  "
      ]
     },
     "execution_count": 13,
     "metadata": {},
     "output_type": "execute_result"
    }
   ],
   "source": [
    "spca_eigengenes = spca_eigengenes.clip(np.percentile(spca_eigengenes, 5, axis=0), np.percentile(spca_eigengenes, 95, axis=0), axis=1)\n",
    "spca_eigengenes.head()"
   ]
  },
  {
   "cell_type": "markdown",
   "metadata": {},
   "source": [
    "Sort the eigengenes in descending order of variance:"
   ]
  },
  {
   "cell_type": "code",
   "execution_count": 14,
   "metadata": {},
   "outputs": [
    {
     "data": {
      "text/plain": [
       "array([0, 1, 3, 5, 4, 7, 6, 2, 8])"
      ]
     },
     "execution_count": 14,
     "metadata": {},
     "output_type": "execute_result"
    }
   ],
   "source": [
    "eig_std = np.array(spca_eigengenes.std().sort_values(ascending=False).index)\n",
    "eig_std"
   ]
  },
  {
   "cell_type": "markdown",
   "metadata": {},
   "source": [
    "Reorder the columns of the dataframe in descending order of variance:"
   ]
  },
  {
   "cell_type": "code",
   "execution_count": 15,
   "metadata": {
    "collapsed": true
   },
   "outputs": [],
   "source": [
    "spca_eigengenes = spca_eigengenes[eig_std]"
   ]
  },
  {
   "cell_type": "markdown",
   "metadata": {},
   "source": [
    "Plot the three eigengenes with the largest variance:"
   ]
  },
  {
   "cell_type": "code",
   "execution_count": 16,
   "metadata": {},
   "outputs": [
    {
     "data": {
      "image/png": "[encoded data removed]",
      "text/plain": [
       "<Figure size 720x576 with 1 Axes>"
      ]
     },
     "metadata": {},
     "output_type": "display_data"
    }
   ],
   "source": [
    "times = np.linspace(1,nc,nc)\n",
    "\n",
    "eg1 = spca_eigengenes.iloc[:,0]\n",
    "eg2 = spca_eigengenes.iloc[:,1]\n",
    "eg3 = spca_eigengenes.iloc[:,2]\n",
    "\n",
    "plt.figure(figsize=(10,8))\n",
    "plt.scatter(times, eg1, label=\"First Eigengene\")\n",
    "plt.scatter(times, eg2, label=\"Second Eigengene\")\n",
    "plt.scatter(times, eg3, label=\"Third Eigengene\")\n",
    "plt.title('Plot of the first three eigengenes (principal components) with the largest variance', size=15)\n",
    "plt.legend(loc=[1.01,0])\n",
    "plt.show()"
   ]
  },
  {
   "cell_type": "markdown",
   "metadata": {},
   "source": [
    "Next, plot these three eigengenes against each other:"
   ]
  },
  {
   "cell_type": "code",
   "execution_count": 17,
   "metadata": {},
   "outputs": [
    {
     "data": {
      "text/plain": [
       "Text(0.5, 1.0, '2nd vs 3rd')"
      ]
     },
     "execution_count": 17,
     "metadata": {},
     "output_type": "execute_result"
    },
    {
     "data": {
      "image/png": "[encoded data removed]",
      "text/plain": [
       "<Figure size 1296x432 with 3 Axes>"
      ]
     },
     "metadata": {},
     "output_type": "display_data"
    }
   ],
   "source": [
    "f, (ax1, ax2, ax3) = plt.subplots(1, 3, figsize = (18,6))\n",
    "plt.suptitle('Plot of first 3 eigengenes with the largest variance against each other', size=20)\n",
    "\n",
    "ax1.scatter(eg1, eg2)\n",
    "ax1.set_title('1st vs 2nd', size=15)\n",
    "ax2.scatter(eg1, eg3)\n",
    "ax2.set_title('1st vs 3rd', size=15)\n",
    "ax3.scatter(eg2, eg3)\n",
    "ax3.set_title('2nd vs 3rd', size=15)"
   ]
  },
  {
   "cell_type": "markdown",
   "metadata": {},
   "source": [
    "## 4. Creating the autoencoder model"
   ]
  },
  {
   "cell_type": "code",
   "execution_count": 18,
   "metadata": {
    "collapsed": true
   },
   "outputs": [],
   "source": [
    "data = spca_eigengenes.to_numpy()"
   ]
  },
  {
   "cell_type": "code",
   "execution_count": 19,
   "metadata": {
    "collapsed": true
   },
   "outputs": [],
   "source": [
    "def jump_control(X):\n",
    "    X_ = X.copy()\n",
    "    pop_list = []\n",
    "    for i in range(1,len(X)):\n",
    "        if X[i]-X[i-1]<10:\n",
    "            pop_list.append(i)\n",
    "    pop_list.sort(reverse=True)\n",
    "    for i in pop_list:\n",
    "        X_.pop(i)\n",
    "    return X_\n",
    "\n",
    "def iterr(data):\n",
    "    model = cyclops(data.shape[1])\n",
    "    n_epochs = 500\n",
    "    history = model.train(data[np.random.permutation(data.shape[0]), :], epochs=n_epochs, verbose=n_epochs, batch_size=10)\n",
    "\n",
    "    loss = history.history['loss'][-1]\n",
    "    \n",
    "    phase_df = model.phase_output(data)\n",
    "    phase_idx = phase_df.index.to_numpy()\n",
    "    phase_list = phase_df.pseudotime.to_numpy()\n",
    "    \n",
    "    zipped = list(zip(phase_idx,phase_list))\n",
    "    re_phase_list = np.array([sorted(zipped, key = lambda t: t[0])[i][1] for i in range(len(zipped))])\n",
    "    re_phase_idx = np.array([sorted(zipped, key = lambda t: t[0])[i][0] for i in range(len(zipped))])\n",
    "    \n",
    "    asc_phase_jump, desc_phase_jump = [],[]\n",
    "    for i in range(len(re_phase_list)-1):\n",
    "        if re_phase_list[i+1]-re_phase_list[i] > np.pi:\n",
    "            desc_phase_jump.append(i)\n",
    "        elif re_phase_list[i+1]-re_phase_list[i] < -np.pi:\n",
    "            asc_phase_jump.append(i)\n",
    "            \n",
    "    if len(asc_phase_jump) > len(desc_phase_jump):\n",
    "        phase_jump = asc_phase_jump\n",
    "    else:\n",
    "        phase_jump = desc_phase_jump\n",
    "\n",
    "\n",
    "    phase_jump = jump_control(phase_jump)\n",
    "\n",
    "    jumps = len(phase_jump)\n",
    "    for i in range(jumps):\n",
    "        if len(asc_phase_jump) > len(desc_phase_jump):\n",
    "            re_phase_list = np.array([re_phase_list[i] if i < phase_jump[0]+1 else re_phase_list[i] + 2*np.pi for i in range(len(zipped))])\n",
    "        else:\n",
    "            re_phase_list = np.array([re_phase_list[i] if i < phase_jump[0]+1 else re_phase_list[i] - 2*np.pi for i in range(len(zipped))])\n",
    "        phase_jump.pop(0)\n",
    "    \n",
    "    from scipy.stats import linregress\n",
    "\n",
    "    lin = linregress(re_phase_idx, re_phase_list)\n",
    "    \n",
    "    r_squared = lin[2]**2\n",
    "    \n",
    "    return loss, r_squared"
   ]
  },
  {
   "cell_type": "code",
   "execution_count": 20,
   "metadata": {
    "collapsed": true
   },
   "outputs": [],
   "source": [
    "%%capture\n",
    "%%time\n",
    "\n",
    "n_iter = 50\n",
    "\n",
    "iter_list = np.zeros([n_iter,2])\n",
    "\n",
    "for i in range(n_iter):\n",
    "    iter_list[i] = iterr(data)"
   ]
  },
  {
   "cell_type": "code",
   "execution_count": 21,
   "metadata": {
    "collapsed": true
   },
   "outputs": [],
   "source": [
    "cs = np.array([iter_list[i][0] for i in range(len(iter_list))])\n",
    "r2 = np.array([iter_list[i][1] for i in range(len(iter_list))])"
   ]
  },
  {
   "cell_type": "code",
   "execution_count": 22,
   "metadata": {},
   "outputs": [
    {
     "name": "stderr",
     "output_type": "stream",
     "text": [
      "/Users/henrylim/.local/lib/python3.6/site-packages/matplotlib/__init__.py:886: MatplotlibDeprecationWarning: \n",
      "examples.directory is deprecated; in the future, examples will be found relative to the 'datapath' directory.\n",
      "  \"found relative to the 'datapath' directory.\".format(key))\n"
     ]
    },
    {
     "data": {
      "image/png": "[encoded data removed]",
      "text/plain": [
       "<Figure size 720x576 with 1 Axes>"
      ]
     },
     "metadata": {},
     "output_type": "display_data"
    }
   ],
   "source": [
    "import seaborn as sns\n",
    "import statistics\n",
    "\n",
    "plt.figure(figsize=(10,8))\n",
    "sns.boxplot(r2)\n",
    "plt.xlabel(r'$R^2$ value', size=15)\n",
    "plt.title(r'Boxplot of $R^2$ values for Mouse Liver Data (Sparse PCA: Karthik), Median = {:.4f}'.format(statistics.median(r2)), size=20)\n",
    "plt.show()"
   ]
  },
  {
   "cell_type": "code",
   "execution_count": null,
   "metadata": {
    "collapsed": true
   },
   "outputs": [],
   "source": []
  }
 ],
 "metadata": {
  "kernelspec": {
   "display_name": "Python 3",
   "language": "python",
   "name": "python3"
  },
  "language_info": {
   "codemirror_mode": {
    "name": "ipython",
    "version": 3
   },
   "file_extension": ".py",
   "mimetype": "text/x-python",
   "name": "python",
   "nbconvert_exporter": "python",
   "pygments_lexer": "ipython3",
   "version": "3.6.10"
  }
 },
 "nbformat": 4,
 "nbformat_minor": 2
}
