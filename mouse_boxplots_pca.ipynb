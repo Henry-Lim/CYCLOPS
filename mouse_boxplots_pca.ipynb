{
 "cells": [
  {
   "cell_type": "markdown",
   "metadata": {},
   "source": [
    "# CYCLOPS on Mouse Liver Data (Boxplot: PCA)"
   ]
  },
  {
   "cell_type": "markdown",
   "metadata": {},
   "source": [
    "## 1. Importing packages"
   ]
  },
  {
   "cell_type": "code",
   "execution_count": 1,
   "metadata": {
    "collapsed": true
   },
   "outputs": [],
   "source": [
    "from cyclops_v2 import *\n",
    "\n",
    "import numpy as np\n",
    "import pandas as pd\n",
    "import matplotlib.pyplot as plt\n",
    "%matplotlib inline"
   ]
  },
  {
   "cell_type": "markdown",
   "metadata": {},
   "source": [
    "## 2. Loading data"
   ]
  },
  {
   "cell_type": "markdown",
   "metadata": {},
   "source": [
    "#### Read the Mouse Liver data into a pandas dataframe:"
   ]
  },
  {
   "cell_type": "code",
   "execution_count": 2,
   "metadata": {
    "collapsed": true
   },
   "outputs": [],
   "source": [
    "df = pd.read_csv(\"mouseLiver.csv\").T\n",
    "df = df.iloc[1:,:]"
   ]
  },
  {
   "cell_type": "code",
   "execution_count": 3,
   "metadata": {},
   "outputs": [
    {
     "name": "stdout",
     "output_type": "stream",
     "text": [
      "Running on 14312 genes and 48 cells.\n"
     ]
    }
   ],
   "source": [
    "ng = df.shape[1]\n",
    "nc = df.shape[0]\n",
    "print(\"Running on {} genes and {} cells.\".format(ng,nc))"
   ]
  },
  {
   "cell_type": "markdown",
   "metadata": {},
   "source": [
    "Filter genes in the top 10% variance:"
   ]
  },
  {
   "cell_type": "code",
   "execution_count": 4,
   "metadata": {},
   "outputs": [
    {
     "name": "stdout",
     "output_type": "stream",
     "text": [
      "<class 'pandas.core.frame.DataFrame'>\n",
      "Int64Index: 1431 entries, 4414 to 48\n",
      "Data columns (total 1 columns):\n",
      " #   Column  Non-Null Count  Dtype  \n",
      "---  ------  --------------  -----  \n",
      " 0   0       1431 non-null   float64\n",
      "dtypes: float64(1)\n",
      "memory usage: 22.4 KB\n"
     ]
    }
   ],
   "source": [
    "frac = 0.10\n",
    "\n",
    "df_std = pd.DataFrame(df.std().sort_values(ascending=False))\n",
    "df_std = df_std.iloc[:round(df_std.shape[0]*frac),:]\n",
    "df_std.info()"
   ]
  },
  {
   "cell_type": "code",
   "execution_count": 5,
   "metadata": {
    "collapsed": true
   },
   "outputs": [],
   "source": [
    "gene_list = df_std.index.to_numpy()"
   ]
  },
  {
   "cell_type": "code",
   "execution_count": 6,
   "metadata": {},
   "outputs": [
    {
     "data": {
      "text/plain": [
       "(48, 1431)"
      ]
     },
     "execution_count": 6,
     "metadata": {},
     "output_type": "execute_result"
    }
   ],
   "source": [
    "data = df.to_numpy().T\n",
    "\n",
    "newdata = np.zeros([len(gene_list),nc])\n",
    "for i in range(len(gene_list)):\n",
    "    newdata[i] = data[gene_list[i]]\n",
    "newdata = pd.DataFrame(newdata.T)\n",
    "newdata.shape"
   ]
  },
  {
   "cell_type": "markdown",
   "metadata": {},
   "source": [
    "## 3. Data Preprocessing"
   ]
  },
  {
   "cell_type": "markdown",
   "metadata": {},
   "source": [
    "### PCA (without scaling)"
   ]
  },
  {
   "cell_type": "markdown",
   "metadata": {},
   "source": [
    "Center the data to zero mean, without scaling to unit variance:"
   ]
  },
  {
   "cell_type": "code",
   "execution_count": 7,
   "metadata": {},
   "outputs": [
    {
     "data": {
      "text/html": [
       "<div>\n",
       "<style scoped>\n",
       "    .dataframe tbody tr th:only-of-type {\n",
       "        vertical-align: middle;\n",
       "    }\n",
       "\n",
       "    .dataframe tbody tr th {\n",
       "        vertical-align: top;\n",
       "    }\n",
       "\n",
       "    .dataframe thead th {\n",
       "        text-align: right;\n",
       "    }\n",
       "</style>\n",
       "<table border=\"1\" class=\"dataframe\">\n",
       "  <thead>\n",
       "    <tr style=\"text-align: right;\">\n",
       "      <th></th>\n",
       "      <th>0</th>\n",
       "      <th>1</th>\n",
       "      <th>2</th>\n",
       "      <th>3</th>\n",
       "      <th>4</th>\n",
       "      <th>5</th>\n",
       "      <th>6</th>\n",
       "      <th>7</th>\n",
       "      <th>8</th>\n",
       "      <th>9</th>\n",
       "      <th>...</th>\n",
       "      <th>1421</th>\n",
       "      <th>1422</th>\n",
       "      <th>1423</th>\n",
       "      <th>1424</th>\n",
       "      <th>1425</th>\n",
       "      <th>1426</th>\n",
       "      <th>1427</th>\n",
       "      <th>1428</th>\n",
       "      <th>1429</th>\n",
       "      <th>1430</th>\n",
       "    </tr>\n",
       "  </thead>\n",
       "  <tbody>\n",
       "    <tr>\n",
       "      <th>0</th>\n",
       "      <td>-1.074904</td>\n",
       "      <td>-1.346862</td>\n",
       "      <td>-0.435143</td>\n",
       "      <td>0.581335</td>\n",
       "      <td>0.291266</td>\n",
       "      <td>-0.404934</td>\n",
       "      <td>-0.572699</td>\n",
       "      <td>-0.080760</td>\n",
       "      <td>-0.366932</td>\n",
       "      <td>0.833576</td>\n",
       "      <td>...</td>\n",
       "      <td>0.192984</td>\n",
       "      <td>0.016707</td>\n",
       "      <td>-0.168378</td>\n",
       "      <td>0.126847</td>\n",
       "      <td>0.111669</td>\n",
       "      <td>0.021330</td>\n",
       "      <td>-0.269509</td>\n",
       "      <td>0.289797</td>\n",
       "      <td>0.158908</td>\n",
       "      <td>-0.112113</td>\n",
       "    </tr>\n",
       "    <tr>\n",
       "      <th>1</th>\n",
       "      <td>-1.325239</td>\n",
       "      <td>-1.478688</td>\n",
       "      <td>-0.945180</td>\n",
       "      <td>-0.105732</td>\n",
       "      <td>0.199204</td>\n",
       "      <td>-0.312123</td>\n",
       "      <td>-0.350296</td>\n",
       "      <td>-0.312390</td>\n",
       "      <td>-0.287158</td>\n",
       "      <td>0.804969</td>\n",
       "      <td>...</td>\n",
       "      <td>0.063094</td>\n",
       "      <td>0.154394</td>\n",
       "      <td>-0.129119</td>\n",
       "      <td>0.318367</td>\n",
       "      <td>0.104156</td>\n",
       "      <td>0.091646</td>\n",
       "      <td>-0.010063</td>\n",
       "      <td>0.500482</td>\n",
       "      <td>0.177918</td>\n",
       "      <td>-0.111686</td>\n",
       "    </tr>\n",
       "    <tr>\n",
       "      <th>2</th>\n",
       "      <td>-1.467395</td>\n",
       "      <td>-1.152329</td>\n",
       "      <td>-0.665212</td>\n",
       "      <td>0.202131</td>\n",
       "      <td>0.111784</td>\n",
       "      <td>-0.396584</td>\n",
       "      <td>-0.252562</td>\n",
       "      <td>0.372546</td>\n",
       "      <td>-0.382673</td>\n",
       "      <td>0.879127</td>\n",
       "      <td>...</td>\n",
       "      <td>0.197245</td>\n",
       "      <td>0.186623</td>\n",
       "      <td>-0.117351</td>\n",
       "      <td>0.115919</td>\n",
       "      <td>0.038757</td>\n",
       "      <td>-0.006018</td>\n",
       "      <td>-0.001137</td>\n",
       "      <td>0.360755</td>\n",
       "      <td>0.029727</td>\n",
       "      <td>0.083421</td>\n",
       "    </tr>\n",
       "    <tr>\n",
       "      <th>3</th>\n",
       "      <td>-1.796292</td>\n",
       "      <td>-1.381943</td>\n",
       "      <td>-0.281816</td>\n",
       "      <td>-0.385229</td>\n",
       "      <td>-0.180603</td>\n",
       "      <td>-0.444568</td>\n",
       "      <td>-0.191849</td>\n",
       "      <td>-0.311879</td>\n",
       "      <td>-0.344652</td>\n",
       "      <td>0.879681</td>\n",
       "      <td>...</td>\n",
       "      <td>0.168560</td>\n",
       "      <td>-0.093592</td>\n",
       "      <td>-0.012391</td>\n",
       "      <td>0.133560</td>\n",
       "      <td>0.207740</td>\n",
       "      <td>-0.030000</td>\n",
       "      <td>0.427969</td>\n",
       "      <td>0.259766</td>\n",
       "      <td>-0.067842</td>\n",
       "      <td>0.014793</td>\n",
       "    </tr>\n",
       "    <tr>\n",
       "      <th>4</th>\n",
       "      <td>-1.986607</td>\n",
       "      <td>-1.288099</td>\n",
       "      <td>-1.167620</td>\n",
       "      <td>-1.071924</td>\n",
       "      <td>-0.228164</td>\n",
       "      <td>-0.524226</td>\n",
       "      <td>-0.173404</td>\n",
       "      <td>-0.820587</td>\n",
       "      <td>-0.269711</td>\n",
       "      <td>0.805292</td>\n",
       "      <td>...</td>\n",
       "      <td>0.370957</td>\n",
       "      <td>0.061670</td>\n",
       "      <td>0.112919</td>\n",
       "      <td>0.165661</td>\n",
       "      <td>0.456097</td>\n",
       "      <td>-0.001966</td>\n",
       "      <td>0.271655</td>\n",
       "      <td>0.373738</td>\n",
       "      <td>0.194568</td>\n",
       "      <td>-0.249469</td>\n",
       "    </tr>\n",
       "  </tbody>\n",
       "</table>\n",
       "<p>5 rows × 1431 columns</p>\n",
       "</div>"
      ],
      "text/plain": [
       "       0         1         2         3         4         5         6     \\\n",
       "0 -1.074904 -1.346862 -0.435143  0.581335  0.291266 -0.404934 -0.572699   \n",
       "1 -1.325239 -1.478688 -0.945180 -0.105732  0.199204 -0.312123 -0.350296   \n",
       "2 -1.467395 -1.152329 -0.665212  0.202131  0.111784 -0.396584 -0.252562   \n",
       "3 -1.796292 -1.381943 -0.281816 -0.385229 -0.180603 -0.444568 -0.191849   \n",
       "4 -1.986607 -1.288099 -1.167620 -1.071924 -0.228164 -0.524226 -0.173404   \n",
       "\n",
       "       7         8         9     ...      1421      1422      1423      1424  \\\n",
       "0 -0.080760 -0.366932  0.833576  ...  0.192984  0.016707 -0.168378  0.126847   \n",
       "1 -0.312390 -0.287158  0.804969  ...  0.063094  0.154394 -0.129119  0.318367   \n",
       "2  0.372546 -0.382673  0.879127  ...  0.197245  0.186623 -0.117351  0.115919   \n",
       "3 -0.311879 -0.344652  0.879681  ...  0.168560 -0.093592 -0.012391  0.133560   \n",
       "4 -0.820587 -0.269711  0.805292  ...  0.370957  0.061670  0.112919  0.165661   \n",
       "\n",
       "       1425      1426      1427      1428      1429      1430  \n",
       "0  0.111669  0.021330 -0.269509  0.289797  0.158908 -0.112113  \n",
       "1  0.104156  0.091646 -0.010063  0.500482  0.177918 -0.111686  \n",
       "2  0.038757 -0.006018 -0.001137  0.360755  0.029727  0.083421  \n",
       "3  0.207740 -0.030000  0.427969  0.259766 -0.067842  0.014793  \n",
       "4  0.456097 -0.001966  0.271655  0.373738  0.194568 -0.249469  \n",
       "\n",
       "[5 rows x 1431 columns]"
      ]
     },
     "execution_count": 7,
     "metadata": {},
     "output_type": "execute_result"
    }
   ],
   "source": [
    "df_cent = newdata.transform(lambda x: x-x.mean())\n",
    "df_cent.head()"
   ]
  },
  {
   "cell_type": "markdown",
   "metadata": {},
   "source": [
    "Perform PCA:"
   ]
  },
  {
   "cell_type": "code",
   "execution_count": 8,
   "metadata": {
    "collapsed": true
   },
   "outputs": [],
   "source": [
    "from sklearn.decomposition import PCA\n",
    "pca_model = PCA()\n",
    "pca_comp = pca_model.fit_transform(df_cent)\n",
    "pca_load = pca_model.components_"
   ]
  },
  {
   "cell_type": "code",
   "execution_count": 9,
   "metadata": {},
   "outputs": [
    {
     "data": {
      "text/plain": [
       "((48, 48), (48, 1431))"
      ]
     },
     "execution_count": 9,
     "metadata": {},
     "output_type": "execute_result"
    }
   ],
   "source": [
    "pca_comp.shape, pca_load.shape"
   ]
  },
  {
   "cell_type": "code",
   "execution_count": 10,
   "metadata": {},
   "outputs": [
    {
     "data": {
      "text/plain": [
       "array([[-3.24054959e+00,  4.51063969e+00, -9.22488338e+00, ...,\n",
       "        -4.87728076e-01,  4.86982889e-01,  4.06701634e-15],\n",
       "       [-3.47670900e+00,  5.33167195e+00, -6.73297933e+00, ...,\n",
       "         1.49557321e+00, -7.28464403e-01,  4.06701634e-15],\n",
       "       [-3.16037532e+00,  5.18663430e+00, -5.67434035e+00, ...,\n",
       "         4.63166180e-01, -4.34047875e-01,  4.06701634e-15],\n",
       "       ...,\n",
       "       [ 2.01151734e+01,  3.50374038e+00,  2.12901435e-01, ...,\n",
       "        -1.06994659e-01,  2.28667958e-01,  4.06701634e-15],\n",
       "       [ 2.04432226e+01,  5.30955008e+00,  2.12507804e+00, ...,\n",
       "         1.71347721e-01, -2.37369928e-01,  4.06701634e-15],\n",
       "       [ 1.79812763e+01,  9.26798453e+00,  3.19234244e+00, ...,\n",
       "         7.68103458e-02,  3.40860447e-01,  4.06701634e-15]])"
      ]
     },
     "execution_count": 10,
     "metadata": {},
     "output_type": "execute_result"
    }
   ],
   "source": [
    "pca_comp"
   ]
  },
  {
   "cell_type": "markdown",
   "metadata": {},
   "source": [
    "#### PCA Eigengenes:"
   ]
  },
  {
   "cell_type": "code",
   "execution_count": 11,
   "metadata": {
    "collapsed": true
   },
   "outputs": [],
   "source": [
    "variance_retained = 0.90\n",
    "pca_eigengenes = pd.DataFrame(pca_comp[:, 0:(sum(np.cumsum(pca_model.explained_variance_ratio_) < variance_retained) + 1)])"
   ]
  },
  {
   "cell_type": "code",
   "execution_count": 12,
   "metadata": {},
   "outputs": [
    {
     "name": "stdout",
     "output_type": "stream",
     "text": [
      "(48, 12)\n"
     ]
    },
    {
     "data": {
      "text/html": [
       "<div>\n",
       "<style scoped>\n",
       "    .dataframe tbody tr th:only-of-type {\n",
       "        vertical-align: middle;\n",
       "    }\n",
       "\n",
       "    .dataframe tbody tr th {\n",
       "        vertical-align: top;\n",
       "    }\n",
       "\n",
       "    .dataframe thead th {\n",
       "        text-align: right;\n",
       "    }\n",
       "</style>\n",
       "<table border=\"1\" class=\"dataframe\">\n",
       "  <thead>\n",
       "    <tr style=\"text-align: right;\">\n",
       "      <th></th>\n",
       "      <th>0</th>\n",
       "      <th>1</th>\n",
       "      <th>2</th>\n",
       "      <th>3</th>\n",
       "      <th>4</th>\n",
       "      <th>5</th>\n",
       "      <th>6</th>\n",
       "      <th>7</th>\n",
       "      <th>8</th>\n",
       "      <th>9</th>\n",
       "      <th>10</th>\n",
       "      <th>11</th>\n",
       "    </tr>\n",
       "  </thead>\n",
       "  <tbody>\n",
       "    <tr>\n",
       "      <th>0</th>\n",
       "      <td>-3.240550</td>\n",
       "      <td>4.510640</td>\n",
       "      <td>-9.224883</td>\n",
       "      <td>0.737368</td>\n",
       "      <td>1.551798</td>\n",
       "      <td>0.283810</td>\n",
       "      <td>-0.872573</td>\n",
       "      <td>-5.133460</td>\n",
       "      <td>-0.997482</td>\n",
       "      <td>0.241793</td>\n",
       "      <td>-1.164166</td>\n",
       "      <td>-0.390126</td>\n",
       "    </tr>\n",
       "    <tr>\n",
       "      <th>1</th>\n",
       "      <td>-3.476709</td>\n",
       "      <td>5.331672</td>\n",
       "      <td>-6.732979</td>\n",
       "      <td>-0.293004</td>\n",
       "      <td>3.631337</td>\n",
       "      <td>0.142203</td>\n",
       "      <td>-0.062758</td>\n",
       "      <td>-2.540531</td>\n",
       "      <td>0.808756</td>\n",
       "      <td>0.308068</td>\n",
       "      <td>-0.185089</td>\n",
       "      <td>-1.994699</td>\n",
       "    </tr>\n",
       "    <tr>\n",
       "      <th>2</th>\n",
       "      <td>-3.160375</td>\n",
       "      <td>5.186634</td>\n",
       "      <td>-5.674340</td>\n",
       "      <td>-0.507193</td>\n",
       "      <td>5.377678</td>\n",
       "      <td>1.506100</td>\n",
       "      <td>1.028168</td>\n",
       "      <td>-1.720212</td>\n",
       "      <td>0.962416</td>\n",
       "      <td>1.029713</td>\n",
       "      <td>-1.831904</td>\n",
       "      <td>-1.538371</td>\n",
       "    </tr>\n",
       "    <tr>\n",
       "      <th>3</th>\n",
       "      <td>-4.409927</td>\n",
       "      <td>5.800370</td>\n",
       "      <td>-2.047162</td>\n",
       "      <td>-1.010509</td>\n",
       "      <td>6.427309</td>\n",
       "      <td>0.454001</td>\n",
       "      <td>0.456320</td>\n",
       "      <td>-1.267312</td>\n",
       "      <td>4.175300</td>\n",
       "      <td>-2.405567</td>\n",
       "      <td>0.397162</td>\n",
       "      <td>-0.005322</td>\n",
       "    </tr>\n",
       "    <tr>\n",
       "      <th>4</th>\n",
       "      <td>-8.059224</td>\n",
       "      <td>4.733938</td>\n",
       "      <td>-3.966139</td>\n",
       "      <td>-1.080819</td>\n",
       "      <td>3.155171</td>\n",
       "      <td>5.935077</td>\n",
       "      <td>-0.000366</td>\n",
       "      <td>2.794429</td>\n",
       "      <td>-0.766829</td>\n",
       "      <td>0.562829</td>\n",
       "      <td>-0.755025</td>\n",
       "      <td>0.854606</td>\n",
       "    </tr>\n",
       "  </tbody>\n",
       "</table>\n",
       "</div>"
      ],
      "text/plain": [
       "          0         1         2         3         4         5         6  \\\n",
       "0 -3.240550  4.510640 -9.224883  0.737368  1.551798  0.283810 -0.872573   \n",
       "1 -3.476709  5.331672 -6.732979 -0.293004  3.631337  0.142203 -0.062758   \n",
       "2 -3.160375  5.186634 -5.674340 -0.507193  5.377678  1.506100  1.028168   \n",
       "3 -4.409927  5.800370 -2.047162 -1.010509  6.427309  0.454001  0.456320   \n",
       "4 -8.059224  4.733938 -3.966139 -1.080819  3.155171  5.935077 -0.000366   \n",
       "\n",
       "          7         8         9        10        11  \n",
       "0 -5.133460 -0.997482  0.241793 -1.164166 -0.390126  \n",
       "1 -2.540531  0.808756  0.308068 -0.185089 -1.994699  \n",
       "2 -1.720212  0.962416  1.029713 -1.831904 -1.538371  \n",
       "3 -1.267312  4.175300 -2.405567  0.397162 -0.005322  \n",
       "4  2.794429 -0.766829  0.562829 -0.755025  0.854606  "
      ]
     },
     "execution_count": 12,
     "metadata": {},
     "output_type": "execute_result"
    }
   ],
   "source": [
    "print(pca_eigengenes.shape)\n",
    "pca_eigengenes.head()"
   ]
  },
  {
   "cell_type": "markdown",
   "metadata": {},
   "source": [
    "__Clip__ the values in each eigengene to deal with outliers:"
   ]
  },
  {
   "cell_type": "code",
   "execution_count": 13,
   "metadata": {},
   "outputs": [
    {
     "data": {
      "text/html": [
       "<div>\n",
       "<style scoped>\n",
       "    .dataframe tbody tr th:only-of-type {\n",
       "        vertical-align: middle;\n",
       "    }\n",
       "\n",
       "    .dataframe tbody tr th {\n",
       "        vertical-align: top;\n",
       "    }\n",
       "\n",
       "    .dataframe thead th {\n",
       "        text-align: right;\n",
       "    }\n",
       "</style>\n",
       "<table border=\"1\" class=\"dataframe\">\n",
       "  <thead>\n",
       "    <tr style=\"text-align: right;\">\n",
       "      <th></th>\n",
       "      <th>0</th>\n",
       "      <th>1</th>\n",
       "      <th>2</th>\n",
       "      <th>3</th>\n",
       "      <th>4</th>\n",
       "      <th>5</th>\n",
       "      <th>6</th>\n",
       "      <th>7</th>\n",
       "      <th>8</th>\n",
       "      <th>9</th>\n",
       "      <th>10</th>\n",
       "      <th>11</th>\n",
       "    </tr>\n",
       "  </thead>\n",
       "  <tbody>\n",
       "    <tr>\n",
       "      <th>0</th>\n",
       "      <td>-3.240550</td>\n",
       "      <td>4.510640</td>\n",
       "      <td>-8.440872</td>\n",
       "      <td>0.737368</td>\n",
       "      <td>1.551798</td>\n",
       "      <td>0.283810</td>\n",
       "      <td>-0.872573</td>\n",
       "      <td>-3.604274</td>\n",
       "      <td>-0.997482</td>\n",
       "      <td>0.241793</td>\n",
       "      <td>-1.164166</td>\n",
       "      <td>-0.390126</td>\n",
       "    </tr>\n",
       "    <tr>\n",
       "      <th>1</th>\n",
       "      <td>-3.476709</td>\n",
       "      <td>5.331672</td>\n",
       "      <td>-6.732979</td>\n",
       "      <td>-0.293004</td>\n",
       "      <td>3.631337</td>\n",
       "      <td>0.142203</td>\n",
       "      <td>-0.062758</td>\n",
       "      <td>-2.540531</td>\n",
       "      <td>0.808756</td>\n",
       "      <td>0.308068</td>\n",
       "      <td>-0.185089</td>\n",
       "      <td>-1.994699</td>\n",
       "    </tr>\n",
       "    <tr>\n",
       "      <th>2</th>\n",
       "      <td>-3.160375</td>\n",
       "      <td>5.186634</td>\n",
       "      <td>-5.674340</td>\n",
       "      <td>-0.507193</td>\n",
       "      <td>5.233189</td>\n",
       "      <td>1.506100</td>\n",
       "      <td>1.028168</td>\n",
       "      <td>-1.720212</td>\n",
       "      <td>0.962416</td>\n",
       "      <td>1.029713</td>\n",
       "      <td>-1.831904</td>\n",
       "      <td>-1.538371</td>\n",
       "    </tr>\n",
       "    <tr>\n",
       "      <th>3</th>\n",
       "      <td>-4.409927</td>\n",
       "      <td>5.800370</td>\n",
       "      <td>-2.047162</td>\n",
       "      <td>-1.010509</td>\n",
       "      <td>5.233189</td>\n",
       "      <td>0.454001</td>\n",
       "      <td>0.456320</td>\n",
       "      <td>-1.267312</td>\n",
       "      <td>4.027233</td>\n",
       "      <td>-2.405567</td>\n",
       "      <td>0.397162</td>\n",
       "      <td>-0.005322</td>\n",
       "    </tr>\n",
       "    <tr>\n",
       "      <th>4</th>\n",
       "      <td>-8.059224</td>\n",
       "      <td>4.733938</td>\n",
       "      <td>-3.966139</td>\n",
       "      <td>-1.080819</td>\n",
       "      <td>3.155171</td>\n",
       "      <td>5.598742</td>\n",
       "      <td>-0.000366</td>\n",
       "      <td>2.794429</td>\n",
       "      <td>-0.766829</td>\n",
       "      <td>0.562829</td>\n",
       "      <td>-0.755025</td>\n",
       "      <td>0.854606</td>\n",
       "    </tr>\n",
       "  </tbody>\n",
       "</table>\n",
       "</div>"
      ],
      "text/plain": [
       "          0         1         2         3         4         5         6  \\\n",
       "0 -3.240550  4.510640 -8.440872  0.737368  1.551798  0.283810 -0.872573   \n",
       "1 -3.476709  5.331672 -6.732979 -0.293004  3.631337  0.142203 -0.062758   \n",
       "2 -3.160375  5.186634 -5.674340 -0.507193  5.233189  1.506100  1.028168   \n",
       "3 -4.409927  5.800370 -2.047162 -1.010509  5.233189  0.454001  0.456320   \n",
       "4 -8.059224  4.733938 -3.966139 -1.080819  3.155171  5.598742 -0.000366   \n",
       "\n",
       "          7         8         9        10        11  \n",
       "0 -3.604274 -0.997482  0.241793 -1.164166 -0.390126  \n",
       "1 -2.540531  0.808756  0.308068 -0.185089 -1.994699  \n",
       "2 -1.720212  0.962416  1.029713 -1.831904 -1.538371  \n",
       "3 -1.267312  4.027233 -2.405567  0.397162 -0.005322  \n",
       "4  2.794429 -0.766829  0.562829 -0.755025  0.854606  "
      ]
     },
     "execution_count": 13,
     "metadata": {},
     "output_type": "execute_result"
    }
   ],
   "source": [
    "pca_eigengenes = pca_eigengenes.clip(np.percentile(pca_eigengenes, 5, axis=0), np.percentile(pca_eigengenes, 95, axis=0), axis=1)\n",
    "pca_eigengenes.head()"
   ]
  },
  {
   "cell_type": "markdown",
   "metadata": {},
   "source": [
    "Sort the eigengenes in descending order of variance:"
   ]
  },
  {
   "cell_type": "code",
   "execution_count": 14,
   "metadata": {},
   "outputs": [
    {
     "data": {
      "text/plain": [
       "array([ 0,  1,  2,  5,  4,  3,  6,  7,  8,  9, 11, 10])"
      ]
     },
     "execution_count": 14,
     "metadata": {},
     "output_type": "execute_result"
    }
   ],
   "source": [
    "eig_std = np.array(pca_eigengenes.std().sort_values(ascending=False).index)\n",
    "eig_std"
   ]
  },
  {
   "cell_type": "markdown",
   "metadata": {},
   "source": [
    "Reorder the columns of the dataframe in descending order of variance:"
   ]
  },
  {
   "cell_type": "code",
   "execution_count": 15,
   "metadata": {
    "collapsed": true
   },
   "outputs": [],
   "source": [
    "pca_eigengenes = pca_eigengenes[eig_std]"
   ]
  },
  {
   "cell_type": "markdown",
   "metadata": {},
   "source": [
    "Plot the three eigengenes with the largest variance:"
   ]
  },
  {
   "cell_type": "code",
   "execution_count": 16,
   "metadata": {},
   "outputs": [
    {
     "data": {
      "image/png": "[encoded data removed]",
      "text/plain": [
       "<Figure size 720x576 with 1 Axes>"
      ]
     },
     "metadata": {},
     "output_type": "display_data"
    }
   ],
   "source": [
    "times = np.linspace(1,nc,nc)\n",
    "\n",
    "eg1 = pca_eigengenes.iloc[:,0]\n",
    "eg2 = pca_eigengenes.iloc[:,1]\n",
    "eg3 = pca_eigengenes.iloc[:,2]\n",
    "\n",
    "plt.figure(figsize=(10,8))\n",
    "plt.scatter(times, eg1, label=\"First Eigengene\")\n",
    "plt.scatter(times, eg2, label=\"Second Eigengene\")\n",
    "plt.scatter(times, eg3, label=\"Third Eigengene\")\n",
    "plt.title('Plot of the first three eigengenes (principal components) with the largest variance', size=15)\n",
    "plt.legend(loc=[1.01,0])\n",
    "plt.show()"
   ]
  },
  {
   "cell_type": "markdown",
   "metadata": {},
   "source": [
    "Next, plot these three eigengenes against each other:"
   ]
  },
  {
   "cell_type": "code",
   "execution_count": 17,
   "metadata": {},
   "outputs": [
    {
     "data": {
      "text/plain": [
       "Text(0.5, 1.0, '2nd vs 3rd')"
      ]
     },
     "execution_count": 17,
     "metadata": {},
     "output_type": "execute_result"
    },
    {
     "data": {
      "image/png": "[encoded data removed]",
      "text/plain": [
       "<Figure size 1296x432 with 3 Axes>"
      ]
     },
     "metadata": {},
     "output_type": "display_data"
    }
   ],
   "source": [
    "f, (ax1, ax2, ax3) = plt.subplots(1, 3, figsize = (18,6))\n",
    "plt.suptitle('Plot of first 3 eigengenes with the largest variance against each other', size=20)\n",
    "\n",
    "ax1.scatter(eg1, eg2)\n",
    "ax1.set_title('1st vs 2nd', size=15)\n",
    "ax2.scatter(eg1, eg3)\n",
    "ax2.set_title('1st vs 3rd', size=15)\n",
    "ax3.scatter(eg2, eg3)\n",
    "ax3.set_title('2nd vs 3rd', size=15)"
   ]
  },
  {
   "cell_type": "markdown",
   "metadata": {},
   "source": [
    "## 4. Creating the autoencoder model"
   ]
  },
  {
   "cell_type": "code",
   "execution_count": 18,
   "metadata": {
    "collapsed": true
   },
   "outputs": [],
   "source": [
    "data = pca_eigengenes.to_numpy()"
   ]
  },
  {
   "cell_type": "code",
   "execution_count": 19,
   "metadata": {
    "collapsed": true
   },
   "outputs": [],
   "source": [
    "def jump_control(X):\n",
    "    X_ = X.copy()\n",
    "    pop_list = []\n",
    "    for i in range(1,len(X)):\n",
    "        if X[i]-X[i-1]<10:\n",
    "            pop_list.append(i)\n",
    "    pop_list.sort(reverse=True)\n",
    "    for i in pop_list:\n",
    "        X_.pop(i)\n",
    "    return X_\n",
    "\n",
    "def iterr(data):\n",
    "    model = cyclops(data.shape[1])\n",
    "    n_epochs = 500\n",
    "    history = model.train(data[np.random.permutation(data.shape[0]), :], epochs=n_epochs, verbose=n_epochs, batch_size=10)\n",
    "    loss = history.history['loss'][-1]\n",
    "    \n",
    "    phase_df = model.phase_output(data)\n",
    "    phase_idx = phase_df.index.to_numpy()\n",
    "    phase_list = phase_df.pseudotime.to_numpy()\n",
    "    \n",
    "    zipped = list(zip(phase_idx,phase_list))\n",
    "    re_phase_list = np.array([sorted(zipped, key = lambda t: t[0])[i][1] for i in range(len(zipped))])\n",
    "    re_phase_idx = np.array([sorted(zipped, key = lambda t: t[0])[i][0] for i in range(len(zipped))])\n",
    "    \n",
    "    asc_phase_jump, desc_phase_jump = [],[]\n",
    "    for i in range(len(re_phase_list)-1):\n",
    "        if re_phase_list[i+1]-re_phase_list[i] > np.pi:\n",
    "            desc_phase_jump.append(i)\n",
    "        elif re_phase_list[i+1]-re_phase_list[i] < -np.pi:\n",
    "            asc_phase_jump.append(i)\n",
    "            \n",
    "    if len(asc_phase_jump) > len(desc_phase_jump):\n",
    "        phase_jump = asc_phase_jump\n",
    "    else:\n",
    "        phase_jump = desc_phase_jump\n",
    "\n",
    "\n",
    "    phase_jump = jump_control(phase_jump)\n",
    "\n",
    "    jumps = len(phase_jump)\n",
    "    for i in range(jumps):\n",
    "        if len(asc_phase_jump) > len(desc_phase_jump):\n",
    "            re_phase_list = np.array([re_phase_list[i] if i < phase_jump[0]+1 else re_phase_list[i] + 2*np.pi for i in range(len(zipped))])\n",
    "        else:\n",
    "            re_phase_list = np.array([re_phase_list[i] if i < phase_jump[0]+1 else re_phase_list[i] - 2*np.pi for i in range(len(zipped))])\n",
    "        phase_jump.pop(0)\n",
    "    \n",
    "    from scipy.stats import linregress\n",
    "\n",
    "    lin = linregress(re_phase_idx, re_phase_list)\n",
    "    \n",
    "    r_squared = lin[2]**2\n",
    "    \n",
    "    return loss, r_squared"
   ]
  },
  {
   "cell_type": "code",
   "execution_count": 20,
   "metadata": {
    "collapsed": true
   },
   "outputs": [],
   "source": [
    "%%capture\n",
    "%%time\n",
    "\n",
    "n_iter = 50\n",
    "\n",
    "iter_list = np.zeros([n_iter,2])\n",
    "\n",
    "for i in range(n_iter):\n",
    "    iter_list[i] = iterr(data)"
   ]
  },
  {
   "cell_type": "code",
   "execution_count": 21,
   "metadata": {
    "collapsed": true
   },
   "outputs": [],
   "source": [
    "cs = np.array([iter_list[i][0] for i in range(len(iter_list))])\n",
    "r2 = np.array([iter_list[i][1] for i in range(len(iter_list))])"
   ]
  },
  {
   "cell_type": "code",
   "execution_count": 22,
   "metadata": {
    "scrolled": false
   },
   "outputs": [
    {
     "name": "stderr",
     "output_type": "stream",
     "text": [
      "/Users/henrylim/.local/lib/python3.6/site-packages/matplotlib/__init__.py:886: MatplotlibDeprecationWarning: \n",
      "examples.directory is deprecated; in the future, examples will be found relative to the 'datapath' directory.\n",
      "  \"found relative to the 'datapath' directory.\".format(key))\n"
     ]
    },
    {
     "data": {
      "image/png": "[encoded data removed]",
      "text/plain": [
       "<Figure size 720x576 with 1 Axes>"
      ]
     },
     "metadata": {},
     "output_type": "display_data"
    }
   ],
   "source": [
    "import seaborn as sns\n",
    "import statistics\n",
    "\n",
    "plt.figure(figsize=(10,8))\n",
    "sns.boxplot(r2)\n",
    "plt.xlabel(r'$R^2$ value', size=15)\n",
    "plt.title(r'Boxplot of $R^2$ values for Mouse Liver Data (PCA), Median = {:.4f}'.format(statistics.median(r2)), size=20)d\n",
    "plt.show()"
   ]
  },
  {
   "cell_type": "code",
   "execution_count": null,
   "metadata": {
    "collapsed": true
   },
   "outputs": [],
   "source": []
  }
 ],
 "metadata": {
  "kernelspec": {
   "display_name": "Python 3",
   "language": "python",
   "name": "python3"
  },
  "language_info": {
   "codemirror_mode": {
    "name": "ipython",
    "version": 3
   },
   "file_extension": ".py",
   "mimetype": "text/x-python",
   "name": "python",
   "nbconvert_exporter": "python",
   "pygments_lexer": "ipython3",
   "version": "3.6.10"
  }
 },
 "nbformat": 4,
 "nbformat_minor": 2
}
