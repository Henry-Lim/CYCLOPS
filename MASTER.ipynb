{
 "cells": [
  {
   "cell_type": "code",
   "execution_count": 1,
   "metadata": {},
   "outputs": [
    {
     "data": {
      "text/html": [
       "<style>.output {\n",
       "    font-family: ariel;\n",
       "    align-items: normal;\n",
       "    text-align: normal;\n",
       "}\n",
       "\n",
       "div.output_svg div { margin : auto; }\n",
       ".div.output_area.MathJax_Display{ text-align: center; }\n",
       "div.text_cell_render { font-family: sans-serif; }\n",
       "\n",
       "details {\n",
       "    margin: 20px 0px;\n",
       "    padding: 0px 10px;\n",
       "    border-radius: 3px;\n",
       "    border-style: solid;\n",
       "    border-color: black;\n",
       "    border-width: 2px;\n",
       "}\n",
       "details div{padding: 20px 30px;}\n",
       "details summary{font-size: 18px;}\n",
       "\n",
       "table {\n",
       "     margin: calc(auto + 10px) !important;\n",
       "     border: solid !important;\n",
       " }\n",
       "\n",
       " th, td {\n",
       "    text-align: left !important;\n",
       " }\n",
       "\n",
       " .further_box {\n",
       "    background-color:rgb(230, 230, 230);\n",
       "    border-style: solid;\n",
       "    margin: 10px 10px 10px 0px;\n",
       "    padding: 10px;\n",
       "    left:calc(auto - 20px);\n",
       " }\n",
       "\n",
       " .question_box {\n",
       "    background-color:rgb(255, 255, 225);\n",
       "    border-style: solid;\n",
       "    margin: 10px 10px 10px 0px;\n",
       "    padding: 10px;\n",
       "    left:calc(auto - 20px);\n",
       " }</style>\n",
       "     <input type=\"submit\" value='Home' id=\"initiated\" class='home_button' onclick='window.location=\"../index.ipynb\"' style='float: right; margin-right: 40px;'>\n",
       "    <script>\n",
       "    $('.home_button').not('#initiated').remove();\n",
       "    $('.home_button').removeAttr('id');\n",
       "    $(\".home_button\").insertBefore($(\"div.cell\").first());\n",
       "    \n",
       "    $('div.input.init_hidden').hide()\n",
       "    $('div.input.init_shown').show()\n",
       "    $('.toggle_button').each(function( index, element ) {\n",
       "       var prefix;\n",
       "       if (this.classList.contains('init_show')) {\n",
       "           prefix = 'Show '\n",
       "       }\n",
       "       else if (this.classList.contains('init_hide')) {\n",
       "           prefix = 'Hide '\n",
       "       };\n",
       "       $(this).val(prefix + $(this).val().substr($(this).val().indexOf(\" \") + 1))\n",
       "    });\n",
       "    IPython.OutputArea.prototype._should_scroll = function(lines) {\n",
       "        return false;\n",
       "    }\n",
       "    </script>\n",
       "    "
      ],
      "text/plain": [
       "<IPython.core.display.HTML object>"
      ]
     },
     "metadata": {},
     "output_type": "display_data"
    },
    {
     "data": {
      "text/html": [
       "\n",
       "    <script>\n",
       "      function get_new_label(butn, hide) {\n",
       "          var shown = $(butn).parents(\"div.cell.code_cell\").find('div.input').is(':visible');\n",
       "          var title = $(butn).val().substr($(butn).val().indexOf(\" \") + 1)\n",
       "          return ((shown) ? 'Show ' : 'Hide ') + title\n",
       "      }\n",
       "      function code_toggle(butn, hide) {\n",
       "        $(butn).val(get_new_label(butn,hide));\n",
       "        $(hide).slideToggle();\n",
       "      };\n",
       "    </script>\n",
       "    <input type=\"submit\" value='initiated' class='toggle_button'>\n",
       "    <script>\n",
       "        var hide_area = $(\".toggle_button[value='initiated']\").parents('div.cell').prevAll().addBack().slice(-1)\n",
       "        hide_area = $(hide_area).find(\"div.input\").add($(hide_area).filter(\"div.text_cell\"))\n",
       "        $(\".toggle_button[value='initiated']\").prop(\"hide_area\", hide_area)\n",
       "        $(\".toggle_button[value='initiated']\").click(function(){\n",
       "            code_toggle(this, $(this).prop(\"hide_area\"))\n",
       "        }); \n",
       "$(\".toggle_button[value='initiated']\").parents(\"div.output_area\").insertBefore($(\".toggle_button[value='initiated']\").parents(\"div.output\").find('div.output_area').first());\n",
       "    var shown = $(\".toggle_button[value='initiated']\").parents(\"div.cell.code_cell\").find('div.input').is(':visible');\n",
       "    var title = ((shown) ? 'Hide ' : 'Show ') + 'setup code'; \n",
       "     $(\".toggle_button[value='initiated']\").addClass(\"init_show\");\n",
       "            $(hide_area).addClass(\"init_hidden\");  $(\".toggle_button[value='initiated']\").val(title);\n",
       "    </script>"
      ],
      "text/plain": [
       "<IPython.core.display.HTML object>"
      ]
     },
     "metadata": {},
     "output_type": "display_data"
    }
   ],
   "source": [
    "%config InlineBackend.figure_format = 'svg' # change output plot display format to 'svg'\n",
    "\n",
    "# import the required modules for this notebook\n",
    "import numpy\n",
    "import matplotlib.pyplot as plt\n",
    "\n",
    "# import the helper functions from the parent directory,\n",
    "# these help with things like graph plotting and notebook layout\n",
    "import sys\n",
    "sys.path.append('..')\n",
    "from helper_functions import *\n",
    "\n",
    "# set things like fonts etc - comes from helper_functions\n",
    "set_notebook_preferences()\n",
    "\n",
    "# add a show/hide code button - also from helper_functions\n",
    "toggle_code(title = \"setup code\")"
   ]
  },
  {
   "cell_type": "markdown",
   "metadata": {},
   "source": [
    "## Cambridge UROP 2020: Application of CYCLOPS in identifying rhythms in biological data\n",
    "\n",
    "_Author: Henry Lim_"
   ]
  },
  {
   "cell_type": "markdown",
   "metadata": {},
   "source": [
    "### Background"
   ]
  },
  {
   "cell_type": "markdown",
   "metadata": {},
   "source": [
    "Circadian rhythms influence many aspects of physiology and behavior, and modulate many processes in mammals including body temperature, blood pressure, and locomotor activity. Identifying molecular mechanisms in humans is challenging as existing large-scale datasets rarely include time of day. To address this problem, we combine understanding of periodic structure, evolutionary conservation, and unsupervised machine learning to order unordered human biopsy data along a periodic cycle. This project addresses the problem of inferring time labels from such data to identify circadian rhythms in genes of humans and other mammals.\n",
    "\n",
    "The algorithm investigated in this project, cyclic ordering by periodic structure (CYCLOPS), utilises evolutionary conservation and machine learning to identify elliptical structure in high-dimensional data. From this structure, CYCLOPS estimates the phase of each sample. We validated CYCLOPS first using artificially-generated oscillatory data followed by temporally ordered mouse and human data and demonstrated its consistency."
   ]
  },
  {
   "cell_type": "markdown",
   "metadata": {},
   "source": [
    "### Introduction"
   ]
  },
  {
   "cell_type": "markdown",
   "metadata": {},
   "source": [
    "The original authors of CYCLOPS implemented the autoencoder structure and conducted downstream analysis in Julia 0.3.10. The associated files are available for download on GitHub (https://github.com/ranafi/CYCLOPS). Much of the first 2-3 weeks was spent on understanding the code in Julia and writing a similar version of CYCLOPS in Python 3.6.10."
   ]
  },
  {
   "cell_type": "markdown",
   "metadata": {},
   "source": [
    "### Version info"
   ]
  },
  {
   "cell_type": "markdown",
   "metadata": {},
   "source": [
    "These are the versions of Python packages used in this project:\n",
    "\n",
    "_Tensorflow_: 2.3.0 <br>\n",
    "_Keras_: 2.4.3 <br>\n",
    "_Scikit-learn_: 0.23.1 <br>\n",
    "_Pandas_: 1.0.5 <br>\n",
    "_Matplotlib_: 3.0.0 <br>"
   ]
  },
  {
   "cell_type": "code",
   "execution_count": 2,
   "metadata": {},
   "outputs": [
    {
     "name": "stdout",
     "output_type": "stream",
     "text": [
      "2.3.0\n",
      "2.4.3\n",
      "0.23.1\n",
      "1.0.5\n",
      "3.0.0\n"
     ]
    }
   ],
   "source": [
    "import tensorflow, keras, sklearn, pandas, matplotlib\n",
    "print(tensorflow.__version__)\n",
    "print(keras.__version__)\n",
    "print(sklearn.__version__)\n",
    "print(pandas.__version__)\n",
    "print(matplotlib.__version__)"
   ]
  },
  {
   "cell_type": "markdown",
   "metadata": {},
   "source": [
    "#### CYCLOPS v1\n",
    "\n",
    "The CYCLOPS autoencoder structure was implemented using the __keras__ library, which was chosen for its ability to enable fast experimentation with deep neural networks. The first CYCLOPS model structure created using keras is shown in the diagram below:"
   ]
  },
  {
   "cell_type": "markdown",
   "metadata": {},
   "source": [
    "<div class ='box'>\n",
    "<details>\n",
    "<summary><b> CYCLOPS v1 model diagram </b></summary>\n",
    "\n",
    "<div>\n",
    "<img src=\"img/model_plot_v1.png\" width=\"800\"/><br>\n",
    "<center><figcaption>Fig.1: CYCLOPS_v1 model structure (arbitrary input size)</figcaption></center>\n",
    "</div>\n",
    "\n",
    "</details>\n",
    "</div>"
   ]
  },
  {
   "cell_type": "markdown",
   "metadata": {},
   "source": [
    "<div class ='box'>\n",
    "<details> \n",
    "\n",
    "<summary><b> Bottleneck layer </b></summary>\n",
    "\n",
    "<br>\n",
    "\n",
    "<div>\n",
    "<img src=\"img/bottleneck_layer.png\" width=\"750\"/><br>\n",
    "</div>\n",
    "\n",
    "\n",
    "\n",
    "The bottleneck layer consists of two nodes, initially which are <i>encoder_circular_in_0</i> and <i>encoder_circular_in_1</i>. These are created as Dense layers with one unit. These two bottleneck nodes have to be constrained to lie on a unit circle. In order to achieve this, we divide the value of each node by the square root of the sum of squares of the two nodes (in other words, the magnitude):\n",
    "\n",
    "<br>\n",
    "\n",
    "<center>\n",
    "$a_{0,n} = \\frac{a_0}{\\sqrt{a_0^2+a_1^2}}$, \n",
    "$a_{1,n} = \\frac{a_1}{\\sqrt{a_0^2+a_1^2}}$\n",
    "</center>\n",
    "\n",
    "$a_{0,n}$ and $a_{1,n}$ are the final constrained bottleneck nodes, represented by <i>encoder_circular_out_0</i> and <i>encoder_circular_out_1</i> in the model diagram.\n",
    "\n",
    "\n",
    "</details>\n",
    "</div>"
   ]
  },
  {
   "cell_type": "markdown",
   "metadata": {},
   "source": [
    "Before training is carried out, the neural network starts with some initial weights which are iteratively updated during training. The term kernel_initializer describes the statistical distribution or function to use for initialising these weights. We used a __glorot_normal kernel initializer__, which draws samples from a truncated normal distribution centered on 0 with stddev = $\\sqrt\\frac{2}{(u_{in} + u_{out})}$, where $u_{in}$ and $u_{out}$ are the number of input and output units in the weight tensor respectively$^{[1]}$."
   ]
  },
  {
   "cell_type": "markdown",
   "metadata": {},
   "source": [
    "The CYCLOPS autoencoder network was trained using __Stochastic Gradient Descent (SGD) with momentum__. It differs from regular SGD in the momentum, which is a method that helps accelerate gradients vectors in the right directions, thus resulting in faster convergence$^{[2]}$. In this instance of CYCLOPS, the momentum was set to be 0.5 and the learning rate was set at 0.3. The batch size was set at 10. These values are consistent with those used in the original CYCLOPS paper."
   ]
  },
  {
   "cell_type": "markdown",
   "metadata": {},
   "source": [
    "### Artificial Dataset"
   ]
  },
  {
   "cell_type": "markdown",
   "metadata": {},
   "source": [
    "It was decided that before CYCLOPS could be applied on human/mouse tissue datasets, a good litmus test would be to apply the initial model on an artificially-generated dataset, composed of a mixture of oscillatory and non-oscillatory genes. Testing it on an artificial dataset would allow a good evaluation of the autoencoder model as the actual ordering of the oscillatory genes was known and this could be compared to the result produced by the autoencoder model.  The notebook in which this analysis was done can be found [here](./artificial.ipynb)."
   ]
  },
  {
   "cell_type": "markdown",
   "metadata": {},
   "source": [
    "The result using 1000 noisy genes, in which 10% are oscillatory, sampled at 48 non-uniform times, is shown below:<br><br>\n",
    "\n",
    "<div>\n",
    "<img src=\"img/artificial_ord.png\" width=\"500\"/><br>\n",
    "<center><figcaption>Fig.2: Plots of CYCLOPS phase against sample collection times for Artificial Data (1000 genes, 48 samples)</figcaption></center>\n",
    "</div>"
   ]
  },
  {
   "cell_type": "markdown",
   "metadata": {},
   "source": [
    "<br>\n",
    "The ordering produced by CYCLOPS as shown in Figure 2 appeared very promising, showing monotonously increasing phase with sample collection times. There is a single phase jump as the phase wraps around $\\pi$.\n",
    "\n",
    "The plots of gene expression against CYCLOPS phase for the 9 genes with the highest $R^2$ are shown below, displaying near-perfect reconstruction.\n",
    "<br><br>"
   ]
  },
  {
   "cell_type": "markdown",
   "metadata": {},
   "source": [
    "<div>\n",
    "<img src=\"img/artificial.png\" width=\"800\"/><br>\n",
    "<center><figcaption>Fig.3: Plots of gene expression against CYCLOPS phase for the 9 genes with the highest $R^2$ values in the Hughes Liver Dataset</figcaption></center>\n",
    "</div>"
   ]
  },
  {
   "cell_type": "markdown",
   "metadata": {},
   "source": [
    "#### CYCLOPS v2\n",
    "\n",
    "After initial testing on the human and mouse datasets, it was evident that there was plenty of room for improvement in CYCLOPS autoencoder performance. A second version of CYCLOPS was created, and the changes introduced to the original model include:\n",
    "\n",
    "\n",
    "<li> Added 2 <b>Hidden</b> layers: one between the input and bottleneck layers, and one between the bottleneck and output layers.\n",
    "<li> Added 4 <b>Dropout</b> layers, in which randomly selected nodes are selected to be 'dropped-out' with a given probability (in this case 20%) each weight update cycle. This has the effect of the network becoming less sensitive to the specific weights of neurons, resulting in a network that is capable of better generalization and is less likely to overfit the training data.\n",
    "<li> Changed the training loss from MSE to <b>Cosine Similarity</b>. Cosine Similarity was used instead of Mean Squared Error (MSE) because it was deemed as a more suitable loss function in a setting where it is desired to maximise the proximity between the predictions and targets. It is a negative quantity between 0 and -1, where values closer to -1 indicate greater similarity."
   ]
  },
  {
   "cell_type": "markdown",
   "metadata": {},
   "source": [
    "<div class ='box'>\n",
    "<details>\n",
    "<summary><b> CYCLOPS v2 model diagram </b></summary>\n",
    "\n",
    "<div>\n",
    "<img src=\"img/model_plot_v2.png\" width=\"800\"/><br>\n",
    "<center><figcaption>Fig.4: CYCLOPS_v2 model structure (arbitrary input size)</figcaption></center>\n",
    "</div>\n",
    "\n",
    "</details>\n",
    "</div>"
   ]
  },
  {
   "cell_type": "markdown",
   "metadata": {},
   "source": [
    "### Dimensionality Reduction <br>\n",
    "\n",
    "Before feeding the gene expression data into the autoencoder network, it is necessary to project the data onto a lower dimensional space. The two methods of dimensionality reduction explored in this project are __Principal Component Analysis (PCA)__, and a variant of PCA, __Sparse Principal Component Analysis (SPCA)__."
   ]
  },
  {
   "cell_type": "markdown",
   "metadata": {},
   "source": [
    "#### PCA\n",
    "\n",
    "To implement PCA, we used scikit-learn, a software machine learning library available for Python, and compared it to conducting singular value decomposition (SVD) from scratch. SVD states that any matrix A can be factorized as:\n",
    "\n",
    "$$\n",
    "A = USV^H\n",
    "$$\n",
    "\n",
    "\n",
    "where $U$ and $V$ are orthogonal matrices with orthonormal eigenvectors of $AA^T$ and $A^TA$ respectively. $S$ is a diagonal matrix with singular values, which are the root of the positive eigenvalues of $AA^T$ or $A^TA$ (both have identical positive eigenvalues). The diagonal elements of $S$ are composed of singular values. In their normalised form, the statistical interpretation of singular values is in the form of **variance** in the data explained by the various components. \n",
    "\n",
    "We retained singular values (hence principal components) that retained up to __90%__ of the total variance.  We then verified that both methods produced the same principal components (eigengenes)."
   ]
  },
  {
   "cell_type": "markdown",
   "metadata": {},
   "source": [
    "Initially, it was found that conducting PCA on the entire dataset of genes did not result in good orderings; additionally, the eigengenes produced did not seem to be oscillatory, as we would have expected. To fix this, __variance filtering__ was performed on the data before performing PCA, in which only the genes in the __top 10%__ of variance were retained. This resulted in a much better ordering as well as quicker processing."
   ]
  },
  {
   "cell_type": "markdown",
   "metadata": {},
   "source": [
    "#### Sparse PCA (SPCA)\n",
    "\n",
    "The same library, scikit-learn, was used to implement Sparse PCA. The reason for using Sparse PCA was initially due to poor performance using PCA - this was later improved using variance pre-processing. There are two main parameters: __n_components__, which controls the number of sparse atoms to extract from the data, and __alpha__, which is the sparsity control parameter.\n",
    "\n",
    "Later, we decided to use [Karthik's Sparse PCA](./spca.py), due to its greater control over both the sparsity control parameter and the number of non-zero sparse components."
   ]
  },
  {
   "cell_type": "markdown",
   "metadata": {},
   "source": [
    "### Hughes Liver Dataset"
   ]
  },
  {
   "cell_type": "markdown",
   "metadata": {},
   "source": [
    "#### PCA\n",
    "\n",
    "After performing variance filtering and keeping only the genes with the top 10% variance, PCA was performed on the reduced dataset. The three eigengenes with the largest variance produced by PCA are shown in the figure below:\n",
    "\n",
    "<br>\n",
    "\n",
    "<div>\n",
    "<img src=\"img/h_eig_pca.png\" width=\"500\"/><br>\n",
    "<center><figcaption>Fig.5: Plots of the three eigengenes with the largest variance for the Hughes Liver Dataset produced by PCA</figcaption></center>\n",
    "</div>"
   ]
  },
  {
   "cell_type": "markdown",
   "metadata": {},
   "source": [
    "To assess reordering performance, it was decided that a line was to be fit using linear regression to the plot of CYCLOPS phase against sample collection times as shown below in Figure 6. The corresponding $R^2$ value was used to assess the quality of the fit. The full notebook in which this analysis was done can be found [here](./hughes_liver_pca.ipynb).\n",
    "\n",
    "<br>\n",
    "\n",
    "<div>\n",
    "<img src=\"img/h_pca_ord.png\" width=\"450\"/><br>\n",
    "<center><figcaption>Fig.6: Plot of CYCLOPS phase against sample collection times for the Hughes Liver Dataset (PCA)</figcaption></center>\n",
    "</div>"
   ]
  },
  {
   "cell_type": "markdown",
   "metadata": {},
   "source": [
    "<br>\n",
    "This was repeated 50 times and the $R^2$ value for each pass was recorded. A boxplot was made for the $R^2$ values, as shown below in Figure 7.\n",
    "\n",
    "<br>\n",
    "\n",
    "<div>\n",
    "<img src=\"img/box_h_pca.png\" width=\"500\"/><br>\n",
    "<center><figcaption>Fig.7: Boxplot of $R^2$ values for the Hughes Liver Dataset</figcaption></center>\n",
    "</div>"
   ]
  },
  {
   "cell_type": "markdown",
   "metadata": {},
   "source": [
    "From the boxplot, it is evident that CYCLOPS produces consistently good orderings for the Hughes Liver Dataset, with a median $R^2$ value of 0.987. The full notebook in which this analysis was done can be found [here](./boxplots_pca.ipynb)."
   ]
  },
  {
   "cell_type": "markdown",
   "metadata": {},
   "source": [
    "#### Sparse PCA\n",
    "\n",
    "As discussed above, there are two different methods of performing Sparse PCA: scikit-learn and Karthik's method. To compare the reordering performance (as determined by $R^2$ value) for each method, reordering was performed 50 times using each and boxplots of $R^2$ value were made. The Sparse PCA settings used were: \n",
    "\n",
    "<li> scikit-learn: n_components = 9, $\\alpha$ = 3   &nbsp; &nbsp;   [Notebook](./hughes_liver_spca_scikit.ipynb)\n",
    "<li> Karthik's: n_components = 9, $\\alpha$ = 8     &nbsp; &nbsp;   [Notebook](./hughes_liver_spca_karthik.ipynb)\n",
    "\n",
    "<br>\n",
    "\n",
    "<table><tr>\n",
    "<td> <img src=\"img/box_h_spca_sk.png\" alt=\"Drawing\" style=\"width: 500px;\"/> </td>\n",
    "<td> <img src=\"img/box_h_spca_k.png\" alt=\"Drawing\" style=\"width: 510px;\"/> </td>\n",
    "</tr></table>\n",
    "<center>Fig.8: Comparison of boxplots of $R^2$ values for two types of Sparse PCA: scikit-learn (left) and Karthik's (right) on Hughes Liver Data\n",
    "</center>"
   ]
  },
  {
   "cell_type": "markdown",
   "metadata": {},
   "source": [
    "From the above plots, it is evident that there is little difference between the reordering performances of the two Sparse PCA methods. However, Karthik's Sparse PCA was preferred due to its ability to fix the number of non-zero sparse principal components; similar to PCA, it produced consistently good orderings with a good median $R^2$ value of 0.980."
   ]
  },
  {
   "cell_type": "markdown",
   "metadata": {},
   "source": [
    "Using Karthik's Sparse PCA, the eigengenes produced were oscillatory, similar to the ones produced by PCA:\n",
    "\n",
    "<br>\n",
    "\n",
    "<div>\n",
    "<img src=\"img/h_eig_pca.png\" width=\"500\"/><br>\n",
    "<center><figcaption>Fig.9: Plots of the three eigengenes with the largest variance for the Hughes Liver Dataset produced by Sparse PCA (Karthik's Method)</figcaption></center>\n",
    "</div>"
   ]
  },
  {
   "cell_type": "markdown",
   "metadata": {},
   "source": [
    "An example of a phase plot produced by CYCLOPS after Sparse PCA, with a line fitted by linear regression, is shown below in Figure 10.\n",
    "\n",
    "<br>\n",
    "\n",
    "<div>\n",
    "<img src=\"img/h_spca_ord.png\" width=\"700\"/><br>\n",
    "<center><figcaption>Fig.10: Plot of CYCLOPS phase against sample collection times for the Hughes Liver Dataset (Sparse PCA)</figcaption></center>\n",
    "</div>"
   ]
  },
  {
   "cell_type": "markdown",
   "metadata": {
    "collapsed": true
   },
   "source": [
    "### Mouse Liver Dataset"
   ]
  },
  {
   "cell_type": "markdown",
   "metadata": {
    "collapsed": true
   },
   "source": [
    "Similar to the Hughes Liver Dataset, CYCLOPS produced very good reorderings for the Mouse Liver Dataset after preprocessing by both PCA and Sparse PCA. The boxplots of $R^2$ value produced using both methods for 50 reorderings illustrate this:\n",
    "\n",
    "<table><tr>\n",
    "<td> <img src=\"img/box_m_pca.png\" alt=\"Drawing\" style=\"width: 450px;\"/> </td>\n",
    "<td> <img src=\"img/box_m_spca_k.png\" alt=\"Drawing\" style=\"width: 550px;\"/> </td>\n",
    "</tr></table>\n",
    "<center>Fig.11: Comparison of boxplots of $R^2$ values for PCA and Karthik's Sparse PCA on Mouse Liver Data\n",
    "</center>"
   ]
  },
  {
   "cell_type": "markdown",
   "metadata": {},
   "source": [
    "Example of eigengenes produced by Sparse PCA for the Mouse Liver Dataset:\n",
    "\n",
    "<br>\n",
    "\n",
    "<div>\n",
    "<img src=\"img/m_eig_spca.png\" width=\"450\"/><br>\n",
    "<center><figcaption>Fig.12: Plots of the three eigengenes with the largest variance for the Mouse Liver Dataset produced by Sparse PCA (Karthik's Method)</figcaption></center>\n",
    "</div>"
   ]
  },
  {
   "cell_type": "markdown",
   "metadata": {},
   "source": [
    "An example of a phase plot produced by CYCLOPS after Sparse PCA, with a line fitted by linear regression, is shown below in Figure 10.\n",
    "\n",
    "<br>\n",
    "\n",
    "<div>\n",
    "<img src=\"img/m_spca_ord.png\" width=\"700\"/><br>\n",
    "<center><figcaption>Fig.13: Plot of CYCLOPS phase against sample collection times for the Mouse Liver Dataset (Sparse PCA)</figcaption></center>\n",
    "</div>"
   ]
  },
  {
   "cell_type": "markdown",
   "metadata": {},
   "source": [
    "### 12 Tissue Dataset"
   ]
  },
  {
   "cell_type": "markdown",
   "metadata": {},
   "source": [
    "For the 12 tissue dataset, Karthik's Sparse PCA was the chosen dimensionality reduction method, with settings $\\alpha$ = 8 and n_components = 9. Each tissue was fed through CYCLOPS 50 times and the resulting boxplots of $R^2$ values are shown below in Figure 10, ranked by descending order of median $R^2$ value:\n",
    "\n",
    "<br>\n",
    "\n",
    "<div>\n",
    "<img src=\"img/box_12_tissue.jpg\" width=\"900\"/><br>\n",
    "<center><figcaption>Fig.14: Plots of gene expression against CYCLOPS phase for the 9 genes with the highest $R^2$ values in the Liv_CT Dataset</figcaption></center>\n",
    "</div>"
   ]
  },
  {
   "cell_type": "markdown",
   "metadata": {},
   "source": [
    "The six tissues with median $R^2$ value greater than or equal to 0.80 are __Liv, Kid, BFat, Aor, Lun, Cer__. These are deemed to be the tissues that CYCLOPS can reorder reasonably well. There is a significant dropoff in median $R^2$ value after these tissues (to 0.60 for Adr).\n",
    "\n",
    "The master notebook for analysis on the 12 tissues can be found [here](./12_tissue_master.ipynb). In the notebook, the tissue to be investigated can be changed in cell 3. The notebook on boxplot analysis can be found [here](./12_tissue_boxplots.ipynb)."
   ]
  },
  {
   "cell_type": "markdown",
   "metadata": {},
   "source": [
    "#### Liv_CT\n",
    "\n",
    "CYCLOPS demonstrated consistently excellent reordering on Liver data, with a median $R^2$ value of 0.987 and a near-zero interquartile range.\n",
    "\n",
    "<br>\n",
    "\n",
    "<div>\n",
    "<img src=\"img/liv_gen_r2.png\" width=\"700\"/><br>\n",
    "<center><figcaption>Fig.15: Plot of CYCLOPS phase against sample collection times for the Mouse Liver (Sparse PCA) Dataset</figcaption></center>\n",
    "</div>"
   ]
  },
  {
   "cell_type": "markdown",
   "metadata": {},
   "source": [
    "#### Comparison between CYCLOPS_v1 and CYCLOPS_V2"
   ]
  },
  {
   "cell_type": "markdown",
   "metadata": {},
   "source": [
    "The table below compares the median $R^2$ values for 50 iterations of CYCLOPS_v1 and CYCLOPS_v2 on all the 12 tissue datasets. From this, it is evident that the second version of CYCLOPS gave a better reordering performance as it outperformed the first version in all but three tissues.\n",
    "\n",
    "<br>\n",
    "\n",
    "<div>\n",
    "<img src=\"img/12_tissue_v1_v2.png\" width=\"500\"/><br>\n",
    "</div>"
   ]
  },
  {
   "cell_type": "markdown",
   "metadata": {},
   "source": [
    "#### Things tried:\n",
    "\n",
    "<ol>\n",
    "<li> Cross-validation to determine the best and worst seeds for kernel initialisations. It was found that the best seed does not necassarily guarantee the best reordering performance.\n",
    "\n",
    "<br><br>\n",
    "\n",
    "4-fold cross-validation was conducted on Lun_CT using 40 different seeds, and the average train and test errors were plotted for each as shown below:\n",
    "\n",
    "<br><br>\n",
    "\n",
    "<div>\n",
    "<img src=\"img/cross_validation_lun.png\" width=\"600\"/><br>\n",
    "<center><figcaption>Fig.16: Average train and test errors for 4-fold cross-validation on 40 different seeds</figcaption></center>\n",
    "</div>\n",
    "\n",
    "</ol>"
   ]
  },
  {
   "cell_type": "markdown",
   "metadata": {},
   "source": [
    "Next, the best and worst seeds were identified and used as the kernel initialisations to perform reordering.\n",
    "\n",
    "<br>\n",
    "\n",
    "<table><tr>\n",
    "<td> <img src=\"img/lun_best_test.png\" alt=\"Drawing\" style=\"width: 450px;\"/> </td>\n",
    "<td> <img src=\"img/lun_worst_test.png\" alt=\"Drawing\" style=\"width: 450px;\"/> </td>\n",
    "</tr></table>\n",
    "<center>Fig.17: Comparison of reordering performance using the best (left) and worst (right) seeds\n",
    "</center>"
   ]
  },
  {
   "cell_type": "markdown",
   "metadata": {},
   "source": [
    "From Figure 17, it is clear that the best seed gave a worse reordering than the worst seed, but this could also be a result of the stochastic nature of the autoencoder network."
   ]
  },
  {
   "cell_type": "markdown",
   "metadata": {},
   "source": [
    "#### Things to try:\n",
    "<ol>\n",
    "<li> Experiment with different values for:\n",
    "        <ul>\n",
    "        <li>momentum\n",
    "        <li>learning rate\n",
    "        <li>number of epochs\n",
    "        </ul>\n",
    "<br>\n",
    "\n",
    "<li> Experiment with kernel initialisations from a range of statistical distributions\n",
    "</ol>"
   ]
  },
  {
   "cell_type": "markdown",
   "metadata": {},
   "source": [
    "### References"
   ]
  },
  {
   "cell_type": "markdown",
   "metadata": {},
   "source": [
    "[1] Keras, https://keras.rstudio.com/reference/initializer_glorot_normal.html <br>\n",
    "\n",
    "[2] Towards Data Science (2017), _Stochastic Gradient Descent with momentum_, Available at: https://towardsdatascience.com/stochastic-gradient-descent-with-momentum-a84097641a5d (accessed September 4, 2020)"
   ]
  },
  {
   "cell_type": "markdown",
   "metadata": {},
   "source": [
    "\n"
   ]
  }
 ],
 "metadata": {
  "kernelspec": {
   "display_name": "Python 3",
   "language": "python",
   "name": "python3"
  },
  "language_info": {
   "codemirror_mode": {
    "name": "ipython",
    "version": 3
   },
   "file_extension": ".py",
   "mimetype": "text/x-python",
   "name": "python",
   "nbconvert_exporter": "python",
   "pygments_lexer": "ipython3",
   "version": "3.6.10"
  }
 },
 "nbformat": 4,
 "nbformat_minor": 2
}
