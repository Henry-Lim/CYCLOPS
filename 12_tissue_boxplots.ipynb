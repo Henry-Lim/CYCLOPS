{
 "cells": [
  {
   "cell_type": "markdown",
   "metadata": {},
   "source": [
    "# CYCLOPS on 12 Tissue Data (Boxplots - consistency)"
   ]
  },
  {
   "cell_type": "markdown",
   "metadata": {},
   "source": [
    "## 1. Importing packages"
   ]
  },
  {
   "cell_type": "code",
   "execution_count": 1,
   "metadata": {
    "collapsed": true
   },
   "outputs": [],
   "source": [
    "from cyclops_v2 import *\n",
    "from spca import *\n",
    "\n",
    "import numpy as np\n",
    "import pandas as pd\n",
    "import matplotlib.pyplot as plt\n",
    "%matplotlib inline"
   ]
  },
  {
   "cell_type": "markdown",
   "metadata": {},
   "source": [
    "## 2. Loading data"
   ]
  },
  {
   "cell_type": "code",
   "execution_count": 2,
   "metadata": {
    "collapsed": true
   },
   "outputs": [],
   "source": [
    "df = pd.read_csv(\"circadian_12tissue_data.csv\").T"
   ]
  },
  {
   "cell_type": "markdown",
   "metadata": {},
   "source": [
    "#### Choose the tissue to investigate:"
   ]
  },
  {
   "cell_type": "code",
   "execution_count": 3,
   "metadata": {
    "collapsed": true
   },
   "outputs": [],
   "source": [
    "tissue = 'Lun'"
   ]
  },
  {
   "cell_type": "markdown",
   "metadata": {},
   "source": [
    "#### Print gene expression dataframe:"
   ]
  },
  {
   "cell_type": "code",
   "execution_count": 4,
   "metadata": {},
   "outputs": [
    {
     "data": {
      "text/html": [
       "<div>\n",
       "<style scoped>\n",
       "    .dataframe tbody tr th:only-of-type {\n",
       "        vertical-align: middle;\n",
       "    }\n",
       "\n",
       "    .dataframe tbody tr th {\n",
       "        vertical-align: top;\n",
       "    }\n",
       "\n",
       "    .dataframe thead th {\n",
       "        text-align: right;\n",
       "    }\n",
       "</style>\n",
       "<table border=\"1\" class=\"dataframe\">\n",
       "  <thead>\n",
       "    <tr style=\"text-align: right;\">\n",
       "      <th></th>\n",
       "      <th>0</th>\n",
       "      <th>1</th>\n",
       "      <th>2</th>\n",
       "      <th>3</th>\n",
       "      <th>4</th>\n",
       "      <th>5</th>\n",
       "      <th>6</th>\n",
       "      <th>7</th>\n",
       "      <th>8</th>\n",
       "      <th>9</th>\n",
       "      <th>...</th>\n",
       "      <th>23033</th>\n",
       "      <th>23034</th>\n",
       "      <th>23035</th>\n",
       "      <th>23036</th>\n",
       "      <th>23037</th>\n",
       "      <th>23038</th>\n",
       "      <th>23039</th>\n",
       "      <th>23040</th>\n",
       "      <th>23041</th>\n",
       "      <th>23042</th>\n",
       "    </tr>\n",
       "  </thead>\n",
       "  <tbody>\n",
       "    <tr>\n",
       "      <th>Lun_CT18</th>\n",
       "      <td>9.4866</td>\n",
       "      <td>4.06621</td>\n",
       "      <td>6.18583</td>\n",
       "      <td>5.7147</td>\n",
       "      <td>4.7185</td>\n",
       "      <td>5.45873</td>\n",
       "      <td>8.02932</td>\n",
       "      <td>11.0936</td>\n",
       "      <td>10.1745</td>\n",
       "      <td>8.73325</td>\n",
       "      <td>...</td>\n",
       "      <td>4.41519</td>\n",
       "      <td>5.66148</td>\n",
       "      <td>10.2089</td>\n",
       "      <td>4.54611</td>\n",
       "      <td>4.6117</td>\n",
       "      <td>6.42419</td>\n",
       "      <td>4.56419</td>\n",
       "      <td>4.93813</td>\n",
       "      <td>4.31981</td>\n",
       "      <td>6.16044</td>\n",
       "    </tr>\n",
       "    <tr>\n",
       "      <th>Lun_CT20</th>\n",
       "      <td>9.6445</td>\n",
       "      <td>4.0441</td>\n",
       "      <td>6.14134</td>\n",
       "      <td>5.65521</td>\n",
       "      <td>4.65929</td>\n",
       "      <td>4.959</td>\n",
       "      <td>8.10229</td>\n",
       "      <td>11.0446</td>\n",
       "      <td>10.2021</td>\n",
       "      <td>8.69661</td>\n",
       "      <td>...</td>\n",
       "      <td>4.29994</td>\n",
       "      <td>5.66239</td>\n",
       "      <td>10.1943</td>\n",
       "      <td>4.52654</td>\n",
       "      <td>4.72125</td>\n",
       "      <td>6.28411</td>\n",
       "      <td>4.57532</td>\n",
       "      <td>4.8639</td>\n",
       "      <td>4.36117</td>\n",
       "      <td>6.08547</td>\n",
       "    </tr>\n",
       "    <tr>\n",
       "      <th>Lun_CT22</th>\n",
       "      <td>9.57623</td>\n",
       "      <td>4.10866</td>\n",
       "      <td>6.14849</td>\n",
       "      <td>5.7224</td>\n",
       "      <td>4.74965</td>\n",
       "      <td>5.02091</td>\n",
       "      <td>8.15491</td>\n",
       "      <td>11.0688</td>\n",
       "      <td>10.0014</td>\n",
       "      <td>8.64346</td>\n",
       "      <td>...</td>\n",
       "      <td>4.42678</td>\n",
       "      <td>5.59889</td>\n",
       "      <td>10.2062</td>\n",
       "      <td>4.58558</td>\n",
       "      <td>4.70504</td>\n",
       "      <td>6.77365</td>\n",
       "      <td>4.50431</td>\n",
       "      <td>4.90698</td>\n",
       "      <td>4.39452</td>\n",
       "      <td>6.11717</td>\n",
       "    </tr>\n",
       "    <tr>\n",
       "      <th>Lun_CT24</th>\n",
       "      <td>9.51914</td>\n",
       "      <td>4.04951</td>\n",
       "      <td>6.15671</td>\n",
       "      <td>5.89517</td>\n",
       "      <td>4.6641</td>\n",
       "      <td>4.99123</td>\n",
       "      <td>8.04472</td>\n",
       "      <td>10.9812</td>\n",
       "      <td>10.0651</td>\n",
       "      <td>8.70933</td>\n",
       "      <td>...</td>\n",
       "      <td>4.32225</td>\n",
       "      <td>5.60704</td>\n",
       "      <td>10.3452</td>\n",
       "      <td>4.5786</td>\n",
       "      <td>4.71754</td>\n",
       "      <td>6.30652</td>\n",
       "      <td>4.53244</td>\n",
       "      <td>4.94255</td>\n",
       "      <td>4.32257</td>\n",
       "      <td>6.09967</td>\n",
       "    </tr>\n",
       "    <tr>\n",
       "      <th>Lun_CT26</th>\n",
       "      <td>9.38881</td>\n",
       "      <td>4.03432</td>\n",
       "      <td>6.12423</td>\n",
       "      <td>5.67039</td>\n",
       "      <td>4.5516</td>\n",
       "      <td>6.22432</td>\n",
       "      <td>7.95547</td>\n",
       "      <td>10.8561</td>\n",
       "      <td>10.1025</td>\n",
       "      <td>8.71967</td>\n",
       "      <td>...</td>\n",
       "      <td>4.26943</td>\n",
       "      <td>5.56626</td>\n",
       "      <td>10.2225</td>\n",
       "      <td>4.47993</td>\n",
       "      <td>4.60318</td>\n",
       "      <td>6.21796</td>\n",
       "      <td>4.40968</td>\n",
       "      <td>4.96615</td>\n",
       "      <td>4.51338</td>\n",
       "      <td>5.95915</td>\n",
       "    </tr>\n",
       "  </tbody>\n",
       "</table>\n",
       "<p>5 rows × 23043 columns</p>\n",
       "</div>"
      ],
      "text/plain": [
       "            0        1        2        3        4        5        6      \\\n",
       "Lun_CT18   9.4866  4.06621  6.18583   5.7147   4.7185  5.45873  8.02932   \n",
       "Lun_CT20   9.6445   4.0441  6.14134  5.65521  4.65929    4.959  8.10229   \n",
       "Lun_CT22  9.57623  4.10866  6.14849   5.7224  4.74965  5.02091  8.15491   \n",
       "Lun_CT24  9.51914  4.04951  6.15671  5.89517   4.6641  4.99123  8.04472   \n",
       "Lun_CT26  9.38881  4.03432  6.12423  5.67039   4.5516  6.22432  7.95547   \n",
       "\n",
       "            7        8        9      ...    23033    23034    23035    23036  \\\n",
       "Lun_CT18  11.0936  10.1745  8.73325  ...  4.41519  5.66148  10.2089  4.54611   \n",
       "Lun_CT20  11.0446  10.2021  8.69661  ...  4.29994  5.66239  10.1943  4.52654   \n",
       "Lun_CT22  11.0688  10.0014  8.64346  ...  4.42678  5.59889  10.2062  4.58558   \n",
       "Lun_CT24  10.9812  10.0651  8.70933  ...  4.32225  5.60704  10.3452   4.5786   \n",
       "Lun_CT26  10.8561  10.1025  8.71967  ...  4.26943  5.56626  10.2225  4.47993   \n",
       "\n",
       "            23037    23038    23039    23040    23041    23042  \n",
       "Lun_CT18   4.6117  6.42419  4.56419  4.93813  4.31981  6.16044  \n",
       "Lun_CT20  4.72125  6.28411  4.57532   4.8639  4.36117  6.08547  \n",
       "Lun_CT22  4.70504  6.77365  4.50431  4.90698  4.39452  6.11717  \n",
       "Lun_CT24  4.71754  6.30652  4.53244  4.94255  4.32257  6.09967  \n",
       "Lun_CT26  4.60318  6.21796  4.40968  4.96615  4.51338  5.95915  \n",
       "\n",
       "[5 rows x 23043 columns]"
      ]
     },
     "execution_count": 4,
     "metadata": {},
     "output_type": "execute_result"
    }
   ],
   "source": [
    "df = df[df.index.str.contains(tissue)]\n",
    "df.head()"
   ]
  },
  {
   "cell_type": "code",
   "execution_count": 5,
   "metadata": {},
   "outputs": [
    {
     "name": "stdout",
     "output_type": "stream",
     "text": [
      "Running on 23043 genes and 24 cells.\n"
     ]
    }
   ],
   "source": [
    "ng = df.shape[1]\n",
    "nc = df.shape[0]\n",
    "print(\"Running on {} genes and {} cells.\".format(ng,nc))"
   ]
  },
  {
   "cell_type": "markdown",
   "metadata": {},
   "source": [
    "## 3. Data Preprocessing"
   ]
  },
  {
   "cell_type": "markdown",
   "metadata": {},
   "source": [
    "Filter and sort genes in descending order of variance:"
   ]
  },
  {
   "cell_type": "code",
   "execution_count": 6,
   "metadata": {},
   "outputs": [
    {
     "name": "stdout",
     "output_type": "stream",
     "text": [
      "<class 'pandas.core.frame.DataFrame'>\n",
      "Int64Index: 23043 entries, 7070 to 20662\n",
      "Data columns (total 1 columns):\n",
      " #   Column  Non-Null Count  Dtype  \n",
      "---  ------  --------------  -----  \n",
      " 0   0       23043 non-null  float64\n",
      "dtypes: float64(1)\n",
      "memory usage: 360.0 KB\n"
     ]
    }
   ],
   "source": [
    "frac = 1.00\n",
    "\n",
    "df_std = pd.DataFrame(df.std().sort_values(ascending=False))\n",
    "df_std = df_std.iloc[:round(df_std.shape[0]*frac),:]\n",
    "df_std.info()"
   ]
  },
  {
   "cell_type": "code",
   "execution_count": 7,
   "metadata": {
    "collapsed": true
   },
   "outputs": [],
   "source": [
    "gene_list = df_std.index.to_numpy()\n",
    "gene_list;"
   ]
  },
  {
   "cell_type": "code",
   "execution_count": 8,
   "metadata": {},
   "outputs": [
    {
     "data": {
      "text/plain": [
       "(24, 23043)"
      ]
     },
     "execution_count": 8,
     "metadata": {},
     "output_type": "execute_result"
    }
   ],
   "source": [
    "data = df.to_numpy().T\n",
    "\n",
    "newdata = np.zeros([len(gene_list),nc])\n",
    "for i in range(len(gene_list)):\n",
    "    newdata[i] = data[gene_list[i]]\n",
    "newdata = pd.DataFrame(newdata.T)\n",
    "newdata.shape"
   ]
  },
  {
   "cell_type": "markdown",
   "metadata": {},
   "source": [
    "Before performing dimensionality reduction, the dataset has to be __centered__ to zero mean:"
   ]
  },
  {
   "cell_type": "code",
   "execution_count": 9,
   "metadata": {},
   "outputs": [
    {
     "data": {
      "text/html": [
       "<div>\n",
       "<style scoped>\n",
       "    .dataframe tbody tr th:only-of-type {\n",
       "        vertical-align: middle;\n",
       "    }\n",
       "\n",
       "    .dataframe tbody tr th {\n",
       "        vertical-align: top;\n",
       "    }\n",
       "\n",
       "    .dataframe thead th {\n",
       "        text-align: right;\n",
       "    }\n",
       "</style>\n",
       "<table border=\"1\" class=\"dataframe\">\n",
       "  <thead>\n",
       "    <tr style=\"text-align: right;\">\n",
       "      <th></th>\n",
       "      <th>0</th>\n",
       "      <th>1</th>\n",
       "      <th>2</th>\n",
       "      <th>3</th>\n",
       "      <th>4</th>\n",
       "      <th>5</th>\n",
       "      <th>6</th>\n",
       "      <th>7</th>\n",
       "      <th>8</th>\n",
       "      <th>9</th>\n",
       "      <th>...</th>\n",
       "      <th>23033</th>\n",
       "      <th>23034</th>\n",
       "      <th>23035</th>\n",
       "      <th>23036</th>\n",
       "      <th>23037</th>\n",
       "      <th>23038</th>\n",
       "      <th>23039</th>\n",
       "      <th>23040</th>\n",
       "      <th>23041</th>\n",
       "      <th>23042</th>\n",
       "    </tr>\n",
       "  </thead>\n",
       "  <tbody>\n",
       "    <tr>\n",
       "      <th>0</th>\n",
       "      <td>1.902687</td>\n",
       "      <td>-2.140819</td>\n",
       "      <td>-1.004178</td>\n",
       "      <td>1.691643</td>\n",
       "      <td>0.302505</td>\n",
       "      <td>-1.131135</td>\n",
       "      <td>-0.661022</td>\n",
       "      <td>1.558409</td>\n",
       "      <td>-0.668365</td>\n",
       "      <td>1.269460</td>\n",
       "      <td>...</td>\n",
       "      <td>-0.016316</td>\n",
       "      <td>-0.004488</td>\n",
       "      <td>-0.001297</td>\n",
       "      <td>0.009906</td>\n",
       "      <td>-0.000084</td>\n",
       "      <td>-0.010038</td>\n",
       "      <td>-0.009995</td>\n",
       "      <td>0.010626</td>\n",
       "      <td>-0.004378</td>\n",
       "      <td>-0.020690</td>\n",
       "    </tr>\n",
       "    <tr>\n",
       "      <th>1</th>\n",
       "      <td>-1.467787</td>\n",
       "      <td>-3.072828</td>\n",
       "      <td>-1.621550</td>\n",
       "      <td>-1.093000</td>\n",
       "      <td>1.532809</td>\n",
       "      <td>1.059200</td>\n",
       "      <td>0.264971</td>\n",
       "      <td>-0.867065</td>\n",
       "      <td>-0.860352</td>\n",
       "      <td>-0.884719</td>\n",
       "      <td>...</td>\n",
       "      <td>0.033079</td>\n",
       "      <td>0.031947</td>\n",
       "      <td>-0.008875</td>\n",
       "      <td>0.026127</td>\n",
       "      <td>-0.023354</td>\n",
       "      <td>0.032352</td>\n",
       "      <td>0.013118</td>\n",
       "      <td>-0.008751</td>\n",
       "      <td>0.008034</td>\n",
       "      <td>-0.002725</td>\n",
       "    </tr>\n",
       "    <tr>\n",
       "      <th>2</th>\n",
       "      <td>-1.057831</td>\n",
       "      <td>-1.635855</td>\n",
       "      <td>-1.959684</td>\n",
       "      <td>-1.239721</td>\n",
       "      <td>1.786908</td>\n",
       "      <td>1.007027</td>\n",
       "      <td>-0.833995</td>\n",
       "      <td>-0.723251</td>\n",
       "      <td>-0.664188</td>\n",
       "      <td>-0.777693</td>\n",
       "      <td>...</td>\n",
       "      <td>0.017899</td>\n",
       "      <td>-0.010034</td>\n",
       "      <td>-0.015152</td>\n",
       "      <td>-0.016713</td>\n",
       "      <td>0.009167</td>\n",
       "      <td>-0.001855</td>\n",
       "      <td>0.018149</td>\n",
       "      <td>-0.011518</td>\n",
       "      <td>-0.019942</td>\n",
       "      <td>0.000991</td>\n",
       "    </tr>\n",
       "    <tr>\n",
       "      <th>3</th>\n",
       "      <td>-2.635650</td>\n",
       "      <td>-0.565418</td>\n",
       "      <td>-1.933030</td>\n",
       "      <td>-1.363246</td>\n",
       "      <td>1.765135</td>\n",
       "      <td>-1.187361</td>\n",
       "      <td>-1.278771</td>\n",
       "      <td>-0.922230</td>\n",
       "      <td>-0.353725</td>\n",
       "      <td>-1.129246</td>\n",
       "      <td>...</td>\n",
       "      <td>-0.009207</td>\n",
       "      <td>0.009704</td>\n",
       "      <td>-0.002207</td>\n",
       "      <td>-0.005334</td>\n",
       "      <td>0.003631</td>\n",
       "      <td>-0.020336</td>\n",
       "      <td>0.001980</td>\n",
       "      <td>-0.029491</td>\n",
       "      <td>-0.046066</td>\n",
       "      <td>-0.005253</td>\n",
       "    </tr>\n",
       "    <tr>\n",
       "      <th>4</th>\n",
       "      <td>3.298703</td>\n",
       "      <td>0.965665</td>\n",
       "      <td>-0.775204</td>\n",
       "      <td>3.562415</td>\n",
       "      <td>1.344526</td>\n",
       "      <td>-1.013152</td>\n",
       "      <td>-1.157229</td>\n",
       "      <td>3.442679</td>\n",
       "      <td>-0.307418</td>\n",
       "      <td>3.302578</td>\n",
       "      <td>...</td>\n",
       "      <td>0.014950</td>\n",
       "      <td>-0.005349</td>\n",
       "      <td>-0.012046</td>\n",
       "      <td>0.011153</td>\n",
       "      <td>0.016463</td>\n",
       "      <td>-0.001999</td>\n",
       "      <td>0.004863</td>\n",
       "      <td>0.008203</td>\n",
       "      <td>-0.010067</td>\n",
       "      <td>0.015701</td>\n",
       "    </tr>\n",
       "  </tbody>\n",
       "</table>\n",
       "<p>5 rows × 23043 columns</p>\n",
       "</div>"
      ],
      "text/plain": [
       "      0         1         2         3         4         5         6      \\\n",
       "0  1.902687 -2.140819 -1.004178  1.691643  0.302505 -1.131135 -0.661022   \n",
       "1 -1.467787 -3.072828 -1.621550 -1.093000  1.532809  1.059200  0.264971   \n",
       "2 -1.057831 -1.635855 -1.959684 -1.239721  1.786908  1.007027 -0.833995   \n",
       "3 -2.635650 -0.565418 -1.933030 -1.363246  1.765135 -1.187361 -1.278771   \n",
       "4  3.298703  0.965665 -0.775204  3.562415  1.344526 -1.013152 -1.157229   \n",
       "\n",
       "      7         8         9      ...     23033     23034     23035     23036  \\\n",
       "0  1.558409 -0.668365  1.269460  ... -0.016316 -0.004488 -0.001297  0.009906   \n",
       "1 -0.867065 -0.860352 -0.884719  ...  0.033079  0.031947 -0.008875  0.026127   \n",
       "2 -0.723251 -0.664188 -0.777693  ...  0.017899 -0.010034 -0.015152 -0.016713   \n",
       "3 -0.922230 -0.353725 -1.129246  ... -0.009207  0.009704 -0.002207 -0.005334   \n",
       "4  3.442679 -0.307418  3.302578  ...  0.014950 -0.005349 -0.012046  0.011153   \n",
       "\n",
       "      23037     23038     23039     23040     23041     23042  \n",
       "0 -0.000084 -0.010038 -0.009995  0.010626 -0.004378 -0.020690  \n",
       "1 -0.023354  0.032352  0.013118 -0.008751  0.008034 -0.002725  \n",
       "2  0.009167 -0.001855  0.018149 -0.011518 -0.019942  0.000991  \n",
       "3  0.003631 -0.020336  0.001980 -0.029491 -0.046066 -0.005253  \n",
       "4  0.016463 -0.001999  0.004863  0.008203 -0.010067  0.015701  \n",
       "\n",
       "[5 rows x 23043 columns]"
      ]
     },
     "execution_count": 9,
     "metadata": {},
     "output_type": "execute_result"
    }
   ],
   "source": [
    "df_cent = newdata.transform(lambda x: x-x.mean())\n",
    "df_cent.head()"
   ]
  },
  {
   "cell_type": "markdown",
   "metadata": {},
   "source": [
    "## Sparse PCA"
   ]
  },
  {
   "cell_type": "markdown",
   "metadata": {},
   "source": [
    "#### Perform sparse principal component analysis (SPCA)"
   ]
  },
  {
   "cell_type": "markdown",
   "metadata": {},
   "source": [
    "First, convert the dataframe into a numpy array:"
   ]
  },
  {
   "cell_type": "code",
   "execution_count": 10,
   "metadata": {
    "collapsed": true
   },
   "outputs": [],
   "source": [
    "data_ = df_cent.to_numpy()"
   ]
  },
  {
   "cell_type": "markdown",
   "metadata": {},
   "source": [
    "#### Perform Karthik's Sparse PCA, choosing appropriate values for alpha (sparsity parameter) and n_components (rank):"
   ]
  },
  {
   "cell_type": "code",
   "execution_count": 11,
   "metadata": {
    "collapsed": true
   },
   "outputs": [],
   "source": [
    "n_components = 9\n",
    "alpha = 8\n",
    "test = rank_n_o(data_, t=alpha, tol=10e-4, rank=n_components)"
   ]
  },
  {
   "cell_type": "code",
   "execution_count": 12,
   "metadata": {
    "collapsed": true
   },
   "outputs": [],
   "source": [
    "for k, v in test.items():\n",
    "    if k=='XV':\n",
    "        spca_eigengenes = pd.DataFrame(v)\n",
    "    if k=='V':\n",
    "        loading_vectors = pd.DataFrame(v)"
   ]
  },
  {
   "cell_type": "markdown",
   "metadata": {},
   "source": [
    "#### Loading vectors:"
   ]
  },
  {
   "cell_type": "code",
   "execution_count": 13,
   "metadata": {},
   "outputs": [
    {
     "data": {
      "text/html": [
       "<div>\n",
       "<style scoped>\n",
       "    .dataframe tbody tr th:only-of-type {\n",
       "        vertical-align: middle;\n",
       "    }\n",
       "\n",
       "    .dataframe tbody tr th {\n",
       "        vertical-align: top;\n",
       "    }\n",
       "\n",
       "    .dataframe thead th {\n",
       "        text-align: right;\n",
       "    }\n",
       "</style>\n",
       "<table border=\"1\" class=\"dataframe\">\n",
       "  <thead>\n",
       "    <tr style=\"text-align: right;\">\n",
       "      <th></th>\n",
       "      <th>0</th>\n",
       "      <th>1</th>\n",
       "      <th>2</th>\n",
       "      <th>3</th>\n",
       "      <th>4</th>\n",
       "      <th>5</th>\n",
       "      <th>6</th>\n",
       "      <th>7</th>\n",
       "      <th>8</th>\n",
       "    </tr>\n",
       "  </thead>\n",
       "  <tbody>\n",
       "    <tr>\n",
       "      <th>0</th>\n",
       "      <td>-0.398582</td>\n",
       "      <td>-0.071609</td>\n",
       "      <td>-0.090958</td>\n",
       "      <td>0.008051</td>\n",
       "      <td>0.000000</td>\n",
       "      <td>0.000000</td>\n",
       "      <td>0.020505</td>\n",
       "      <td>0.000000</td>\n",
       "      <td>0.000000</td>\n",
       "    </tr>\n",
       "    <tr>\n",
       "      <th>1</th>\n",
       "      <td>0.000000</td>\n",
       "      <td>-0.436619</td>\n",
       "      <td>-0.151886</td>\n",
       "      <td>0.000000</td>\n",
       "      <td>-0.261458</td>\n",
       "      <td>-0.022277</td>\n",
       "      <td>-0.102893</td>\n",
       "      <td>-0.063924</td>\n",
       "      <td>0.347576</td>\n",
       "    </tr>\n",
       "    <tr>\n",
       "      <th>2</th>\n",
       "      <td>0.070074</td>\n",
       "      <td>-0.410975</td>\n",
       "      <td>0.000000</td>\n",
       "      <td>0.000000</td>\n",
       "      <td>-0.001806</td>\n",
       "      <td>0.000000</td>\n",
       "      <td>0.000000</td>\n",
       "      <td>0.005849</td>\n",
       "      <td>0.000000</td>\n",
       "    </tr>\n",
       "    <tr>\n",
       "      <th>3</th>\n",
       "      <td>-0.356002</td>\n",
       "      <td>-0.027133</td>\n",
       "      <td>-0.032478</td>\n",
       "      <td>0.000000</td>\n",
       "      <td>0.000000</td>\n",
       "      <td>0.000000</td>\n",
       "      <td>0.000000</td>\n",
       "      <td>0.000000</td>\n",
       "      <td>0.000000</td>\n",
       "    </tr>\n",
       "    <tr>\n",
       "      <th>4</th>\n",
       "      <td>-0.074142</td>\n",
       "      <td>0.339367</td>\n",
       "      <td>-0.005620</td>\n",
       "      <td>0.000000</td>\n",
       "      <td>-0.025685</td>\n",
       "      <td>0.000000</td>\n",
       "      <td>0.000000</td>\n",
       "      <td>-0.028013</td>\n",
       "      <td>0.000000</td>\n",
       "    </tr>\n",
       "  </tbody>\n",
       "</table>\n",
       "</div>"
      ],
      "text/plain": [
       "          0         1         2         3         4         5         6  \\\n",
       "0 -0.398582 -0.071609 -0.090958  0.008051  0.000000  0.000000  0.020505   \n",
       "1  0.000000 -0.436619 -0.151886  0.000000 -0.261458 -0.022277 -0.102893   \n",
       "2  0.070074 -0.410975  0.000000  0.000000 -0.001806  0.000000  0.000000   \n",
       "3 -0.356002 -0.027133 -0.032478  0.000000  0.000000  0.000000  0.000000   \n",
       "4 -0.074142  0.339367 -0.005620  0.000000 -0.025685  0.000000  0.000000   \n",
       "\n",
       "          7         8  \n",
       "0  0.000000  0.000000  \n",
       "1 -0.063924  0.347576  \n",
       "2  0.005849  0.000000  \n",
       "3  0.000000  0.000000  \n",
       "4 -0.028013  0.000000  "
      ]
     },
     "execution_count": 13,
     "metadata": {},
     "output_type": "execute_result"
    }
   ],
   "source": [
    "loading_vectors = loading_vectors[(loading_vectors.select_dtypes(include=['number']) != 0).any(1)]\n",
    "loading_vectors.head()"
   ]
  },
  {
   "cell_type": "markdown",
   "metadata": {},
   "source": [
    "#### Eigengenes:"
   ]
  },
  {
   "cell_type": "code",
   "execution_count": 14,
   "metadata": {},
   "outputs": [
    {
     "data": {
      "text/html": [
       "<div>\n",
       "<style scoped>\n",
       "    .dataframe tbody tr th:only-of-type {\n",
       "        vertical-align: middle;\n",
       "    }\n",
       "\n",
       "    .dataframe tbody tr th {\n",
       "        vertical-align: top;\n",
       "    }\n",
       "\n",
       "    .dataframe thead th {\n",
       "        text-align: right;\n",
       "    }\n",
       "</style>\n",
       "<table border=\"1\" class=\"dataframe\">\n",
       "  <thead>\n",
       "    <tr style=\"text-align: right;\">\n",
       "      <th></th>\n",
       "      <th>0</th>\n",
       "      <th>1</th>\n",
       "      <th>2</th>\n",
       "      <th>3</th>\n",
       "      <th>4</th>\n",
       "      <th>5</th>\n",
       "      <th>6</th>\n",
       "      <th>7</th>\n",
       "      <th>8</th>\n",
       "    </tr>\n",
       "  </thead>\n",
       "  <tbody>\n",
       "    <tr>\n",
       "      <th>0</th>\n",
       "      <td>-5.530397</td>\n",
       "      <td>2.341713</td>\n",
       "      <td>3.804080</td>\n",
       "      <td>-1.794377</td>\n",
       "      <td>1.335348</td>\n",
       "      <td>-1.390947</td>\n",
       "      <td>1.857067</td>\n",
       "      <td>2.376161</td>\n",
       "      <td>0.664252</td>\n",
       "    </tr>\n",
       "    <tr>\n",
       "      <th>1</th>\n",
       "      <td>3.199151</td>\n",
       "      <td>5.799327</td>\n",
       "      <td>0.407424</td>\n",
       "      <td>0.825097</td>\n",
       "      <td>-1.921704</td>\n",
       "      <td>-2.506966</td>\n",
       "      <td>2.204648</td>\n",
       "      <td>1.124049</td>\n",
       "      <td>-3.824989</td>\n",
       "    </tr>\n",
       "    <tr>\n",
       "      <th>2</th>\n",
       "      <td>1.683154</td>\n",
       "      <td>5.801223</td>\n",
       "      <td>1.966244</td>\n",
       "      <td>2.114110</td>\n",
       "      <td>-2.046195</td>\n",
       "      <td>-0.209006</td>\n",
       "      <td>-1.063246</td>\n",
       "      <td>-0.594360</td>\n",
       "      <td>-0.424247</td>\n",
       "    </tr>\n",
       "    <tr>\n",
       "      <th>3</th>\n",
       "      <td>1.373340</td>\n",
       "      <td>5.817144</td>\n",
       "      <td>4.090248</td>\n",
       "      <td>-2.879197</td>\n",
       "      <td>-2.156500</td>\n",
       "      <td>0.151569</td>\n",
       "      <td>-1.101331</td>\n",
       "      <td>-0.914588</td>\n",
       "      <td>3.960397</td>\n",
       "    </tr>\n",
       "    <tr>\n",
       "      <th>4</th>\n",
       "      <td>-12.107495</td>\n",
       "      <td>0.983708</td>\n",
       "      <td>-1.513538</td>\n",
       "      <td>-1.063788</td>\n",
       "      <td>-3.228621</td>\n",
       "      <td>-0.098860</td>\n",
       "      <td>-1.423177</td>\n",
       "      <td>-0.676561</td>\n",
       "      <td>-1.132187</td>\n",
       "    </tr>\n",
       "  </tbody>\n",
       "</table>\n",
       "</div>"
      ],
      "text/plain": [
       "           0         1         2         3         4         5         6  \\\n",
       "0  -5.530397  2.341713  3.804080 -1.794377  1.335348 -1.390947  1.857067   \n",
       "1   3.199151  5.799327  0.407424  0.825097 -1.921704 -2.506966  2.204648   \n",
       "2   1.683154  5.801223  1.966244  2.114110 -2.046195 -0.209006 -1.063246   \n",
       "3   1.373340  5.817144  4.090248 -2.879197 -2.156500  0.151569 -1.101331   \n",
       "4 -12.107495  0.983708 -1.513538 -1.063788 -3.228621 -0.098860 -1.423177   \n",
       "\n",
       "          7         8  \n",
       "0  2.376161  0.664252  \n",
       "1  1.124049 -3.824989  \n",
       "2 -0.594360 -0.424247  \n",
       "3 -0.914588  3.960397  \n",
       "4 -0.676561 -1.132187  "
      ]
     },
     "execution_count": 14,
     "metadata": {},
     "output_type": "execute_result"
    }
   ],
   "source": [
    "spca_eigengenes.head()"
   ]
  },
  {
   "cell_type": "markdown",
   "metadata": {},
   "source": [
    "__Clip__ the values in each eigengene to deal with outliers:"
   ]
  },
  {
   "cell_type": "code",
   "execution_count": 15,
   "metadata": {},
   "outputs": [
    {
     "data": {
      "text/html": [
       "<div>\n",
       "<style scoped>\n",
       "    .dataframe tbody tr th:only-of-type {\n",
       "        vertical-align: middle;\n",
       "    }\n",
       "\n",
       "    .dataframe tbody tr th {\n",
       "        vertical-align: top;\n",
       "    }\n",
       "\n",
       "    .dataframe thead th {\n",
       "        text-align: right;\n",
       "    }\n",
       "</style>\n",
       "<table border=\"1\" class=\"dataframe\">\n",
       "  <thead>\n",
       "    <tr style=\"text-align: right;\">\n",
       "      <th></th>\n",
       "      <th>0</th>\n",
       "      <th>1</th>\n",
       "      <th>2</th>\n",
       "      <th>3</th>\n",
       "      <th>4</th>\n",
       "      <th>5</th>\n",
       "      <th>6</th>\n",
       "      <th>7</th>\n",
       "      <th>8</th>\n",
       "    </tr>\n",
       "  </thead>\n",
       "  <tbody>\n",
       "    <tr>\n",
       "      <th>0</th>\n",
       "      <td>-5.530397</td>\n",
       "      <td>2.341713</td>\n",
       "      <td>3.804080</td>\n",
       "      <td>-1.794377</td>\n",
       "      <td>1.335348</td>\n",
       "      <td>-1.390947</td>\n",
       "      <td>1.857067</td>\n",
       "      <td>2.376161</td>\n",
       "      <td>0.664252</td>\n",
       "    </tr>\n",
       "    <tr>\n",
       "      <th>1</th>\n",
       "      <td>3.199151</td>\n",
       "      <td>5.799327</td>\n",
       "      <td>0.407424</td>\n",
       "      <td>0.825097</td>\n",
       "      <td>-1.921704</td>\n",
       "      <td>-2.506966</td>\n",
       "      <td>2.204648</td>\n",
       "      <td>1.124049</td>\n",
       "      <td>-2.977638</td>\n",
       "    </tr>\n",
       "    <tr>\n",
       "      <th>2</th>\n",
       "      <td>1.683154</td>\n",
       "      <td>5.801223</td>\n",
       "      <td>1.966244</td>\n",
       "      <td>2.114110</td>\n",
       "      <td>-2.046195</td>\n",
       "      <td>-0.209006</td>\n",
       "      <td>-1.063246</td>\n",
       "      <td>-0.594360</td>\n",
       "      <td>-0.424247</td>\n",
       "    </tr>\n",
       "    <tr>\n",
       "      <th>3</th>\n",
       "      <td>1.373340</td>\n",
       "      <td>5.814756</td>\n",
       "      <td>4.047323</td>\n",
       "      <td>-2.879197</td>\n",
       "      <td>-2.156500</td>\n",
       "      <td>0.151569</td>\n",
       "      <td>-1.101331</td>\n",
       "      <td>-0.914588</td>\n",
       "      <td>2.310999</td>\n",
       "    </tr>\n",
       "    <tr>\n",
       "      <th>4</th>\n",
       "      <td>-9.159341</td>\n",
       "      <td>0.983708</td>\n",
       "      <td>-1.513538</td>\n",
       "      <td>-1.063788</td>\n",
       "      <td>-3.228621</td>\n",
       "      <td>-0.098860</td>\n",
       "      <td>-1.423177</td>\n",
       "      <td>-0.676561</td>\n",
       "      <td>-1.132187</td>\n",
       "    </tr>\n",
       "  </tbody>\n",
       "</table>\n",
       "</div>"
      ],
      "text/plain": [
       "          0         1         2         3         4         5         6  \\\n",
       "0 -5.530397  2.341713  3.804080 -1.794377  1.335348 -1.390947  1.857067   \n",
       "1  3.199151  5.799327  0.407424  0.825097 -1.921704 -2.506966  2.204648   \n",
       "2  1.683154  5.801223  1.966244  2.114110 -2.046195 -0.209006 -1.063246   \n",
       "3  1.373340  5.814756  4.047323 -2.879197 -2.156500  0.151569 -1.101331   \n",
       "4 -9.159341  0.983708 -1.513538 -1.063788 -3.228621 -0.098860 -1.423177   \n",
       "\n",
       "          7         8  \n",
       "0  2.376161  0.664252  \n",
       "1  1.124049 -2.977638  \n",
       "2 -0.594360 -0.424247  \n",
       "3 -0.914588  2.310999  \n",
       "4 -0.676561 -1.132187  "
      ]
     },
     "execution_count": 15,
     "metadata": {},
     "output_type": "execute_result"
    }
   ],
   "source": [
    "spca_eigengenes = spca_eigengenes.clip(np.percentile(spca_eigengenes, 5, axis=0), np.percentile(spca_eigengenes, 95, axis=0), axis=1)\n",
    "spca_eigengenes.head()"
   ]
  },
  {
   "cell_type": "markdown",
   "metadata": {},
   "source": [
    "Sort the eigengenes in descending order of variance:"
   ]
  },
  {
   "cell_type": "code",
   "execution_count": 16,
   "metadata": {},
   "outputs": [
    {
     "data": {
      "text/plain": [
       "array([0, 1, 2, 4, 3, 6, 8, 7, 5])"
      ]
     },
     "execution_count": 16,
     "metadata": {},
     "output_type": "execute_result"
    }
   ],
   "source": [
    "eig_std = np.array(spca_eigengenes.std().sort_values(ascending=False).index)\n",
    "eig_std"
   ]
  },
  {
   "cell_type": "markdown",
   "metadata": {},
   "source": [
    "Reorder the columns of the dataframe in descending order of variance:"
   ]
  },
  {
   "cell_type": "code",
   "execution_count": 17,
   "metadata": {
    "collapsed": true
   },
   "outputs": [],
   "source": [
    "spca_eigengenes = spca_eigengenes[eig_std]"
   ]
  },
  {
   "cell_type": "markdown",
   "metadata": {},
   "source": [
    "Plot the three eigengenes with the largest variance:"
   ]
  },
  {
   "cell_type": "code",
   "execution_count": 18,
   "metadata": {},
   "outputs": [
    {
     "data": {
      "image/png": "[encoded data removed]",
      "text/plain": [
       "<Figure size 720x576 with 1 Axes>"
      ]
     },
     "metadata": {},
     "output_type": "display_data"
    }
   ],
   "source": [
    "times = np.linspace(1,nc,nc)\n",
    "\n",
    "eg1 = spca_eigengenes.iloc[:,0]\n",
    "eg2 = spca_eigengenes.iloc[:,1]\n",
    "eg3 = spca_eigengenes.iloc[:,2]\n",
    "\n",
    "plt.figure(figsize=(10,8))\n",
    "plt.scatter(times, eg1, label=\"First Eigengene\")\n",
    "plt.scatter(times, eg2, label=\"Second Eigengene\")\n",
    "plt.scatter(times, eg3, label=\"Third Eigengene\")\n",
    "plt.title('Plot of the first three eigengenes (principal components) with the largest variance', size=15)\n",
    "plt.legend(loc=[1.01,0])\n",
    "plt.show()"
   ]
  },
  {
   "cell_type": "markdown",
   "metadata": {},
   "source": [
    "Next, plot these three eigengenes against each other:"
   ]
  },
  {
   "cell_type": "code",
   "execution_count": 19,
   "metadata": {},
   "outputs": [
    {
     "data": {
      "text/plain": [
       "Text(0.5, 1.0, '2nd vs 3rd')"
      ]
     },
     "execution_count": 19,
     "metadata": {},
     "output_type": "execute_result"
    },
    {
     "data": {
      "image/png": "[encoded data removed]",
      "text/plain": [
       "<Figure size 1296x432 with 3 Axes>"
      ]
     },
     "metadata": {},
     "output_type": "display_data"
    }
   ],
   "source": [
    "f, (ax1, ax2, ax3) = plt.subplots(1, 3, figsize = (18,6))\n",
    "plt.suptitle('Plot of first 3 eigengenes with the largest variance against each other', size=20)\n",
    "\n",
    "ax1.scatter(eg1, eg2)\n",
    "ax1.set_title('1st vs 2nd', size=15)\n",
    "ax2.scatter(eg1, eg3)\n",
    "ax2.set_title('1st vs 3rd', size=15)\n",
    "ax3.scatter(eg2, eg3)\n",
    "ax3.set_title('2nd vs 3rd', size=15)"
   ]
  },
  {
   "cell_type": "markdown",
   "metadata": {},
   "source": [
    "## 4. Creating the autoencoder model"
   ]
  },
  {
   "cell_type": "code",
   "execution_count": 20,
   "metadata": {
    "collapsed": true
   },
   "outputs": [],
   "source": [
    "data = spca_eigengenes.to_numpy()"
   ]
  },
  {
   "cell_type": "code",
   "execution_count": 21,
   "metadata": {
    "collapsed": true
   },
   "outputs": [],
   "source": [
    "def jump_control(X):\n",
    "    X_ = X.copy()\n",
    "    pop_list = []\n",
    "    for i in range(1,len(X)):\n",
    "        if X[i]-X[i-1]<10:\n",
    "            pop_list.append(i)\n",
    "    pop_list.sort(reverse=True)\n",
    "    for i in pop_list:\n",
    "        X_.pop(i)\n",
    "    return X_\n",
    "\n",
    "def iterr(data):\n",
    "    model = cyclops(data.shape[1])\n",
    "    n_epochs = 300\n",
    "    history = model.train(data[np.random.permutation(data.shape[0]), :], epochs=n_epochs, verbose=n_epochs, batch_size=10)\n",
    "\n",
    "    loss = history.history['loss'][-1]\n",
    "    \n",
    "    phase_df = model.phase_output(data)\n",
    "    phase_idx = phase_df.index.to_numpy()\n",
    "    phase_list = phase_df.pseudotime.to_numpy()\n",
    "    \n",
    "    zipped = list(zip(phase_idx,phase_list))\n",
    "    re_phase_list = np.array([sorted(zipped, key = lambda t: t[0])[i][1] for i in range(len(zipped))])\n",
    "    re_phase_idx = np.array([sorted(zipped, key = lambda t: t[0])[i][0] for i in range(len(zipped))])\n",
    "    \n",
    "    asc_phase_jump, desc_phase_jump = [],[]\n",
    "    for i in range(len(re_phase_list)-1):\n",
    "        if re_phase_list[i+1]-re_phase_list[i] > np.pi:\n",
    "            desc_phase_jump.append(i)\n",
    "        elif re_phase_list[i+1]-re_phase_list[i] < -np.pi:\n",
    "            asc_phase_jump.append(i)\n",
    "            \n",
    "    if len(asc_phase_jump) > len(desc_phase_jump):\n",
    "        phase_jump = asc_phase_jump\n",
    "    else:\n",
    "        phase_jump = desc_phase_jump\n",
    "\n",
    "\n",
    "    phase_jump = jump_control(phase_jump)\n",
    "\n",
    "    jumps = len(phase_jump)\n",
    "    for i in range(jumps):\n",
    "        if len(asc_phase_jump) > len(desc_phase_jump):\n",
    "            re_phase_list = np.array([re_phase_list[i] if i < phase_jump[0]+1 else re_phase_list[i] + 2*np.pi for i in range(len(zipped))])\n",
    "        else:\n",
    "            re_phase_list = np.array([re_phase_list[i] if i < phase_jump[0]+1 else re_phase_list[i] - 2*np.pi for i in range(len(zipped))])\n",
    "        phase_jump.pop(0)\n",
    "    \n",
    "    from scipy.stats import linregress\n",
    "\n",
    "    lin = linregress(re_phase_idx, re_phase_list)\n",
    "    \n",
    "    r_squared = lin[2]**2\n",
    "    \n",
    "    return loss, r_squared"
   ]
  },
  {
   "cell_type": "code",
   "execution_count": 22,
   "metadata": {
    "scrolled": true
   },
   "outputs": [
    {
     "name": "stdout",
     "output_type": "stream",
     "text": [
      "epoch: 300/300, loss: -0.4955, time elapsed:  2.42s, time left:  0.00s\n",
      "epoch: 300/300, loss: -0.4290, time elapsed:  1.98s, time left:  0.00s\n",
      "epoch: 300/300, loss: -0.4203, time elapsed:  1.96s, time left:  0.00s\n",
      "epoch: 300/300, loss: -0.5504, time elapsed:  1.99s, time left:  0.00s\n",
      "epoch: 300/300, loss: -0.4638, time elapsed:  2.03s, time left:  0.00s\n",
      "epoch: 300/300, loss: -0.5204, time elapsed:  1.86s, time left:  0.00s\n",
      "epoch: 300/300, loss: -0.5659, time elapsed:  1.96s, time left:  0.00s\n",
      "epoch: 300/300, loss: -0.5222, time elapsed:  1.99s, time left:  0.00s\n",
      "epoch: 300/300, loss: -0.5315, time elapsed:  2.37s, time left:  0.00s\n",
      "epoch: 300/300, loss: -0.4763, time elapsed:  2.17s, time left:  0.00s\n",
      "epoch: 300/300, loss: -0.5175, time elapsed:  3.11s, time left:  0.00s\n",
      "epoch: 300/300, loss: -0.5053, time elapsed:  2.32s, time left:  0.00s\n",
      "epoch: 300/300, loss: -0.5926, time elapsed:  2.66s, time left:  0.00s\n",
      "epoch: 300/300, loss: -0.5343, time elapsed:  3.38s, time left:  0.00s\n",
      "epoch: 300/300, loss: -0.5042, time elapsed:  2.39s, time left:  0.00s\n",
      "epoch: 300/300, loss: -0.4707, time elapsed:  3.09s, time left:  0.00s\n",
      "epoch: 300/300, loss: -0.5682, time elapsed:  2.08s, time left:  0.00s\n",
      "epoch: 300/300, loss: -0.5510, time elapsed:  2.03s, time left:  0.00s\n",
      "epoch: 300/300, loss: -0.4924, time elapsed:  1.84s, time left:  0.00s\n",
      "epoch: 300/300, loss: -0.5476, time elapsed:  2.43s, time left:  0.00s\n",
      "epoch: 300/300, loss: -0.4027, time elapsed:  1.91s, time left:  0.00s\n",
      "epoch: 300/300, loss: -0.5356, time elapsed:  2.15s, time left:  0.00s\n",
      "epoch: 300/300, loss: -0.5776, time elapsed:  2.19s, time left:  0.00s\n",
      "epoch: 300/300, loss: -0.5421, time elapsed:  1.87s, time left:  0.00s\n",
      "epoch: 300/300, loss: -0.5307, time elapsed:  1.86s, time left:  0.00s\n",
      "CPU times: user 1min 9s, sys: 5.87 s, total: 1min 14s\n",
      "Wall time: 1min 1s\n"
     ]
    }
   ],
   "source": [
    "%%time\n",
    "\n",
    "n_iter = 25\n",
    "\n",
    "iter_list = np.zeros([n_iter,2])\n",
    "\n",
    "for i in range(n_iter):\n",
    "    iter_list[i] = iterr(data)"
   ]
  },
  {
   "cell_type": "code",
   "execution_count": 23,
   "metadata": {
    "collapsed": true
   },
   "outputs": [],
   "source": [
    "cos_sim = np.array([iter_list[i][0] for i in range(len(iter_list))])\n",
    "r2 = np.array([iter_list[i][1] for i in range(len(iter_list))])"
   ]
  },
  {
   "cell_type": "code",
   "execution_count": 24,
   "metadata": {},
   "outputs": [
    {
     "name": "stderr",
     "output_type": "stream",
     "text": [
      "/Users/henrylim/.local/lib/python3.6/site-packages/matplotlib/__init__.py:886: MatplotlibDeprecationWarning: \n",
      "examples.directory is deprecated; in the future, examples will be found relative to the 'datapath' directory.\n",
      "  \"found relative to the 'datapath' directory.\".format(key))\n"
     ]
    },
    {
     "data": {
      "image/png": "[encoded data removed]",
      "text/plain": [
       "<Figure size 720x576 with 1 Axes>"
      ]
     },
     "metadata": {},
     "output_type": "display_data"
    }
   ],
   "source": [
    "import seaborn as sns\n",
    "import statistics\n",
    "\n",
    "plt.figure(figsize=(10,8))\n",
    "sns.boxplot(r2)\n",
    "plt.xlabel(r'$R^2$ value', size=15)\n",
    "plt.title(r'Boxplot of $R^2$ values for {}_CT, Median = {:.4f}'.format(tissue, statistics.median(r2)), size=20)\n",
    "# plt.savefig('-.png', dpi=300, bbox_inches='tight')\n",
    "plt.show()"
   ]
  },
  {
   "cell_type": "code",
   "execution_count": null,
   "metadata": {
    "collapsed": true
   },
   "outputs": [],
   "source": []
  }
 ],
 "metadata": {
  "kernelspec": {
   "display_name": "Python 3",
   "language": "python",
   "name": "python3"
  },
  "language_info": {
   "codemirror_mode": {
    "name": "ipython",
    "version": 3
   },
   "file_extension": ".py",
   "mimetype": "text/x-python",
   "name": "python",
   "nbconvert_exporter": "python",
   "pygments_lexer": "ipython3",
   "version": "3.6.10"
  }
 },
 "nbformat": 4,
 "nbformat_minor": 2
}
