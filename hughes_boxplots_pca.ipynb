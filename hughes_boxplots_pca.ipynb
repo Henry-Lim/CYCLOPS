{
 "cells": [
  {
   "cell_type": "markdown",
   "metadata": {},
   "source": [
    "# CYCLOPS on Hughes Liver Data (Boxplots: PCA)"
   ]
  },
  {
   "cell_type": "markdown",
   "metadata": {},
   "source": [
    "## 1. Importing packages"
   ]
  },
  {
   "cell_type": "code",
   "execution_count": 1,
   "metadata": {
    "collapsed": true
   },
   "outputs": [],
   "source": [
    "from cyclops_v2 import *\n",
    "\n",
    "import numpy as np\n",
    "import pandas as pd\n",
    "import matplotlib.pyplot as plt\n",
    "%matplotlib inline"
   ]
  },
  {
   "cell_type": "markdown",
   "metadata": {},
   "source": [
    "## 2. Loading data"
   ]
  },
  {
   "cell_type": "markdown",
   "metadata": {},
   "source": [
    "#### Read the Hughes Liver data into a pandas dataframe:"
   ]
  },
  {
   "cell_type": "code",
   "execution_count": 2,
   "metadata": {
    "collapsed": true
   },
   "outputs": [],
   "source": [
    "df = pd.read_csv(\"Hughes_2009_liver_new.csv\").T\n",
    "df = df.iloc[1:,:]"
   ]
  },
  {
   "cell_type": "code",
   "execution_count": 3,
   "metadata": {},
   "outputs": [
    {
     "name": "stdout",
     "output_type": "stream",
     "text": [
      "Running on 9471 genes and 48 cells.\n"
     ]
    }
   ],
   "source": [
    "ng = df.shape[1]\n",
    "nc = df.shape[0]\n",
    "print(\"Running on {} genes and {} cells.\".format(ng,nc))"
   ]
  },
  {
   "cell_type": "markdown",
   "metadata": {},
   "source": [
    "Filter genes in the top 10% variance:"
   ]
  },
  {
   "cell_type": "code",
   "execution_count": 4,
   "metadata": {},
   "outputs": [
    {
     "name": "stdout",
     "output_type": "stream",
     "text": [
      "<class 'pandas.core.frame.DataFrame'>\n",
      "Int64Index: 947 entries, 8364 to 2568\n",
      "Data columns (total 1 columns):\n",
      " #   Column  Non-Null Count  Dtype  \n",
      "---  ------  --------------  -----  \n",
      " 0   0       947 non-null    float64\n",
      "dtypes: float64(1)\n",
      "memory usage: 14.8 KB\n"
     ]
    }
   ],
   "source": [
    "frac = 0.10\n",
    "\n",
    "df_std = pd.DataFrame(df.std().sort_values(ascending=False))\n",
    "df_std = df_std.iloc[:round(df_std.shape[0]*frac),:]\n",
    "df_std.info()"
   ]
  },
  {
   "cell_type": "code",
   "execution_count": 5,
   "metadata": {
    "collapsed": true
   },
   "outputs": [],
   "source": [
    "gene_list = df_std.index.to_numpy()"
   ]
  },
  {
   "cell_type": "code",
   "execution_count": 6,
   "metadata": {},
   "outputs": [
    {
     "data": {
      "text/plain": [
       "(48, 947)"
      ]
     },
     "execution_count": 6,
     "metadata": {},
     "output_type": "execute_result"
    }
   ],
   "source": [
    "data = df.to_numpy().T\n",
    "\n",
    "newdata = np.zeros([len(gene_list),nc])\n",
    "for i in range(len(gene_list)):\n",
    "    newdata[i] = data[gene_list[i]]\n",
    "newdata = pd.DataFrame(newdata.T)\n",
    "newdata.shape"
   ]
  },
  {
   "cell_type": "markdown",
   "metadata": {},
   "source": [
    "## 3. Data Preprocessing"
   ]
  },
  {
   "cell_type": "markdown",
   "metadata": {},
   "source": [
    "### PCA (without scaling)"
   ]
  },
  {
   "cell_type": "markdown",
   "metadata": {},
   "source": [
    "Center the data to zero mean, without scaling to unit variance:"
   ]
  },
  {
   "cell_type": "code",
   "execution_count": 7,
   "metadata": {},
   "outputs": [
    {
     "data": {
      "text/html": [
       "<div>\n",
       "<style scoped>\n",
       "    .dataframe tbody tr th:only-of-type {\n",
       "        vertical-align: middle;\n",
       "    }\n",
       "\n",
       "    .dataframe tbody tr th {\n",
       "        vertical-align: top;\n",
       "    }\n",
       "\n",
       "    .dataframe thead th {\n",
       "        text-align: right;\n",
       "    }\n",
       "</style>\n",
       "<table border=\"1\" class=\"dataframe\">\n",
       "  <thead>\n",
       "    <tr style=\"text-align: right;\">\n",
       "      <th></th>\n",
       "      <th>0</th>\n",
       "      <th>1</th>\n",
       "      <th>2</th>\n",
       "      <th>3</th>\n",
       "      <th>4</th>\n",
       "      <th>5</th>\n",
       "      <th>6</th>\n",
       "      <th>7</th>\n",
       "      <th>8</th>\n",
       "      <th>9</th>\n",
       "      <th>...</th>\n",
       "      <th>937</th>\n",
       "      <th>938</th>\n",
       "      <th>939</th>\n",
       "      <th>940</th>\n",
       "      <th>941</th>\n",
       "      <th>942</th>\n",
       "      <th>943</th>\n",
       "      <th>944</th>\n",
       "      <th>945</th>\n",
       "      <th>946</th>\n",
       "    </tr>\n",
       "  </thead>\n",
       "  <tbody>\n",
       "    <tr>\n",
       "      <th>0</th>\n",
       "      <td>-1.057233</td>\n",
       "      <td>0.590007</td>\n",
       "      <td>0.240254</td>\n",
       "      <td>0.828500</td>\n",
       "      <td>0.860009</td>\n",
       "      <td>0.604851</td>\n",
       "      <td>0.115542</td>\n",
       "      <td>0.291322</td>\n",
       "      <td>-1.612009</td>\n",
       "      <td>0.470272</td>\n",
       "      <td>...</td>\n",
       "      <td>0.324264</td>\n",
       "      <td>0.007310</td>\n",
       "      <td>-0.051417</td>\n",
       "      <td>0.157540</td>\n",
       "      <td>0.055988</td>\n",
       "      <td>-0.039037</td>\n",
       "      <td>0.187920</td>\n",
       "      <td>-0.223849</td>\n",
       "      <td>0.430584</td>\n",
       "      <td>0.096527</td>\n",
       "    </tr>\n",
       "    <tr>\n",
       "      <th>1</th>\n",
       "      <td>-1.289151</td>\n",
       "      <td>-0.105554</td>\n",
       "      <td>0.258845</td>\n",
       "      <td>0.805143</td>\n",
       "      <td>0.925618</td>\n",
       "      <td>0.842084</td>\n",
       "      <td>0.055588</td>\n",
       "      <td>-0.316358</td>\n",
       "      <td>-1.014844</td>\n",
       "      <td>-0.345512</td>\n",
       "      <td>...</td>\n",
       "      <td>-0.026987</td>\n",
       "      <td>-0.181822</td>\n",
       "      <td>-0.240412</td>\n",
       "      <td>0.149036</td>\n",
       "      <td>0.152075</td>\n",
       "      <td>0.028876</td>\n",
       "      <td>0.338584</td>\n",
       "      <td>-0.296854</td>\n",
       "      <td>0.091465</td>\n",
       "      <td>0.060255</td>\n",
       "    </tr>\n",
       "    <tr>\n",
       "      <th>2</th>\n",
       "      <td>-1.480342</td>\n",
       "      <td>0.196870</td>\n",
       "      <td>0.125419</td>\n",
       "      <td>0.877522</td>\n",
       "      <td>0.489767</td>\n",
       "      <td>0.908341</td>\n",
       "      <td>0.401185</td>\n",
       "      <td>0.079972</td>\n",
       "      <td>-0.782121</td>\n",
       "      <td>-1.321644</td>\n",
       "      <td>...</td>\n",
       "      <td>0.346712</td>\n",
       "      <td>-0.358037</td>\n",
       "      <td>-0.211497</td>\n",
       "      <td>-0.042828</td>\n",
       "      <td>0.145617</td>\n",
       "      <td>-0.119038</td>\n",
       "      <td>0.230067</td>\n",
       "      <td>-0.371845</td>\n",
       "      <td>0.129676</td>\n",
       "      <td>0.100172</td>\n",
       "    </tr>\n",
       "    <tr>\n",
       "      <th>3</th>\n",
       "      <td>-1.853192</td>\n",
       "      <td>-0.367974</td>\n",
       "      <td>-0.221732</td>\n",
       "      <td>0.875994</td>\n",
       "      <td>2.026273</td>\n",
       "      <td>1.154509</td>\n",
       "      <td>1.674401</td>\n",
       "      <td>-0.020789</td>\n",
       "      <td>0.547587</td>\n",
       "      <td>-1.490179</td>\n",
       "      <td>...</td>\n",
       "      <td>-0.282266</td>\n",
       "      <td>-0.284675</td>\n",
       "      <td>-0.487643</td>\n",
       "      <td>0.135540</td>\n",
       "      <td>0.070907</td>\n",
       "      <td>-0.121190</td>\n",
       "      <td>0.141439</td>\n",
       "      <td>-0.319985</td>\n",
       "      <td>0.347349</td>\n",
       "      <td>0.048122</td>\n",
       "    </tr>\n",
       "    <tr>\n",
       "      <th>4</th>\n",
       "      <td>-1.999081</td>\n",
       "      <td>-1.076976</td>\n",
       "      <td>-0.307505</td>\n",
       "      <td>0.803293</td>\n",
       "      <td>0.922050</td>\n",
       "      <td>1.238456</td>\n",
       "      <td>1.191018</td>\n",
       "      <td>0.232353</td>\n",
       "      <td>-0.251958</td>\n",
       "      <td>-0.937067</td>\n",
       "      <td>...</td>\n",
       "      <td>-0.197117</td>\n",
       "      <td>-0.204559</td>\n",
       "      <td>-0.346572</td>\n",
       "      <td>0.253776</td>\n",
       "      <td>-0.182799</td>\n",
       "      <td>-0.279515</td>\n",
       "      <td>0.160059</td>\n",
       "      <td>-0.408638</td>\n",
       "      <td>-0.173176</td>\n",
       "      <td>0.216766</td>\n",
       "    </tr>\n",
       "  </tbody>\n",
       "</table>\n",
       "<p>5 rows × 947 columns</p>\n",
       "</div>"
      ],
      "text/plain": [
       "        0         1         2         3         4         5         6    \\\n",
       "0 -1.057233  0.590007  0.240254  0.828500  0.860009  0.604851  0.115542   \n",
       "1 -1.289151 -0.105554  0.258845  0.805143  0.925618  0.842084  0.055588   \n",
       "2 -1.480342  0.196870  0.125419  0.877522  0.489767  0.908341  0.401185   \n",
       "3 -1.853192 -0.367974 -0.221732  0.875994  2.026273  1.154509  1.674401   \n",
       "4 -1.999081 -1.076976 -0.307505  0.803293  0.922050  1.238456  1.191018   \n",
       "\n",
       "        7         8         9    ...       937       938       939       940  \\\n",
       "0  0.291322 -1.612009  0.470272  ...  0.324264  0.007310 -0.051417  0.157540   \n",
       "1 -0.316358 -1.014844 -0.345512  ... -0.026987 -0.181822 -0.240412  0.149036   \n",
       "2  0.079972 -0.782121 -1.321644  ...  0.346712 -0.358037 -0.211497 -0.042828   \n",
       "3 -0.020789  0.547587 -1.490179  ... -0.282266 -0.284675 -0.487643  0.135540   \n",
       "4  0.232353 -0.251958 -0.937067  ... -0.197117 -0.204559 -0.346572  0.253776   \n",
       "\n",
       "        941       942       943       944       945       946  \n",
       "0  0.055988 -0.039037  0.187920 -0.223849  0.430584  0.096527  \n",
       "1  0.152075  0.028876  0.338584 -0.296854  0.091465  0.060255  \n",
       "2  0.145617 -0.119038  0.230067 -0.371845  0.129676  0.100172  \n",
       "3  0.070907 -0.121190  0.141439 -0.319985  0.347349  0.048122  \n",
       "4 -0.182799 -0.279515  0.160059 -0.408638 -0.173176  0.216766  \n",
       "\n",
       "[5 rows x 947 columns]"
      ]
     },
     "execution_count": 7,
     "metadata": {},
     "output_type": "execute_result"
    }
   ],
   "source": [
    "df_cent = newdata.transform(lambda x: x-x.mean())\n",
    "df_cent.head()"
   ]
  },
  {
   "cell_type": "markdown",
   "metadata": {},
   "source": [
    "Perform PCA:"
   ]
  },
  {
   "cell_type": "code",
   "execution_count": 8,
   "metadata": {
    "collapsed": true
   },
   "outputs": [],
   "source": [
    "from sklearn.decomposition import PCA\n",
    "pca_model = PCA()\n",
    "pca_comp = pca_model.fit_transform(df_cent)\n",
    "pca_load = pca_model.components_"
   ]
  },
  {
   "cell_type": "code",
   "execution_count": 9,
   "metadata": {},
   "outputs": [
    {
     "data": {
      "text/plain": [
       "((48, 48), (48, 947))"
      ]
     },
     "execution_count": 9,
     "metadata": {},
     "output_type": "execute_result"
    }
   ],
   "source": [
    "pca_comp.shape, pca_load.shape"
   ]
  },
  {
   "cell_type": "code",
   "execution_count": 10,
   "metadata": {},
   "outputs": [
    {
     "data": {
      "text/plain": [
       "array([[-2.79837172e+00, -4.40246839e+00, -7.69096925e+00, ...,\n",
       "        -5.11060004e-01, -2.55723837e-02,  3.58598037e-15],\n",
       "       [-2.92213409e+00, -4.96977448e+00, -5.20824318e+00, ...,\n",
       "         1.26315095e+00,  3.87993291e-01,  3.58598037e-15],\n",
       "       [-2.62436561e+00, -4.99609495e+00, -4.18791825e+00, ...,\n",
       "         2.03149425e-01,  1.67970048e-01,  3.58598037e-15],\n",
       "       ...,\n",
       "       [ 1.80067919e+01, -2.78228623e+00,  1.59121884e+00, ...,\n",
       "        -2.19739619e-02,  8.12215235e-02,  3.58598037e-15],\n",
       "       [ 1.83462184e+01, -4.33852386e+00,  3.23641612e+00, ...,\n",
       "         1.36922787e-01,  8.83976380e-02,  3.58598037e-15],\n",
       "       [ 1.59459389e+01, -8.35963420e+00,  4.28777696e+00, ...,\n",
       "        -2.04174406e-01,  6.04710809e-02,  3.58598037e-15]])"
      ]
     },
     "execution_count": 10,
     "metadata": {},
     "output_type": "execute_result"
    }
   ],
   "source": [
    "pca_comp"
   ]
  },
  {
   "cell_type": "markdown",
   "metadata": {},
   "source": [
    "#### PCA Eigengenes:"
   ]
  },
  {
   "cell_type": "code",
   "execution_count": 11,
   "metadata": {
    "collapsed": true
   },
   "outputs": [],
   "source": [
    "variance_retained = 0.90\n",
    "pca_eigengenes = pd.DataFrame(pca_comp[:, 0:(sum(np.cumsum(pca_model.explained_variance_ratio_) < variance_retained) + 1)])"
   ]
  },
  {
   "cell_type": "code",
   "execution_count": 12,
   "metadata": {},
   "outputs": [
    {
     "name": "stdout",
     "output_type": "stream",
     "text": [
      "(48, 11)\n"
     ]
    },
    {
     "data": {
      "text/html": [
       "<div>\n",
       "<style scoped>\n",
       "    .dataframe tbody tr th:only-of-type {\n",
       "        vertical-align: middle;\n",
       "    }\n",
       "\n",
       "    .dataframe tbody tr th {\n",
       "        vertical-align: top;\n",
       "    }\n",
       "\n",
       "    .dataframe thead th {\n",
       "        text-align: right;\n",
       "    }\n",
       "</style>\n",
       "<table border=\"1\" class=\"dataframe\">\n",
       "  <thead>\n",
       "    <tr style=\"text-align: right;\">\n",
       "      <th></th>\n",
       "      <th>0</th>\n",
       "      <th>1</th>\n",
       "      <th>2</th>\n",
       "      <th>3</th>\n",
       "      <th>4</th>\n",
       "      <th>5</th>\n",
       "      <th>6</th>\n",
       "      <th>7</th>\n",
       "      <th>8</th>\n",
       "      <th>9</th>\n",
       "      <th>10</th>\n",
       "    </tr>\n",
       "  </thead>\n",
       "  <tbody>\n",
       "    <tr>\n",
       "      <th>0</th>\n",
       "      <td>-2.798372</td>\n",
       "      <td>-4.402468</td>\n",
       "      <td>-7.690969</td>\n",
       "      <td>-1.957090</td>\n",
       "      <td>0.613593</td>\n",
       "      <td>-1.687017</td>\n",
       "      <td>4.671588</td>\n",
       "      <td>1.351596</td>\n",
       "      <td>1.385282</td>\n",
       "      <td>-0.029436</td>\n",
       "      <td>-0.745758</td>\n",
       "    </tr>\n",
       "    <tr>\n",
       "      <th>1</th>\n",
       "      <td>-2.922134</td>\n",
       "      <td>-4.969774</td>\n",
       "      <td>-5.208243</td>\n",
       "      <td>-3.457471</td>\n",
       "      <td>0.155285</td>\n",
       "      <td>-0.471327</td>\n",
       "      <td>2.210146</td>\n",
       "      <td>0.882310</td>\n",
       "      <td>-0.446660</td>\n",
       "      <td>0.114098</td>\n",
       "      <td>-0.131722</td>\n",
       "    </tr>\n",
       "    <tr>\n",
       "      <th>2</th>\n",
       "      <td>-2.624366</td>\n",
       "      <td>-4.996095</td>\n",
       "      <td>-4.187918</td>\n",
       "      <td>-5.074004</td>\n",
       "      <td>0.800435</td>\n",
       "      <td>0.741886</td>\n",
       "      <td>1.889410</td>\n",
       "      <td>0.520804</td>\n",
       "      <td>-1.119914</td>\n",
       "      <td>0.926590</td>\n",
       "      <td>1.226815</td>\n",
       "    </tr>\n",
       "    <tr>\n",
       "      <th>3</th>\n",
       "      <td>-3.868753</td>\n",
       "      <td>-5.126975</td>\n",
       "      <td>-0.889689</td>\n",
       "      <td>-5.704864</td>\n",
       "      <td>0.192389</td>\n",
       "      <td>1.278942</td>\n",
       "      <td>-0.578249</td>\n",
       "      <td>3.837876</td>\n",
       "      <td>-1.386966</td>\n",
       "      <td>-0.677108</td>\n",
       "      <td>0.213987</td>\n",
       "    </tr>\n",
       "    <tr>\n",
       "      <th>4</th>\n",
       "      <td>-6.810763</td>\n",
       "      <td>-4.506275</td>\n",
       "      <td>-3.141476</td>\n",
       "      <td>-3.264051</td>\n",
       "      <td>5.409984</td>\n",
       "      <td>0.476325</td>\n",
       "      <td>-1.642814</td>\n",
       "      <td>-0.936277</td>\n",
       "      <td>0.800513</td>\n",
       "      <td>0.804089</td>\n",
       "      <td>1.342596</td>\n",
       "    </tr>\n",
       "  </tbody>\n",
       "</table>\n",
       "</div>"
      ],
      "text/plain": [
       "          0         1         2         3         4         5         6  \\\n",
       "0 -2.798372 -4.402468 -7.690969 -1.957090  0.613593 -1.687017  4.671588   \n",
       "1 -2.922134 -4.969774 -5.208243 -3.457471  0.155285 -0.471327  2.210146   \n",
       "2 -2.624366 -4.996095 -4.187918 -5.074004  0.800435  0.741886  1.889410   \n",
       "3 -3.868753 -5.126975 -0.889689 -5.704864  0.192389  1.278942 -0.578249   \n",
       "4 -6.810763 -4.506275 -3.141476 -3.264051  5.409984  0.476325 -1.642814   \n",
       "\n",
       "          7         8         9        10  \n",
       "0  1.351596  1.385282 -0.029436 -0.745758  \n",
       "1  0.882310 -0.446660  0.114098 -0.131722  \n",
       "2  0.520804 -1.119914  0.926590  1.226815  \n",
       "3  3.837876 -1.386966 -0.677108  0.213987  \n",
       "4 -0.936277  0.800513  0.804089  1.342596  "
      ]
     },
     "execution_count": 12,
     "metadata": {},
     "output_type": "execute_result"
    }
   ],
   "source": [
    "print(pca_eigengenes.shape)\n",
    "pca_eigengenes.head()"
   ]
  },
  {
   "cell_type": "markdown",
   "metadata": {},
   "source": [
    "__Clip__ the values in each eigengene to deal with outliers:"
   ]
  },
  {
   "cell_type": "code",
   "execution_count": 13,
   "metadata": {},
   "outputs": [
    {
     "data": {
      "text/html": [
       "<div>\n",
       "<style scoped>\n",
       "    .dataframe tbody tr th:only-of-type {\n",
       "        vertical-align: middle;\n",
       "    }\n",
       "\n",
       "    .dataframe tbody tr th {\n",
       "        vertical-align: top;\n",
       "    }\n",
       "\n",
       "    .dataframe thead th {\n",
       "        text-align: right;\n",
       "    }\n",
       "</style>\n",
       "<table border=\"1\" class=\"dataframe\">\n",
       "  <thead>\n",
       "    <tr style=\"text-align: right;\">\n",
       "      <th></th>\n",
       "      <th>0</th>\n",
       "      <th>1</th>\n",
       "      <th>2</th>\n",
       "      <th>3</th>\n",
       "      <th>4</th>\n",
       "      <th>5</th>\n",
       "      <th>6</th>\n",
       "      <th>7</th>\n",
       "      <th>8</th>\n",
       "      <th>9</th>\n",
       "      <th>10</th>\n",
       "    </tr>\n",
       "  </thead>\n",
       "  <tbody>\n",
       "    <tr>\n",
       "      <th>0</th>\n",
       "      <td>-2.798372</td>\n",
       "      <td>-4.402468</td>\n",
       "      <td>-7.448882</td>\n",
       "      <td>-1.957090</td>\n",
       "      <td>0.613593</td>\n",
       "      <td>-1.687017</td>\n",
       "      <td>2.903399</td>\n",
       "      <td>1.351596</td>\n",
       "      <td>1.385282</td>\n",
       "      <td>-0.029436</td>\n",
       "      <td>-0.745758</td>\n",
       "    </tr>\n",
       "    <tr>\n",
       "      <th>1</th>\n",
       "      <td>-2.922134</td>\n",
       "      <td>-4.969774</td>\n",
       "      <td>-5.208243</td>\n",
       "      <td>-3.457471</td>\n",
       "      <td>0.155285</td>\n",
       "      <td>-0.471327</td>\n",
       "      <td>2.210146</td>\n",
       "      <td>0.882310</td>\n",
       "      <td>-0.446660</td>\n",
       "      <td>0.114098</td>\n",
       "      <td>-0.131722</td>\n",
       "    </tr>\n",
       "    <tr>\n",
       "      <th>2</th>\n",
       "      <td>-2.624366</td>\n",
       "      <td>-4.996095</td>\n",
       "      <td>-4.187918</td>\n",
       "      <td>-4.885598</td>\n",
       "      <td>0.800435</td>\n",
       "      <td>0.741886</td>\n",
       "      <td>1.889410</td>\n",
       "      <td>0.520804</td>\n",
       "      <td>-1.119914</td>\n",
       "      <td>0.926590</td>\n",
       "      <td>1.226815</td>\n",
       "    </tr>\n",
       "    <tr>\n",
       "      <th>3</th>\n",
       "      <td>-3.868753</td>\n",
       "      <td>-5.126975</td>\n",
       "      <td>-0.889689</td>\n",
       "      <td>-4.885598</td>\n",
       "      <td>0.192389</td>\n",
       "      <td>1.278942</td>\n",
       "      <td>-0.578249</td>\n",
       "      <td>2.859663</td>\n",
       "      <td>-1.386966</td>\n",
       "      <td>-0.677108</td>\n",
       "      <td>0.213987</td>\n",
       "    </tr>\n",
       "    <tr>\n",
       "      <th>4</th>\n",
       "      <td>-6.810763</td>\n",
       "      <td>-4.506275</td>\n",
       "      <td>-3.141476</td>\n",
       "      <td>-3.264051</td>\n",
       "      <td>5.312766</td>\n",
       "      <td>0.476325</td>\n",
       "      <td>-1.642814</td>\n",
       "      <td>-0.936277</td>\n",
       "      <td>0.800513</td>\n",
       "      <td>0.804089</td>\n",
       "      <td>1.342596</td>\n",
       "    </tr>\n",
       "  </tbody>\n",
       "</table>\n",
       "</div>"
      ],
      "text/plain": [
       "          0         1         2         3         4         5         6  \\\n",
       "0 -2.798372 -4.402468 -7.448882 -1.957090  0.613593 -1.687017  2.903399   \n",
       "1 -2.922134 -4.969774 -5.208243 -3.457471  0.155285 -0.471327  2.210146   \n",
       "2 -2.624366 -4.996095 -4.187918 -4.885598  0.800435  0.741886  1.889410   \n",
       "3 -3.868753 -5.126975 -0.889689 -4.885598  0.192389  1.278942 -0.578249   \n",
       "4 -6.810763 -4.506275 -3.141476 -3.264051  5.312766  0.476325 -1.642814   \n",
       "\n",
       "          7         8         9        10  \n",
       "0  1.351596  1.385282 -0.029436 -0.745758  \n",
       "1  0.882310 -0.446660  0.114098 -0.131722  \n",
       "2  0.520804 -1.119914  0.926590  1.226815  \n",
       "3  2.859663 -1.386966 -0.677108  0.213987  \n",
       "4 -0.936277  0.800513  0.804089  1.342596  "
      ]
     },
     "execution_count": 13,
     "metadata": {},
     "output_type": "execute_result"
    }
   ],
   "source": [
    "pca_eigengenes = pca_eigengenes.clip(np.percentile(pca_eigengenes, 5, axis=0), np.percentile(pca_eigengenes, 95, axis=0), axis=1)\n",
    "pca_eigengenes.head()"
   ]
  },
  {
   "cell_type": "markdown",
   "metadata": {},
   "source": [
    "Sort the eigengenes in descending order of variance:"
   ]
  },
  {
   "cell_type": "code",
   "execution_count": 14,
   "metadata": {},
   "outputs": [
    {
     "data": {
      "text/plain": [
       "array([ 0,  1,  2,  4,  3,  5,  6,  7,  8, 10,  9])"
      ]
     },
     "execution_count": 14,
     "metadata": {},
     "output_type": "execute_result"
    }
   ],
   "source": [
    "eig_std = np.array(pca_eigengenes.std().sort_values(ascending=False).index)\n",
    "eig_std"
   ]
  },
  {
   "cell_type": "markdown",
   "metadata": {},
   "source": [
    "Reorder the columns of the dataframe in descending order of variance:"
   ]
  },
  {
   "cell_type": "code",
   "execution_count": 15,
   "metadata": {
    "collapsed": true
   },
   "outputs": [],
   "source": [
    "pca_eigengenes = pca_eigengenes[eig_std]"
   ]
  },
  {
   "cell_type": "markdown",
   "metadata": {},
   "source": [
    "Plot the three eigengenes with the largest variance:"
   ]
  },
  {
   "cell_type": "code",
   "execution_count": 16,
   "metadata": {},
   "outputs": [
    {
     "data": {
      "image/png": "[encoded data removed]",
      "text/plain": [
       "<Figure size 720x576 with 1 Axes>"
      ]
     },
     "metadata": {},
     "output_type": "display_data"
    }
   ],
   "source": [
    "times = np.linspace(1,nc,nc)\n",
    "\n",
    "eg1 = pca_eigengenes.iloc[:,0]\n",
    "eg2 = pca_eigengenes.iloc[:,1]\n",
    "eg3 = pca_eigengenes.iloc[:,2]\n",
    "\n",
    "plt.figure(figsize=(10,8))\n",
    "plt.scatter(times, eg1, label=\"First Eigengene\")\n",
    "plt.scatter(times, eg2, label=\"Second Eigengene\")\n",
    "plt.scatter(times, eg3, label=\"Third Eigengene\")\n",
    "plt.title('Plot of the first three eigengenes (principal components) with the largest variance', size=15)\n",
    "plt.legend(loc=[1.01,0])\n",
    "plt.show()"
   ]
  },
  {
   "cell_type": "markdown",
   "metadata": {},
   "source": [
    "Next, plot these three eigengenes against each other:"
   ]
  },
  {
   "cell_type": "code",
   "execution_count": 17,
   "metadata": {},
   "outputs": [
    {
     "data": {
      "text/plain": [
       "Text(0.5, 1.0, '2nd vs 3rd')"
      ]
     },
     "execution_count": 17,
     "metadata": {},
     "output_type": "execute_result"
    },
    {
     "data": {
      "image/png": "[encoded data removed]",
      "text/plain": [
       "<Figure size 1296x432 with 3 Axes>"
      ]
     },
     "metadata": {},
     "output_type": "display_data"
    }
   ],
   "source": [
    "f, (ax1, ax2, ax3) = plt.subplots(1, 3, figsize = (18,6))\n",
    "plt.suptitle('Plot of first 3 eigengenes with the largest variance against each other', size=20)\n",
    "\n",
    "ax1.scatter(eg1, eg2)\n",
    "ax1.set_title('1st vs 2nd', size=15)\n",
    "ax2.scatter(eg1, eg3)\n",
    "ax2.set_title('1st vs 3rd', size=15)\n",
    "ax3.scatter(eg2, eg3)\n",
    "ax3.set_title('2nd vs 3rd', size=15)"
   ]
  },
  {
   "cell_type": "markdown",
   "metadata": {},
   "source": [
    "## 4. Creating the autoencoder model"
   ]
  },
  {
   "cell_type": "code",
   "execution_count": 18,
   "metadata": {
    "collapsed": true
   },
   "outputs": [],
   "source": [
    "data = pca_eigengenes.to_numpy()"
   ]
  },
  {
   "cell_type": "code",
   "execution_count": 19,
   "metadata": {
    "collapsed": true
   },
   "outputs": [],
   "source": [
    "def jump_control(X):\n",
    "    X_ = X.copy()\n",
    "    pop_list = []\n",
    "    for i in range(1,len(X)):\n",
    "        if X[i]-X[i-1]<10:\n",
    "            pop_list.append(i)\n",
    "    pop_list.sort(reverse=True)\n",
    "    for i in pop_list:\n",
    "        X_.pop(i)\n",
    "    return X_\n",
    "\n",
    "def iterr(data):\n",
    "    model = cyclops(data.shape[1])\n",
    "    n_epochs = 500\n",
    "    history = model.train(data[np.random.permutation(data.shape[0]), :], epochs=n_epochs, verbose=n_epochs, batch_size=10)\n",
    "    loss = history.history['loss'][-1]\n",
    "    \n",
    "    phase_df = model.phase_output(data)\n",
    "    phase_idx = phase_df.index.to_numpy()\n",
    "    phase_list = phase_df.pseudotime.to_numpy()\n",
    "    \n",
    "    zipped = list(zip(phase_idx,phase_list))\n",
    "    re_phase_list = np.array([sorted(zipped, key = lambda t: t[0])[i][1] for i in range(len(zipped))])\n",
    "    re_phase_idx = np.array([sorted(zipped, key = lambda t: t[0])[i][0] for i in range(len(zipped))])\n",
    "    \n",
    "    asc_phase_jump, desc_phase_jump = [],[]\n",
    "    for i in range(len(re_phase_list)-1):\n",
    "        if re_phase_list[i+1]-re_phase_list[i] > np.pi:\n",
    "            desc_phase_jump.append(i)\n",
    "        elif re_phase_list[i+1]-re_phase_list[i] < -np.pi:\n",
    "            asc_phase_jump.append(i)\n",
    "            \n",
    "    if len(asc_phase_jump) > len(desc_phase_jump):\n",
    "        phase_jump = asc_phase_jump\n",
    "    else:\n",
    "        phase_jump = desc_phase_jump\n",
    "\n",
    "\n",
    "    phase_jump = jump_control(phase_jump)\n",
    "\n",
    "    jumps = len(phase_jump)\n",
    "    for i in range(jumps):\n",
    "        if len(asc_phase_jump) > len(desc_phase_jump):\n",
    "            re_phase_list = np.array([re_phase_list[i] if i < phase_jump[0]+1 else re_phase_list[i] + 2*np.pi for i in range(len(zipped))])\n",
    "        else:\n",
    "            re_phase_list = np.array([re_phase_list[i] if i < phase_jump[0]+1 else re_phase_list[i] - 2*np.pi for i in range(len(zipped))])\n",
    "        phase_jump.pop(0)\n",
    "    \n",
    "    from scipy.stats import linregress\n",
    "\n",
    "    lin = linregress(re_phase_idx, re_phase_list)\n",
    "    \n",
    "    r_squared = lin[2]**2\n",
    "    \n",
    "    return loss, r_squared"
   ]
  },
  {
   "cell_type": "code",
   "execution_count": 20,
   "metadata": {
    "collapsed": true
   },
   "outputs": [],
   "source": [
    "%%capture\n",
    "%%time\n",
    "\n",
    "n_iter = 50\n",
    "\n",
    "iter_list = np.zeros([n_iter,2])\n",
    "\n",
    "for i in range(n_iter):\n",
    "    iter_list[i] = iterr(data)"
   ]
  },
  {
   "cell_type": "code",
   "execution_count": 21,
   "metadata": {
    "collapsed": true
   },
   "outputs": [],
   "source": [
    "cs = np.array([iter_list[i][0] for i in range(len(iter_list))])\n",
    "r2 = np.array([iter_list[i][1] for i in range(len(iter_list))])"
   ]
  },
  {
   "cell_type": "code",
   "execution_count": 22,
   "metadata": {},
   "outputs": [
    {
     "name": "stderr",
     "output_type": "stream",
     "text": [
      "/Users/henrylim/.local/lib/python3.6/site-packages/matplotlib/__init__.py:886: MatplotlibDeprecationWarning: \n",
      "examples.directory is deprecated; in the future, examples will be found relative to the 'datapath' directory.\n",
      "  \"found relative to the 'datapath' directory.\".format(key))\n"
     ]
    },
    {
     "data": {
      "image/png": "[encoded data removed]",
      "text/plain": [
       "<Figure size 720x576 with 1 Axes>"
      ]
     },
     "metadata": {},
     "output_type": "display_data"
    }
   ],
   "source": [
    "import seaborn as sns\n",
    "import statistics\n",
    "\n",
    "plt.figure(figsize=(10,8))\n",
    "sns.boxplot(r2)\n",
    "plt.xlabel(r'$R^2$ value', size=15)\n",
    "plt.title(r'Boxplot of $R^2$ values for Hughes Liver Data (PCA), Median = {:.4f}'.format(statistics.median(r2)), size=20)\n",
    "plt.show()"
   ]
  }
 ],
 "metadata": {
  "kernelspec": {
   "display_name": "Python 3",
   "language": "python",
   "name": "python3"
  },
  "language_info": {
   "codemirror_mode": {
    "name": "ipython",
    "version": 3
   },
   "file_extension": ".py",
   "mimetype": "text/x-python",
   "name": "python",
   "nbconvert_exporter": "python",
   "pygments_lexer": "ipython3",
   "version": "3.6.10"
  }
 },
 "nbformat": 4,
 "nbformat_minor": 2
}
