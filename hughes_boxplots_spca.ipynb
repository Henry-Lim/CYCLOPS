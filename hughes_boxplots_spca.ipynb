{
 "cells": [
  {
   "cell_type": "markdown",
   "metadata": {},
   "source": [
    "# CYCLOPS on Hughes Liver Data (Boxplot: Sparse PCA)"
   ]
  },
  {
   "cell_type": "markdown",
   "metadata": {},
   "source": [
    "## 1. Importing packages"
   ]
  },
  {
   "cell_type": "code",
   "execution_count": 1,
   "metadata": {
    "collapsed": true
   },
   "outputs": [],
   "source": [
    "from cyclops_v2 import *\n",
    "from spca import *\n",
    "\n",
    "import numpy as np\n",
    "import pandas as pd\n",
    "import matplotlib.pyplot as plt\n",
    "%matplotlib inline"
   ]
  },
  {
   "cell_type": "markdown",
   "metadata": {},
   "source": [
    "## 2. Loading data"
   ]
  },
  {
   "cell_type": "markdown",
   "metadata": {},
   "source": [
    "Read the Hughes Liver data into a pandas dataframe:"
   ]
  },
  {
   "cell_type": "code",
   "execution_count": 2,
   "metadata": {
    "collapsed": true
   },
   "outputs": [],
   "source": [
    "df = pd.read_csv(\"Hughes_2009_liver_new.csv\").T\n",
    "df = df.iloc[1:,:]"
   ]
  },
  {
   "cell_type": "code",
   "execution_count": 3,
   "metadata": {},
   "outputs": [
    {
     "name": "stdout",
     "output_type": "stream",
     "text": [
      "Running on 9471 genes and 48 cells.\n"
     ]
    }
   ],
   "source": [
    "ng = df.shape[1]\n",
    "nc = df.shape[0]\n",
    "print(\"Running on {} genes and {} cells.\".format(ng,nc))"
   ]
  },
  {
   "cell_type": "markdown",
   "metadata": {},
   "source": [
    "## 3. Data Preprocessing"
   ]
  },
  {
   "cell_type": "markdown",
   "metadata": {},
   "source": [
    "Filter and sort genes in descending order of variance:"
   ]
  },
  {
   "cell_type": "code",
   "execution_count": 4,
   "metadata": {},
   "outputs": [
    {
     "name": "stdout",
     "output_type": "stream",
     "text": [
      "<class 'pandas.core.frame.DataFrame'>\n",
      "Int64Index: 9471 entries, 8364 to 541\n",
      "Data columns (total 1 columns):\n",
      " #   Column  Non-Null Count  Dtype  \n",
      "---  ------  --------------  -----  \n",
      " 0   0       9471 non-null   float64\n",
      "dtypes: float64(1)\n",
      "memory usage: 148.0 KB\n"
     ]
    }
   ],
   "source": [
    "frac = 1.00\n",
    "\n",
    "df_std = pd.DataFrame(df.std().sort_values(ascending=False))\n",
    "df_std = df_std.iloc[:round(df_std.shape[0]*frac),:]\n",
    "df_std.info()"
   ]
  },
  {
   "cell_type": "code",
   "execution_count": 5,
   "metadata": {
    "collapsed": true
   },
   "outputs": [],
   "source": [
    "gene_list = df_std.index.to_numpy()\n",
    "gene_list;"
   ]
  },
  {
   "cell_type": "code",
   "execution_count": 6,
   "metadata": {},
   "outputs": [
    {
     "data": {
      "text/plain": [
       "(48, 9471)"
      ]
     },
     "execution_count": 6,
     "metadata": {},
     "output_type": "execute_result"
    }
   ],
   "source": [
    "data = df.to_numpy().T\n",
    "\n",
    "newdata = np.zeros([len(gene_list),nc])\n",
    "for i in range(len(gene_list)):\n",
    "    newdata[i] = data[gene_list[i]]\n",
    "newdata = pd.DataFrame(newdata.T)\n",
    "newdata.shape"
   ]
  },
  {
   "cell_type": "markdown",
   "metadata": {},
   "source": [
    "Before performing dimensionality reduction, the dataset has to be __centered__ to zero mean:"
   ]
  },
  {
   "cell_type": "code",
   "execution_count": 7,
   "metadata": {},
   "outputs": [
    {
     "data": {
      "text/html": [
       "<div>\n",
       "<style scoped>\n",
       "    .dataframe tbody tr th:only-of-type {\n",
       "        vertical-align: middle;\n",
       "    }\n",
       "\n",
       "    .dataframe tbody tr th {\n",
       "        vertical-align: top;\n",
       "    }\n",
       "\n",
       "    .dataframe thead th {\n",
       "        text-align: right;\n",
       "    }\n",
       "</style>\n",
       "<table border=\"1\" class=\"dataframe\">\n",
       "  <thead>\n",
       "    <tr style=\"text-align: right;\">\n",
       "      <th></th>\n",
       "      <th>0</th>\n",
       "      <th>1</th>\n",
       "      <th>2</th>\n",
       "      <th>3</th>\n",
       "      <th>4</th>\n",
       "      <th>5</th>\n",
       "      <th>6</th>\n",
       "      <th>7</th>\n",
       "      <th>8</th>\n",
       "      <th>9</th>\n",
       "      <th>...</th>\n",
       "      <th>9461</th>\n",
       "      <th>9462</th>\n",
       "      <th>9463</th>\n",
       "      <th>9464</th>\n",
       "      <th>9465</th>\n",
       "      <th>9466</th>\n",
       "      <th>9467</th>\n",
       "      <th>9468</th>\n",
       "      <th>9469</th>\n",
       "      <th>9470</th>\n",
       "    </tr>\n",
       "  </thead>\n",
       "  <tbody>\n",
       "    <tr>\n",
       "      <th>0</th>\n",
       "      <td>-1.057233</td>\n",
       "      <td>0.590007</td>\n",
       "      <td>0.240254</td>\n",
       "      <td>0.828500</td>\n",
       "      <td>0.860009</td>\n",
       "      <td>0.604851</td>\n",
       "      <td>0.115542</td>\n",
       "      <td>0.291322</td>\n",
       "      <td>-1.612009</td>\n",
       "      <td>0.470272</td>\n",
       "      <td>...</td>\n",
       "      <td>0.047402</td>\n",
       "      <td>-0.033964</td>\n",
       "      <td>0.041124</td>\n",
       "      <td>0.048570</td>\n",
       "      <td>-0.036692</td>\n",
       "      <td>-0.008444</td>\n",
       "      <td>-0.007672</td>\n",
       "      <td>-0.003839</td>\n",
       "      <td>-0.003798</td>\n",
       "      <td>0.027638</td>\n",
       "    </tr>\n",
       "    <tr>\n",
       "      <th>1</th>\n",
       "      <td>-1.289151</td>\n",
       "      <td>-0.105554</td>\n",
       "      <td>0.258845</td>\n",
       "      <td>0.805143</td>\n",
       "      <td>0.925618</td>\n",
       "      <td>0.842084</td>\n",
       "      <td>0.055588</td>\n",
       "      <td>-0.316358</td>\n",
       "      <td>-1.014844</td>\n",
       "      <td>-0.345512</td>\n",
       "      <td>...</td>\n",
       "      <td>-0.054446</td>\n",
       "      <td>-0.056007</td>\n",
       "      <td>-0.026301</td>\n",
       "      <td>-0.033067</td>\n",
       "      <td>-0.048561</td>\n",
       "      <td>-0.038221</td>\n",
       "      <td>-0.029466</td>\n",
       "      <td>-0.014537</td>\n",
       "      <td>0.024404</td>\n",
       "      <td>0.015535</td>\n",
       "    </tr>\n",
       "    <tr>\n",
       "      <th>2</th>\n",
       "      <td>-1.480342</td>\n",
       "      <td>0.196870</td>\n",
       "      <td>0.125419</td>\n",
       "      <td>0.877522</td>\n",
       "      <td>0.489767</td>\n",
       "      <td>0.908341</td>\n",
       "      <td>0.401185</td>\n",
       "      <td>0.079972</td>\n",
       "      <td>-0.782121</td>\n",
       "      <td>-1.321644</td>\n",
       "      <td>...</td>\n",
       "      <td>0.021866</td>\n",
       "      <td>-0.042399</td>\n",
       "      <td>0.026469</td>\n",
       "      <td>-0.013850</td>\n",
       "      <td>-0.022070</td>\n",
       "      <td>0.000282</td>\n",
       "      <td>-0.004978</td>\n",
       "      <td>-0.042867</td>\n",
       "      <td>0.031460</td>\n",
       "      <td>0.006619</td>\n",
       "    </tr>\n",
       "    <tr>\n",
       "      <th>3</th>\n",
       "      <td>-1.853192</td>\n",
       "      <td>-0.367974</td>\n",
       "      <td>-0.221732</td>\n",
       "      <td>0.875994</td>\n",
       "      <td>2.026273</td>\n",
       "      <td>1.154509</td>\n",
       "      <td>1.674401</td>\n",
       "      <td>-0.020789</td>\n",
       "      <td>0.547587</td>\n",
       "      <td>-1.490179</td>\n",
       "      <td>...</td>\n",
       "      <td>0.016014</td>\n",
       "      <td>0.012643</td>\n",
       "      <td>0.037788</td>\n",
       "      <td>-0.010237</td>\n",
       "      <td>0.016415</td>\n",
       "      <td>0.036007</td>\n",
       "      <td>-0.020580</td>\n",
       "      <td>-0.013689</td>\n",
       "      <td>0.006455</td>\n",
       "      <td>0.011011</td>\n",
       "    </tr>\n",
       "    <tr>\n",
       "      <th>4</th>\n",
       "      <td>-1.999081</td>\n",
       "      <td>-1.076976</td>\n",
       "      <td>-0.307505</td>\n",
       "      <td>0.803293</td>\n",
       "      <td>0.922050</td>\n",
       "      <td>1.238456</td>\n",
       "      <td>1.191018</td>\n",
       "      <td>0.232353</td>\n",
       "      <td>-0.251958</td>\n",
       "      <td>-0.937067</td>\n",
       "      <td>...</td>\n",
       "      <td>-0.002610</td>\n",
       "      <td>-0.026173</td>\n",
       "      <td>0.048447</td>\n",
       "      <td>0.028801</td>\n",
       "      <td>-0.010934</td>\n",
       "      <td>0.061688</td>\n",
       "      <td>-0.054821</td>\n",
       "      <td>-0.039594</td>\n",
       "      <td>0.044793</td>\n",
       "      <td>-0.002803</td>\n",
       "    </tr>\n",
       "  </tbody>\n",
       "</table>\n",
       "<p>5 rows × 9471 columns</p>\n",
       "</div>"
      ],
      "text/plain": [
       "       0         1         2         3         4         5         6     \\\n",
       "0 -1.057233  0.590007  0.240254  0.828500  0.860009  0.604851  0.115542   \n",
       "1 -1.289151 -0.105554  0.258845  0.805143  0.925618  0.842084  0.055588   \n",
       "2 -1.480342  0.196870  0.125419  0.877522  0.489767  0.908341  0.401185   \n",
       "3 -1.853192 -0.367974 -0.221732  0.875994  2.026273  1.154509  1.674401   \n",
       "4 -1.999081 -1.076976 -0.307505  0.803293  0.922050  1.238456  1.191018   \n",
       "\n",
       "       7         8         9     ...      9461      9462      9463      9464  \\\n",
       "0  0.291322 -1.612009  0.470272  ...  0.047402 -0.033964  0.041124  0.048570   \n",
       "1 -0.316358 -1.014844 -0.345512  ... -0.054446 -0.056007 -0.026301 -0.033067   \n",
       "2  0.079972 -0.782121 -1.321644  ...  0.021866 -0.042399  0.026469 -0.013850   \n",
       "3 -0.020789  0.547587 -1.490179  ...  0.016014  0.012643  0.037788 -0.010237   \n",
       "4  0.232353 -0.251958 -0.937067  ... -0.002610 -0.026173  0.048447  0.028801   \n",
       "\n",
       "       9465      9466      9467      9468      9469      9470  \n",
       "0 -0.036692 -0.008444 -0.007672 -0.003839 -0.003798  0.027638  \n",
       "1 -0.048561 -0.038221 -0.029466 -0.014537  0.024404  0.015535  \n",
       "2 -0.022070  0.000282 -0.004978 -0.042867  0.031460  0.006619  \n",
       "3  0.016415  0.036007 -0.020580 -0.013689  0.006455  0.011011  \n",
       "4 -0.010934  0.061688 -0.054821 -0.039594  0.044793 -0.002803  \n",
       "\n",
       "[5 rows x 9471 columns]"
      ]
     },
     "execution_count": 7,
     "metadata": {},
     "output_type": "execute_result"
    }
   ],
   "source": [
    "df_cent = newdata.transform(lambda x: x-x.mean())\n",
    "df_cent.head()"
   ]
  },
  {
   "cell_type": "markdown",
   "metadata": {},
   "source": [
    "## Karthik's SPCA"
   ]
  },
  {
   "cell_type": "markdown",
   "metadata": {},
   "source": [
    "#### Convert the dataframe to a numpy array:"
   ]
  },
  {
   "cell_type": "code",
   "execution_count": 8,
   "metadata": {
    "collapsed": true
   },
   "outputs": [],
   "source": [
    "data_ = df_cent.to_numpy()"
   ]
  },
  {
   "cell_type": "markdown",
   "metadata": {},
   "source": [
    "#### _t_ controls alpha, _ rank_ controls n_components"
   ]
  },
  {
   "cell_type": "code",
   "execution_count": 9,
   "metadata": {
    "collapsed": true
   },
   "outputs": [],
   "source": [
    "n_components = 9\n",
    "alpha = 8\n",
    "test = rank_n_o(data_, t=alpha, tol=10e-4, rank=n_components)"
   ]
  },
  {
   "cell_type": "code",
   "execution_count": 10,
   "metadata": {
    "collapsed": true
   },
   "outputs": [],
   "source": [
    "for k, v in test.items():\n",
    "    if k=='XV':\n",
    "        spca_eigengenes = pd.DataFrame(v)\n",
    "    if k=='V':\n",
    "        loading_vectors = pd.DataFrame(v)"
   ]
  },
  {
   "cell_type": "markdown",
   "metadata": {},
   "source": [
    "#### Loading vectors:"
   ]
  },
  {
   "cell_type": "code",
   "execution_count": 11,
   "metadata": {},
   "outputs": [
    {
     "data": {
      "text/html": [
       "<div>\n",
       "<style scoped>\n",
       "    .dataframe tbody tr th:only-of-type {\n",
       "        vertical-align: middle;\n",
       "    }\n",
       "\n",
       "    .dataframe tbody tr th {\n",
       "        vertical-align: top;\n",
       "    }\n",
       "\n",
       "    .dataframe thead th {\n",
       "        text-align: right;\n",
       "    }\n",
       "</style>\n",
       "<table border=\"1\" class=\"dataframe\">\n",
       "  <thead>\n",
       "    <tr style=\"text-align: right;\">\n",
       "      <th></th>\n",
       "      <th>0</th>\n",
       "      <th>1</th>\n",
       "      <th>2</th>\n",
       "      <th>3</th>\n",
       "      <th>4</th>\n",
       "      <th>5</th>\n",
       "      <th>6</th>\n",
       "      <th>7</th>\n",
       "      <th>8</th>\n",
       "    </tr>\n",
       "  </thead>\n",
       "  <tbody>\n",
       "    <tr>\n",
       "      <th>0</th>\n",
       "      <td>-0.456205</td>\n",
       "      <td>0.275388</td>\n",
       "      <td>0.000000</td>\n",
       "      <td>0.000000</td>\n",
       "      <td>0.0</td>\n",
       "      <td>0.000000</td>\n",
       "      <td>0.101856</td>\n",
       "      <td>0.005560</td>\n",
       "      <td>-0.047828</td>\n",
       "    </tr>\n",
       "    <tr>\n",
       "      <th>1</th>\n",
       "      <td>-0.251519</td>\n",
       "      <td>-0.128345</td>\n",
       "      <td>0.246941</td>\n",
       "      <td>0.000000</td>\n",
       "      <td>0.0</td>\n",
       "      <td>-0.023008</td>\n",
       "      <td>0.000000</td>\n",
       "      <td>-0.016274</td>\n",
       "      <td>0.000000</td>\n",
       "    </tr>\n",
       "    <tr>\n",
       "      <th>2</th>\n",
       "      <td>-0.246036</td>\n",
       "      <td>0.000000</td>\n",
       "      <td>0.266685</td>\n",
       "      <td>-0.067236</td>\n",
       "      <td>0.0</td>\n",
       "      <td>0.000000</td>\n",
       "      <td>0.000000</td>\n",
       "      <td>0.000000</td>\n",
       "      <td>-0.037039</td>\n",
       "    </tr>\n",
       "    <tr>\n",
       "      <th>3</th>\n",
       "      <td>0.253311</td>\n",
       "      <td>0.000000</td>\n",
       "      <td>0.000000</td>\n",
       "      <td>0.000000</td>\n",
       "      <td>0.0</td>\n",
       "      <td>0.000000</td>\n",
       "      <td>0.000000</td>\n",
       "      <td>0.000000</td>\n",
       "      <td>0.000000</td>\n",
       "    </tr>\n",
       "    <tr>\n",
       "      <th>4</th>\n",
       "      <td>0.058886</td>\n",
       "      <td>0.098658</td>\n",
       "      <td>0.000000</td>\n",
       "      <td>0.000000</td>\n",
       "      <td>0.0</td>\n",
       "      <td>0.359986</td>\n",
       "      <td>-0.040532</td>\n",
       "      <td>-0.525322</td>\n",
       "      <td>0.043855</td>\n",
       "    </tr>\n",
       "  </tbody>\n",
       "</table>\n",
       "</div>"
      ],
      "text/plain": [
       "          0         1         2         3    4         5         6         7  \\\n",
       "0 -0.456205  0.275388  0.000000  0.000000  0.0  0.000000  0.101856  0.005560   \n",
       "1 -0.251519 -0.128345  0.246941  0.000000  0.0 -0.023008  0.000000 -0.016274   \n",
       "2 -0.246036  0.000000  0.266685 -0.067236  0.0  0.000000  0.000000  0.000000   \n",
       "3  0.253311  0.000000  0.000000  0.000000  0.0  0.000000  0.000000  0.000000   \n",
       "4  0.058886  0.098658  0.000000  0.000000  0.0  0.359986 -0.040532 -0.525322   \n",
       "\n",
       "          8  \n",
       "0 -0.047828  \n",
       "1  0.000000  \n",
       "2 -0.037039  \n",
       "3  0.000000  \n",
       "4  0.043855  "
      ]
     },
     "execution_count": 11,
     "metadata": {},
     "output_type": "execute_result"
    }
   ],
   "source": [
    "loading_vectors = loading_vectors[(loading_vectors.select_dtypes(include=['number']) != 0).any(1)]\n",
    "loading_vectors.head()"
   ]
  },
  {
   "cell_type": "markdown",
   "metadata": {},
   "source": [
    "#### Eigengenes:"
   ]
  },
  {
   "cell_type": "code",
   "execution_count": 12,
   "metadata": {},
   "outputs": [
    {
     "data": {
      "text/html": [
       "<div>\n",
       "<style scoped>\n",
       "    .dataframe tbody tr th:only-of-type {\n",
       "        vertical-align: middle;\n",
       "    }\n",
       "\n",
       "    .dataframe tbody tr th {\n",
       "        vertical-align: top;\n",
       "    }\n",
       "\n",
       "    .dataframe thead th {\n",
       "        text-align: right;\n",
       "    }\n",
       "</style>\n",
       "<table border=\"1\" class=\"dataframe\">\n",
       "  <thead>\n",
       "    <tr style=\"text-align: right;\">\n",
       "      <th></th>\n",
       "      <th>0</th>\n",
       "      <th>1</th>\n",
       "      <th>2</th>\n",
       "      <th>3</th>\n",
       "      <th>4</th>\n",
       "      <th>5</th>\n",
       "      <th>6</th>\n",
       "      <th>7</th>\n",
       "      <th>8</th>\n",
       "    </tr>\n",
       "  </thead>\n",
       "  <tbody>\n",
       "    <tr>\n",
       "      <th>0</th>\n",
       "      <td>2.861646</td>\n",
       "      <td>-2.555304</td>\n",
       "      <td>4.046580</td>\n",
       "      <td>-0.212916</td>\n",
       "      <td>1.559651</td>\n",
       "      <td>0.949264</td>\n",
       "      <td>3.571554</td>\n",
       "      <td>-2.997308</td>\n",
       "      <td>-2.981320</td>\n",
       "    </tr>\n",
       "    <tr>\n",
       "      <th>1</th>\n",
       "      <td>3.782134</td>\n",
       "      <td>-1.697651</td>\n",
       "      <td>3.018349</td>\n",
       "      <td>-1.452808</td>\n",
       "      <td>-0.388124</td>\n",
       "      <td>1.107676</td>\n",
       "      <td>2.343453</td>\n",
       "      <td>-1.993671</td>\n",
       "      <td>-1.151872</td>\n",
       "    </tr>\n",
       "    <tr>\n",
       "      <th>2</th>\n",
       "      <td>3.961757</td>\n",
       "      <td>-0.973856</td>\n",
       "      <td>2.509441</td>\n",
       "      <td>-2.929817</td>\n",
       "      <td>-1.195923</td>\n",
       "      <td>0.061350</td>\n",
       "      <td>2.010507</td>\n",
       "      <td>-1.825753</td>\n",
       "      <td>-0.773722</td>\n",
       "    </tr>\n",
       "    <tr>\n",
       "      <th>3</th>\n",
       "      <td>4.827207</td>\n",
       "      <td>0.680977</td>\n",
       "      <td>1.469164</td>\n",
       "      <td>-3.078819</td>\n",
       "      <td>-0.848709</td>\n",
       "      <td>1.208102</td>\n",
       "      <td>-0.189652</td>\n",
       "      <td>-4.101066</td>\n",
       "      <td>1.961160</td>\n",
       "    </tr>\n",
       "    <tr>\n",
       "      <th>4</th>\n",
       "      <td>5.060407</td>\n",
       "      <td>0.322208</td>\n",
       "      <td>2.936977</td>\n",
       "      <td>-3.924132</td>\n",
       "      <td>2.737659</td>\n",
       "      <td>2.132296</td>\n",
       "      <td>0.293697</td>\n",
       "      <td>0.908527</td>\n",
       "      <td>0.010329</td>\n",
       "    </tr>\n",
       "  </tbody>\n",
       "</table>\n",
       "</div>"
      ],
      "text/plain": [
       "          0         1         2         3         4         5         6  \\\n",
       "0  2.861646 -2.555304  4.046580 -0.212916  1.559651  0.949264  3.571554   \n",
       "1  3.782134 -1.697651  3.018349 -1.452808 -0.388124  1.107676  2.343453   \n",
       "2  3.961757 -0.973856  2.509441 -2.929817 -1.195923  0.061350  2.010507   \n",
       "3  4.827207  0.680977  1.469164 -3.078819 -0.848709  1.208102 -0.189652   \n",
       "4  5.060407  0.322208  2.936977 -3.924132  2.737659  2.132296  0.293697   \n",
       "\n",
       "          7         8  \n",
       "0 -2.997308 -2.981320  \n",
       "1 -1.993671 -1.151872  \n",
       "2 -1.825753 -0.773722  \n",
       "3 -4.101066  1.961160  \n",
       "4  0.908527  0.010329  "
      ]
     },
     "execution_count": 12,
     "metadata": {},
     "output_type": "execute_result"
    }
   ],
   "source": [
    "spca_eigengenes.head()"
   ]
  },
  {
   "cell_type": "markdown",
   "metadata": {},
   "source": [
    "__Clip__ the values in each eigengene to deal with outliers:"
   ]
  },
  {
   "cell_type": "code",
   "execution_count": 13,
   "metadata": {},
   "outputs": [
    {
     "data": {
      "text/html": [
       "<div>\n",
       "<style scoped>\n",
       "    .dataframe tbody tr th:only-of-type {\n",
       "        vertical-align: middle;\n",
       "    }\n",
       "\n",
       "    .dataframe tbody tr th {\n",
       "        vertical-align: top;\n",
       "    }\n",
       "\n",
       "    .dataframe thead th {\n",
       "        text-align: right;\n",
       "    }\n",
       "</style>\n",
       "<table border=\"1\" class=\"dataframe\">\n",
       "  <thead>\n",
       "    <tr style=\"text-align: right;\">\n",
       "      <th></th>\n",
       "      <th>0</th>\n",
       "      <th>1</th>\n",
       "      <th>2</th>\n",
       "      <th>3</th>\n",
       "      <th>4</th>\n",
       "      <th>5</th>\n",
       "      <th>6</th>\n",
       "      <th>7</th>\n",
       "      <th>8</th>\n",
       "    </tr>\n",
       "  </thead>\n",
       "  <tbody>\n",
       "    <tr>\n",
       "      <th>0</th>\n",
       "      <td>2.861646</td>\n",
       "      <td>-2.555304</td>\n",
       "      <td>2.909067</td>\n",
       "      <td>-0.212916</td>\n",
       "      <td>1.559651</td>\n",
       "      <td>0.949264</td>\n",
       "      <td>2.303459</td>\n",
       "      <td>-2.250793</td>\n",
       "      <td>-2.721658</td>\n",
       "    </tr>\n",
       "    <tr>\n",
       "      <th>1</th>\n",
       "      <td>3.782134</td>\n",
       "      <td>-1.697651</td>\n",
       "      <td>2.909067</td>\n",
       "      <td>-1.452808</td>\n",
       "      <td>-0.388124</td>\n",
       "      <td>1.107676</td>\n",
       "      <td>2.303459</td>\n",
       "      <td>-1.993671</td>\n",
       "      <td>-1.151872</td>\n",
       "    </tr>\n",
       "    <tr>\n",
       "      <th>2</th>\n",
       "      <td>3.961757</td>\n",
       "      <td>-0.973856</td>\n",
       "      <td>2.509441</td>\n",
       "      <td>-2.929817</td>\n",
       "      <td>-1.195923</td>\n",
       "      <td>0.061350</td>\n",
       "      <td>2.010507</td>\n",
       "      <td>-1.825753</td>\n",
       "      <td>-0.773722</td>\n",
       "    </tr>\n",
       "    <tr>\n",
       "      <th>3</th>\n",
       "      <td>4.827207</td>\n",
       "      <td>0.680977</td>\n",
       "      <td>1.469164</td>\n",
       "      <td>-3.026668</td>\n",
       "      <td>-0.848709</td>\n",
       "      <td>1.208102</td>\n",
       "      <td>-0.189652</td>\n",
       "      <td>-2.250793</td>\n",
       "      <td>1.961160</td>\n",
       "    </tr>\n",
       "    <tr>\n",
       "      <th>4</th>\n",
       "      <td>5.060407</td>\n",
       "      <td>0.322208</td>\n",
       "      <td>2.909067</td>\n",
       "      <td>-3.026668</td>\n",
       "      <td>2.737659</td>\n",
       "      <td>2.132296</td>\n",
       "      <td>0.293697</td>\n",
       "      <td>0.908527</td>\n",
       "      <td>0.010329</td>\n",
       "    </tr>\n",
       "  </tbody>\n",
       "</table>\n",
       "</div>"
      ],
      "text/plain": [
       "          0         1         2         3         4         5         6  \\\n",
       "0  2.861646 -2.555304  2.909067 -0.212916  1.559651  0.949264  2.303459   \n",
       "1  3.782134 -1.697651  2.909067 -1.452808 -0.388124  1.107676  2.303459   \n",
       "2  3.961757 -0.973856  2.509441 -2.929817 -1.195923  0.061350  2.010507   \n",
       "3  4.827207  0.680977  1.469164 -3.026668 -0.848709  1.208102 -0.189652   \n",
       "4  5.060407  0.322208  2.909067 -3.026668  2.737659  2.132296  0.293697   \n",
       "\n",
       "          7         8  \n",
       "0 -2.250793 -2.721658  \n",
       "1 -1.993671 -1.151872  \n",
       "2 -1.825753 -0.773722  \n",
       "3 -2.250793  1.961160  \n",
       "4  0.908527  0.010329  "
      ]
     },
     "execution_count": 13,
     "metadata": {},
     "output_type": "execute_result"
    }
   ],
   "source": [
    "spca_eigengenes = spca_eigengenes.clip(np.percentile(spca_eigengenes, 5, axis=0), np.percentile(spca_eigengenes, 95, axis=0), axis=1)\n",
    "spca_eigengenes.head()"
   ]
  },
  {
   "cell_type": "markdown",
   "metadata": {},
   "source": [
    "Sort the eigengenes in descending order of variance:"
   ]
  },
  {
   "cell_type": "code",
   "execution_count": 14,
   "metadata": {},
   "outputs": [
    {
     "data": {
      "text/plain": [
       "array([0, 1, 2, 4, 5, 3, 7, 8, 6])"
      ]
     },
     "execution_count": 14,
     "metadata": {},
     "output_type": "execute_result"
    }
   ],
   "source": [
    "eig_std = np.array(spca_eigengenes.std().sort_values(ascending=False).index)\n",
    "eig_std"
   ]
  },
  {
   "cell_type": "markdown",
   "metadata": {},
   "source": [
    "Reorder the columns of the dataframe in descending order of variance:"
   ]
  },
  {
   "cell_type": "code",
   "execution_count": 15,
   "metadata": {
    "collapsed": true
   },
   "outputs": [],
   "source": [
    "spca_eigengenes = spca_eigengenes[eig_std]"
   ]
  },
  {
   "cell_type": "markdown",
   "metadata": {},
   "source": [
    "Plot the three eigengenes with the largest variance:"
   ]
  },
  {
   "cell_type": "code",
   "execution_count": 16,
   "metadata": {},
   "outputs": [
    {
     "data": {
      "image/png": "[encoded data removed]",
      "text/plain": [
       "<Figure size 720x576 with 1 Axes>"
      ]
     },
     "metadata": {},
     "output_type": "display_data"
    }
   ],
   "source": [
    "times = np.linspace(1,nc,nc)\n",
    "\n",
    "eg1 = spca_eigengenes.iloc[:,0]\n",
    "eg2 = spca_eigengenes.iloc[:,1]\n",
    "eg3 = spca_eigengenes.iloc[:,2]\n",
    "\n",
    "plt.figure(figsize=(10,8))\n",
    "plt.scatter(times, eg1, label=\"First Eigengene\")\n",
    "plt.scatter(times, eg2, label=\"Second Eigengene\")\n",
    "plt.scatter(times, eg3, label=\"Third Eigengene\")\n",
    "plt.title('Plot of the first three eigengenes (principal components) with the largest variance', size=15)\n",
    "plt.legend(loc=[1.01,0])\n",
    "plt.show()"
   ]
  },
  {
   "cell_type": "markdown",
   "metadata": {},
   "source": [
    "Next, plot these three eigengenes against each other:"
   ]
  },
  {
   "cell_type": "code",
   "execution_count": 17,
   "metadata": {},
   "outputs": [
    {
     "data": {
      "text/plain": [
       "Text(0.5, 1.0, '2nd vs 3rd')"
      ]
     },
     "execution_count": 17,
     "metadata": {},
     "output_type": "execute_result"
    },
    {
     "data": {
      "image/png": "[encoded data removed]",
      "text/plain": [
       "<Figure size 1296x432 with 3 Axes>"
      ]
     },
     "metadata": {},
     "output_type": "display_data"
    }
   ],
   "source": [
    "f, (ax1, ax2, ax3) = plt.subplots(1, 3, figsize = (18,6))\n",
    "plt.suptitle('Plot of first 3 eigengenes with the largest variance against each other', size=20)\n",
    "\n",
    "ax1.scatter(eg1, eg2)\n",
    "ax1.set_title('1st vs 2nd', size=15)\n",
    "ax2.scatter(eg1, eg3)\n",
    "ax2.set_title('1st vs 3rd', size=15)\n",
    "ax3.scatter(eg2, eg3)\n",
    "ax3.set_title('2nd vs 3rd', size=15)"
   ]
  },
  {
   "cell_type": "markdown",
   "metadata": {},
   "source": [
    "## 4. Creating the autoencoder model"
   ]
  },
  {
   "cell_type": "code",
   "execution_count": 18,
   "metadata": {
    "collapsed": true
   },
   "outputs": [],
   "source": [
    "data = spca_eigengenes.to_numpy()"
   ]
  },
  {
   "cell_type": "code",
   "execution_count": 19,
   "metadata": {
    "collapsed": true
   },
   "outputs": [],
   "source": [
    "def jump_control(X):\n",
    "    X_ = X.copy()\n",
    "    pop_list = []\n",
    "    for i in range(1,len(X)):\n",
    "        if X[i]-X[i-1]<10:\n",
    "            pop_list.append(i)\n",
    "    pop_list.sort(reverse=True)\n",
    "    for i in pop_list:\n",
    "        X_.pop(i)\n",
    "    return X_\n",
    "\n",
    "def iterr(data):\n",
    "    model = cyclops(data.shape[1])\n",
    "    n_epochs = 500\n",
    "    history = model.train(data[np.random.permutation(data.shape[0]), :], epochs=n_epochs, verbose=n_epochs, batch_size=10)\n",
    "\n",
    "    loss = history.history['loss'][-1]\n",
    "    \n",
    "    phase_df = model.phase_output(data)\n",
    "    phase_idx = phase_df.index.to_numpy()\n",
    "    phase_list = phase_df.pseudotime.to_numpy()\n",
    "    \n",
    "    zipped = list(zip(phase_idx,phase_list))\n",
    "    re_phase_list = np.array([sorted(zipped, key = lambda t: t[0])[i][1] for i in range(len(zipped))])\n",
    "    re_phase_idx = np.array([sorted(zipped, key = lambda t: t[0])[i][0] for i in range(len(zipped))])\n",
    "    \n",
    "    asc_phase_jump, desc_phase_jump = [],[]\n",
    "    for i in range(len(re_phase_list)-1):\n",
    "        if re_phase_list[i+1]-re_phase_list[i] > np.pi:\n",
    "            desc_phase_jump.append(i)\n",
    "        elif re_phase_list[i+1]-re_phase_list[i] < -np.pi:\n",
    "            asc_phase_jump.append(i)\n",
    "            \n",
    "    if len(asc_phase_jump) > len(desc_phase_jump):\n",
    "        phase_jump = asc_phase_jump\n",
    "    else:\n",
    "        phase_jump = desc_phase_jump\n",
    "\n",
    "\n",
    "    phase_jump = jump_control(phase_jump)\n",
    "\n",
    "    jumps = len(phase_jump)\n",
    "    for i in range(jumps):\n",
    "        if len(asc_phase_jump) > len(desc_phase_jump):\n",
    "            re_phase_list = np.array([re_phase_list[i] if i < phase_jump[0]+1 else re_phase_list[i] + 2*np.pi for i in range(len(zipped))])\n",
    "        else:\n",
    "            re_phase_list = np.array([re_phase_list[i] if i < phase_jump[0]+1 else re_phase_list[i] - 2*np.pi for i in range(len(zipped))])\n",
    "        phase_jump.pop(0)\n",
    "    \n",
    "    from scipy.stats import linregress\n",
    "\n",
    "    lin = linregress(re_phase_idx, re_phase_list)\n",
    "    \n",
    "    r_squared = lin[2]**2\n",
    "    \n",
    "    return loss, r_squared"
   ]
  },
  {
   "cell_type": "code",
   "execution_count": 20,
   "metadata": {
    "collapsed": true
   },
   "outputs": [],
   "source": [
    "%%capture\n",
    "%%time\n",
    "\n",
    "n_iter = 50\n",
    "\n",
    "iter_list = np.zeros([n_iter,2])\n",
    "\n",
    "for i in range(n_iter):\n",
    "    iter_list[i] = iterr(data)"
   ]
  },
  {
   "cell_type": "code",
   "execution_count": 21,
   "metadata": {
    "collapsed": true
   },
   "outputs": [],
   "source": [
    "cs = np.array([iter_list[i][0] for i in range(len(iter_list))])\n",
    "r2 = np.array([iter_list[i][1] for i in range(len(iter_list))])"
   ]
  },
  {
   "cell_type": "code",
   "execution_count": 22,
   "metadata": {},
   "outputs": [
    {
     "name": "stderr",
     "output_type": "stream",
     "text": [
      "/Users/henrylim/.local/lib/python3.6/site-packages/matplotlib/__init__.py:886: MatplotlibDeprecationWarning: \n",
      "examples.directory is deprecated; in the future, examples will be found relative to the 'datapath' directory.\n",
      "  \"found relative to the 'datapath' directory.\".format(key))\n"
     ]
    },
    {
     "data": {
      "image/png": "[encoded data removed]",
      "text/plain": [
       "<Figure size 720x576 with 1 Axes>"
      ]
     },
     "metadata": {},
     "output_type": "display_data"
    }
   ],
   "source": [
    "import seaborn as sns\n",
    "import statistics\n",
    "\n",
    "plt.figure(figsize=(10,8))\n",
    "sns.boxplot(r2)\n",
    "plt.xlabel(r'$R^2$ value', size=15)\n",
    "plt.title(r'Boxplot of $R^2$ values for Hughes Liver Data (Sparse PCA: Karthik), Median = {:.4f}'.format(statistics.median(r2)), size=20)\n",
    "plt.show()"
   ]
  },
  {
   "cell_type": "code",
   "execution_count": null,
   "metadata": {
    "collapsed": true
   },
   "outputs": [],
   "source": []
  }
 ],
 "metadata": {
  "kernelspec": {
   "display_name": "Python 3",
   "language": "python",
   "name": "python3"
  },
  "language_info": {
   "codemirror_mode": {
    "name": "ipython",
    "version": 3
   },
   "file_extension": ".py",
   "mimetype": "text/x-python",
   "name": "python",
   "nbconvert_exporter": "python",
   "pygments_lexer": "ipython3",
   "version": "3.6.10"
  }
 },
 "nbformat": 4,
 "nbformat_minor": 2
}
